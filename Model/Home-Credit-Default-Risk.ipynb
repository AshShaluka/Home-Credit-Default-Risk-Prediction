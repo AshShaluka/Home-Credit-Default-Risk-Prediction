{
 "cells": [
  {
   "cell_type": "markdown",
   "metadata": {},
   "source": [
    "<h1>Home Credit Default Risk</h1>"
   ]
  },
  {
   "cell_type": "markdown",
   "metadata": {},
   "source": [
    "<h2>Importing libraries</h2>"
   ]
  },
  {
   "cell_type": "code",
   "execution_count": 2,
   "metadata": {},
   "outputs": [],
   "source": [
    "import numpy as np\n",
    "import pandas as pd\n",
    "import matplotlib.pyplot as plt\n",
    "import seaborn as sns\n",
    "\n",
    "#Removing unnecessary warnings\n",
    "import warnings \n",
    "warnings.filterwarnings(\"ignore\")\n",
    "\n",
    "#Display plots on the notebook\n",
    "%matplotlib inline"
   ]
  },
  {
   "cell_type": "markdown",
   "metadata": {},
   "source": [
    "<h2>Reading data files</h2>"
   ]
  },
  {
   "cell_type": "code",
   "execution_count": 3,
   "metadata": {},
   "outputs": [],
   "source": [
    "train = pd.read_csv(\"../ML_Exam/data/application_train.csv\")\n",
    "test = pd.read_csv(\"../ML_Exam/data/application_test.csv\")\n",
    "\n",
    "new_test = pd.read_csv(\"../ML_Exam/data/new_test.csv\")"
   ]
  },
  {
   "cell_type": "markdown",
   "metadata": {},
   "source": [
    "<h2>Data Statistics</h2>"
   ]
  },
  {
   "cell_type": "markdown",
   "metadata": {},
   "source": [
    "<b>Train Data Statistics</b>"
   ]
  },
  {
   "cell_type": "code",
   "execution_count": 4,
   "metadata": {},
   "outputs": [
    {
     "data": {
      "text/html": [
       "<div>\n",
       "<style scoped>\n",
       "    .dataframe tbody tr th:only-of-type {\n",
       "        vertical-align: middle;\n",
       "    }\n",
       "\n",
       "    .dataframe tbody tr th {\n",
       "        vertical-align: top;\n",
       "    }\n",
       "\n",
       "    .dataframe thead th {\n",
       "        text-align: right;\n",
       "    }\n",
       "</style>\n",
       "<table border=\"1\" class=\"dataframe\">\n",
       "  <thead>\n",
       "    <tr style=\"text-align: right;\">\n",
       "      <th></th>\n",
       "      <th>SK_ID_CURR</th>\n",
       "      <th>TARGET</th>\n",
       "      <th>CNT_CHILDREN</th>\n",
       "      <th>AMT_INCOME_TOTAL</th>\n",
       "      <th>AMT_CREDIT</th>\n",
       "      <th>AMT_ANNUITY</th>\n",
       "      <th>AMT_GOODS_PRICE</th>\n",
       "      <th>REGION_POPULATION_RELATIVE</th>\n",
       "      <th>DAYS_BIRTH</th>\n",
       "      <th>DAYS_EMPLOYED</th>\n",
       "      <th>...</th>\n",
       "      <th>FLAG_DOCUMENT_18</th>\n",
       "      <th>FLAG_DOCUMENT_19</th>\n",
       "      <th>FLAG_DOCUMENT_20</th>\n",
       "      <th>FLAG_DOCUMENT_21</th>\n",
       "      <th>AMT_REQ_CREDIT_BUREAU_HOUR</th>\n",
       "      <th>AMT_REQ_CREDIT_BUREAU_DAY</th>\n",
       "      <th>AMT_REQ_CREDIT_BUREAU_WEEK</th>\n",
       "      <th>AMT_REQ_CREDIT_BUREAU_MON</th>\n",
       "      <th>AMT_REQ_CREDIT_BUREAU_QRT</th>\n",
       "      <th>AMT_REQ_CREDIT_BUREAU_YEAR</th>\n",
       "    </tr>\n",
       "  </thead>\n",
       "  <tbody>\n",
       "    <tr>\n",
       "      <th>count</th>\n",
       "      <td>307511.000000</td>\n",
       "      <td>307511.000000</td>\n",
       "      <td>307511.000000</td>\n",
       "      <td>3.075110e+05</td>\n",
       "      <td>3.075110e+05</td>\n",
       "      <td>307499.000000</td>\n",
       "      <td>3.072330e+05</td>\n",
       "      <td>307511.000000</td>\n",
       "      <td>307511.000000</td>\n",
       "      <td>307511.000000</td>\n",
       "      <td>...</td>\n",
       "      <td>307511.000000</td>\n",
       "      <td>307511.000000</td>\n",
       "      <td>307511.000000</td>\n",
       "      <td>307511.000000</td>\n",
       "      <td>265992.000000</td>\n",
       "      <td>265992.000000</td>\n",
       "      <td>265992.000000</td>\n",
       "      <td>265992.000000</td>\n",
       "      <td>265992.000000</td>\n",
       "      <td>265992.000000</td>\n",
       "    </tr>\n",
       "    <tr>\n",
       "      <th>mean</th>\n",
       "      <td>278180.518577</td>\n",
       "      <td>0.080729</td>\n",
       "      <td>0.417052</td>\n",
       "      <td>1.687979e+05</td>\n",
       "      <td>5.990260e+05</td>\n",
       "      <td>27108.573909</td>\n",
       "      <td>5.383962e+05</td>\n",
       "      <td>0.020868</td>\n",
       "      <td>-16036.995067</td>\n",
       "      <td>63815.045904</td>\n",
       "      <td>...</td>\n",
       "      <td>0.008130</td>\n",
       "      <td>0.000595</td>\n",
       "      <td>0.000507</td>\n",
       "      <td>0.000335</td>\n",
       "      <td>0.006402</td>\n",
       "      <td>0.007000</td>\n",
       "      <td>0.034362</td>\n",
       "      <td>0.267395</td>\n",
       "      <td>0.265474</td>\n",
       "      <td>1.899974</td>\n",
       "    </tr>\n",
       "    <tr>\n",
       "      <th>std</th>\n",
       "      <td>102790.175348</td>\n",
       "      <td>0.272419</td>\n",
       "      <td>0.722121</td>\n",
       "      <td>2.371231e+05</td>\n",
       "      <td>4.024908e+05</td>\n",
       "      <td>14493.737315</td>\n",
       "      <td>3.694465e+05</td>\n",
       "      <td>0.013831</td>\n",
       "      <td>4363.988632</td>\n",
       "      <td>141275.766519</td>\n",
       "      <td>...</td>\n",
       "      <td>0.089798</td>\n",
       "      <td>0.024387</td>\n",
       "      <td>0.022518</td>\n",
       "      <td>0.018299</td>\n",
       "      <td>0.083849</td>\n",
       "      <td>0.110757</td>\n",
       "      <td>0.204685</td>\n",
       "      <td>0.916002</td>\n",
       "      <td>0.794056</td>\n",
       "      <td>1.869295</td>\n",
       "    </tr>\n",
       "    <tr>\n",
       "      <th>min</th>\n",
       "      <td>100002.000000</td>\n",
       "      <td>0.000000</td>\n",
       "      <td>0.000000</td>\n",
       "      <td>2.565000e+04</td>\n",
       "      <td>4.500000e+04</td>\n",
       "      <td>1615.500000</td>\n",
       "      <td>4.050000e+04</td>\n",
       "      <td>0.000290</td>\n",
       "      <td>-25229.000000</td>\n",
       "      <td>-17912.000000</td>\n",
       "      <td>...</td>\n",
       "      <td>0.000000</td>\n",
       "      <td>0.000000</td>\n",
       "      <td>0.000000</td>\n",
       "      <td>0.000000</td>\n",
       "      <td>0.000000</td>\n",
       "      <td>0.000000</td>\n",
       "      <td>0.000000</td>\n",
       "      <td>0.000000</td>\n",
       "      <td>0.000000</td>\n",
       "      <td>0.000000</td>\n",
       "    </tr>\n",
       "    <tr>\n",
       "      <th>25%</th>\n",
       "      <td>189145.500000</td>\n",
       "      <td>0.000000</td>\n",
       "      <td>0.000000</td>\n",
       "      <td>1.125000e+05</td>\n",
       "      <td>2.700000e+05</td>\n",
       "      <td>16524.000000</td>\n",
       "      <td>2.385000e+05</td>\n",
       "      <td>0.010006</td>\n",
       "      <td>-19682.000000</td>\n",
       "      <td>-2760.000000</td>\n",
       "      <td>...</td>\n",
       "      <td>0.000000</td>\n",
       "      <td>0.000000</td>\n",
       "      <td>0.000000</td>\n",
       "      <td>0.000000</td>\n",
       "      <td>0.000000</td>\n",
       "      <td>0.000000</td>\n",
       "      <td>0.000000</td>\n",
       "      <td>0.000000</td>\n",
       "      <td>0.000000</td>\n",
       "      <td>0.000000</td>\n",
       "    </tr>\n",
       "    <tr>\n",
       "      <th>50%</th>\n",
       "      <td>278202.000000</td>\n",
       "      <td>0.000000</td>\n",
       "      <td>0.000000</td>\n",
       "      <td>1.471500e+05</td>\n",
       "      <td>5.135310e+05</td>\n",
       "      <td>24903.000000</td>\n",
       "      <td>4.500000e+05</td>\n",
       "      <td>0.018850</td>\n",
       "      <td>-15750.000000</td>\n",
       "      <td>-1213.000000</td>\n",
       "      <td>...</td>\n",
       "      <td>0.000000</td>\n",
       "      <td>0.000000</td>\n",
       "      <td>0.000000</td>\n",
       "      <td>0.000000</td>\n",
       "      <td>0.000000</td>\n",
       "      <td>0.000000</td>\n",
       "      <td>0.000000</td>\n",
       "      <td>0.000000</td>\n",
       "      <td>0.000000</td>\n",
       "      <td>1.000000</td>\n",
       "    </tr>\n",
       "    <tr>\n",
       "      <th>75%</th>\n",
       "      <td>367142.500000</td>\n",
       "      <td>0.000000</td>\n",
       "      <td>1.000000</td>\n",
       "      <td>2.025000e+05</td>\n",
       "      <td>8.086500e+05</td>\n",
       "      <td>34596.000000</td>\n",
       "      <td>6.795000e+05</td>\n",
       "      <td>0.028663</td>\n",
       "      <td>-12413.000000</td>\n",
       "      <td>-289.000000</td>\n",
       "      <td>...</td>\n",
       "      <td>0.000000</td>\n",
       "      <td>0.000000</td>\n",
       "      <td>0.000000</td>\n",
       "      <td>0.000000</td>\n",
       "      <td>0.000000</td>\n",
       "      <td>0.000000</td>\n",
       "      <td>0.000000</td>\n",
       "      <td>0.000000</td>\n",
       "      <td>0.000000</td>\n",
       "      <td>3.000000</td>\n",
       "    </tr>\n",
       "    <tr>\n",
       "      <th>max</th>\n",
       "      <td>456255.000000</td>\n",
       "      <td>1.000000</td>\n",
       "      <td>19.000000</td>\n",
       "      <td>1.170000e+08</td>\n",
       "      <td>4.050000e+06</td>\n",
       "      <td>258025.500000</td>\n",
       "      <td>4.050000e+06</td>\n",
       "      <td>0.072508</td>\n",
       "      <td>-7489.000000</td>\n",
       "      <td>365243.000000</td>\n",
       "      <td>...</td>\n",
       "      <td>1.000000</td>\n",
       "      <td>1.000000</td>\n",
       "      <td>1.000000</td>\n",
       "      <td>1.000000</td>\n",
       "      <td>4.000000</td>\n",
       "      <td>9.000000</td>\n",
       "      <td>8.000000</td>\n",
       "      <td>27.000000</td>\n",
       "      <td>261.000000</td>\n",
       "      <td>25.000000</td>\n",
       "    </tr>\n",
       "  </tbody>\n",
       "</table>\n",
       "<p>8 rows × 106 columns</p>\n",
       "</div>"
      ],
      "text/plain": [
       "          SK_ID_CURR         TARGET   CNT_CHILDREN  AMT_INCOME_TOTAL  \\\n",
       "count  307511.000000  307511.000000  307511.000000      3.075110e+05   \n",
       "mean   278180.518577       0.080729       0.417052      1.687979e+05   \n",
       "std    102790.175348       0.272419       0.722121      2.371231e+05   \n",
       "min    100002.000000       0.000000       0.000000      2.565000e+04   \n",
       "25%    189145.500000       0.000000       0.000000      1.125000e+05   \n",
       "50%    278202.000000       0.000000       0.000000      1.471500e+05   \n",
       "75%    367142.500000       0.000000       1.000000      2.025000e+05   \n",
       "max    456255.000000       1.000000      19.000000      1.170000e+08   \n",
       "\n",
       "         AMT_CREDIT    AMT_ANNUITY  AMT_GOODS_PRICE  \\\n",
       "count  3.075110e+05  307499.000000     3.072330e+05   \n",
       "mean   5.990260e+05   27108.573909     5.383962e+05   \n",
       "std    4.024908e+05   14493.737315     3.694465e+05   \n",
       "min    4.500000e+04    1615.500000     4.050000e+04   \n",
       "25%    2.700000e+05   16524.000000     2.385000e+05   \n",
       "50%    5.135310e+05   24903.000000     4.500000e+05   \n",
       "75%    8.086500e+05   34596.000000     6.795000e+05   \n",
       "max    4.050000e+06  258025.500000     4.050000e+06   \n",
       "\n",
       "       REGION_POPULATION_RELATIVE     DAYS_BIRTH  DAYS_EMPLOYED  ...  \\\n",
       "count               307511.000000  307511.000000  307511.000000  ...   \n",
       "mean                     0.020868  -16036.995067   63815.045904  ...   \n",
       "std                      0.013831    4363.988632  141275.766519  ...   \n",
       "min                      0.000290  -25229.000000  -17912.000000  ...   \n",
       "25%                      0.010006  -19682.000000   -2760.000000  ...   \n",
       "50%                      0.018850  -15750.000000   -1213.000000  ...   \n",
       "75%                      0.028663  -12413.000000    -289.000000  ...   \n",
       "max                      0.072508   -7489.000000  365243.000000  ...   \n",
       "\n",
       "       FLAG_DOCUMENT_18  FLAG_DOCUMENT_19  FLAG_DOCUMENT_20  FLAG_DOCUMENT_21  \\\n",
       "count     307511.000000     307511.000000     307511.000000     307511.000000   \n",
       "mean           0.008130          0.000595          0.000507          0.000335   \n",
       "std            0.089798          0.024387          0.022518          0.018299   \n",
       "min            0.000000          0.000000          0.000000          0.000000   \n",
       "25%            0.000000          0.000000          0.000000          0.000000   \n",
       "50%            0.000000          0.000000          0.000000          0.000000   \n",
       "75%            0.000000          0.000000          0.000000          0.000000   \n",
       "max            1.000000          1.000000          1.000000          1.000000   \n",
       "\n",
       "       AMT_REQ_CREDIT_BUREAU_HOUR  AMT_REQ_CREDIT_BUREAU_DAY  \\\n",
       "count               265992.000000              265992.000000   \n",
       "mean                     0.006402                   0.007000   \n",
       "std                      0.083849                   0.110757   \n",
       "min                      0.000000                   0.000000   \n",
       "25%                      0.000000                   0.000000   \n",
       "50%                      0.000000                   0.000000   \n",
       "75%                      0.000000                   0.000000   \n",
       "max                      4.000000                   9.000000   \n",
       "\n",
       "       AMT_REQ_CREDIT_BUREAU_WEEK  AMT_REQ_CREDIT_BUREAU_MON  \\\n",
       "count               265992.000000              265992.000000   \n",
       "mean                     0.034362                   0.267395   \n",
       "std                      0.204685                   0.916002   \n",
       "min                      0.000000                   0.000000   \n",
       "25%                      0.000000                   0.000000   \n",
       "50%                      0.000000                   0.000000   \n",
       "75%                      0.000000                   0.000000   \n",
       "max                      8.000000                  27.000000   \n",
       "\n",
       "       AMT_REQ_CREDIT_BUREAU_QRT  AMT_REQ_CREDIT_BUREAU_YEAR  \n",
       "count              265992.000000               265992.000000  \n",
       "mean                    0.265474                    1.899974  \n",
       "std                     0.794056                    1.869295  \n",
       "min                     0.000000                    0.000000  \n",
       "25%                     0.000000                    0.000000  \n",
       "50%                     0.000000                    1.000000  \n",
       "75%                     0.000000                    3.000000  \n",
       "max                   261.000000                   25.000000  \n",
       "\n",
       "[8 rows x 106 columns]"
      ]
     },
     "execution_count": 4,
     "metadata": {},
     "output_type": "execute_result"
    }
   ],
   "source": [
    "train.describe()"
   ]
  },
  {
   "cell_type": "markdown",
   "metadata": {},
   "source": [
    "<h2>Target Labels of Train Dataset</h2>"
   ]
  },
  {
   "cell_type": "code",
   "execution_count": 5,
   "metadata": {},
   "outputs": [
    {
     "data": {
      "text/plain": [
       "<matplotlib.axes._subplots.AxesSubplot at 0x1a697988>"
      ]
     },
     "execution_count": 5,
     "metadata": {},
     "output_type": "execute_result"
    },
    {
     "data": {
      "image/png": "[encoded data removed]",
      "text/plain": [
       "<Figure size 432x288 with 1 Axes>"
      ]
     },
     "metadata": {
      "needs_background": "light"
     },
     "output_type": "display_data"
    }
   ],
   "source": [
    "#Label is a binary varioble. 0 = will pay loan on time. 1 = having difficulties to repay the loan\n",
    "sns.countplot(train.TARGET)"
   ]
  },
  {
   "cell_type": "code",
   "execution_count": 6,
   "metadata": {},
   "outputs": [
    {
     "data": {
      "text/plain": [
       "0    282686\n",
       "1     24825\n",
       "Name: TARGET, dtype: int64"
      ]
     },
     "execution_count": 6,
     "metadata": {},
     "output_type": "execute_result"
    }
   ],
   "source": [
    "#Train Target value count\n",
    "train['TARGET'].value_counts()"
   ]
  },
  {
   "cell_type": "markdown",
   "metadata": {},
   "source": [
    "<h2>Train and Test Dataset Dimensions</h2>"
   ]
  },
  {
   "cell_type": "code",
   "execution_count": 7,
   "metadata": {},
   "outputs": [
    {
     "name": "stdout",
     "output_type": "stream",
     "text": [
      "Train dataset dimensions: (307511, 122)\n",
      "Test dataset dimensions: (48744, 121)\n",
      "New_test dataset dimensions: (124, 121)\n"
     ]
    }
   ],
   "source": [
    "print(\"Train dataset dimensions: {}\".format(train.shape))\n",
    "print(\"Test dataset dimensions: {}\".format(test.shape))\n",
    "print(\"New_test dataset dimensions: {}\".format(new_test.shape))"
   ]
  },
  {
   "cell_type": "markdown",
   "metadata": {},
   "source": [
    "<h2>Test Datasets</h2>"
   ]
  },
  {
   "cell_type": "markdown",
   "metadata": {},
   "source": [
    "<b>Test Dataset</b>"
   ]
  },
  {
   "cell_type": "code",
   "execution_count": 8,
   "metadata": {},
   "outputs": [
    {
     "data": {
      "text/html": [
       "<div>\n",
       "<style scoped>\n",
       "    .dataframe tbody tr th:only-of-type {\n",
       "        vertical-align: middle;\n",
       "    }\n",
       "\n",
       "    .dataframe tbody tr th {\n",
       "        vertical-align: top;\n",
       "    }\n",
       "\n",
       "    .dataframe thead th {\n",
       "        text-align: right;\n",
       "    }\n",
       "</style>\n",
       "<table border=\"1\" class=\"dataframe\">\n",
       "  <thead>\n",
       "    <tr style=\"text-align: right;\">\n",
       "      <th></th>\n",
       "      <th>SK_ID_CURR</th>\n",
       "      <th>NAME_CONTRACT_TYPE</th>\n",
       "      <th>CODE_GENDER</th>\n",
       "      <th>FLAG_OWN_CAR</th>\n",
       "      <th>FLAG_OWN_REALTY</th>\n",
       "      <th>CNT_CHILDREN</th>\n",
       "      <th>AMT_INCOME_TOTAL</th>\n",
       "      <th>AMT_CREDIT</th>\n",
       "      <th>AMT_ANNUITY</th>\n",
       "      <th>AMT_GOODS_PRICE</th>\n",
       "      <th>...</th>\n",
       "      <th>FLAG_DOCUMENT_18</th>\n",
       "      <th>FLAG_DOCUMENT_19</th>\n",
       "      <th>FLAG_DOCUMENT_20</th>\n",
       "      <th>FLAG_DOCUMENT_21</th>\n",
       "      <th>AMT_REQ_CREDIT_BUREAU_HOUR</th>\n",
       "      <th>AMT_REQ_CREDIT_BUREAU_DAY</th>\n",
       "      <th>AMT_REQ_CREDIT_BUREAU_WEEK</th>\n",
       "      <th>AMT_REQ_CREDIT_BUREAU_MON</th>\n",
       "      <th>AMT_REQ_CREDIT_BUREAU_QRT</th>\n",
       "      <th>AMT_REQ_CREDIT_BUREAU_YEAR</th>\n",
       "    </tr>\n",
       "  </thead>\n",
       "  <tbody>\n",
       "    <tr>\n",
       "      <th>0</th>\n",
       "      <td>100001</td>\n",
       "      <td>Cash loans</td>\n",
       "      <td>F</td>\n",
       "      <td>N</td>\n",
       "      <td>Y</td>\n",
       "      <td>0</td>\n",
       "      <td>135000.0</td>\n",
       "      <td>568800.0</td>\n",
       "      <td>20560.5</td>\n",
       "      <td>450000.0</td>\n",
       "      <td>...</td>\n",
       "      <td>0</td>\n",
       "      <td>0</td>\n",
       "      <td>0</td>\n",
       "      <td>0</td>\n",
       "      <td>0.0</td>\n",
       "      <td>0.0</td>\n",
       "      <td>0.0</td>\n",
       "      <td>0.0</td>\n",
       "      <td>0.0</td>\n",
       "      <td>0.0</td>\n",
       "    </tr>\n",
       "    <tr>\n",
       "      <th>1</th>\n",
       "      <td>100005</td>\n",
       "      <td>Cash loans</td>\n",
       "      <td>M</td>\n",
       "      <td>N</td>\n",
       "      <td>Y</td>\n",
       "      <td>0</td>\n",
       "      <td>99000.0</td>\n",
       "      <td>222768.0</td>\n",
       "      <td>17370.0</td>\n",
       "      <td>180000.0</td>\n",
       "      <td>...</td>\n",
       "      <td>0</td>\n",
       "      <td>0</td>\n",
       "      <td>0</td>\n",
       "      <td>0</td>\n",
       "      <td>0.0</td>\n",
       "      <td>0.0</td>\n",
       "      <td>0.0</td>\n",
       "      <td>0.0</td>\n",
       "      <td>0.0</td>\n",
       "      <td>3.0</td>\n",
       "    </tr>\n",
       "    <tr>\n",
       "      <th>2</th>\n",
       "      <td>100013</td>\n",
       "      <td>Cash loans</td>\n",
       "      <td>M</td>\n",
       "      <td>Y</td>\n",
       "      <td>Y</td>\n",
       "      <td>0</td>\n",
       "      <td>202500.0</td>\n",
       "      <td>663264.0</td>\n",
       "      <td>69777.0</td>\n",
       "      <td>630000.0</td>\n",
       "      <td>...</td>\n",
       "      <td>0</td>\n",
       "      <td>0</td>\n",
       "      <td>0</td>\n",
       "      <td>0</td>\n",
       "      <td>0.0</td>\n",
       "      <td>0.0</td>\n",
       "      <td>0.0</td>\n",
       "      <td>0.0</td>\n",
       "      <td>1.0</td>\n",
       "      <td>4.0</td>\n",
       "    </tr>\n",
       "    <tr>\n",
       "      <th>3</th>\n",
       "      <td>100028</td>\n",
       "      <td>Cash loans</td>\n",
       "      <td>F</td>\n",
       "      <td>N</td>\n",
       "      <td>Y</td>\n",
       "      <td>2</td>\n",
       "      <td>315000.0</td>\n",
       "      <td>1575000.0</td>\n",
       "      <td>49018.5</td>\n",
       "      <td>1575000.0</td>\n",
       "      <td>...</td>\n",
       "      <td>0</td>\n",
       "      <td>0</td>\n",
       "      <td>0</td>\n",
       "      <td>0</td>\n",
       "      <td>0.0</td>\n",
       "      <td>0.0</td>\n",
       "      <td>0.0</td>\n",
       "      <td>0.0</td>\n",
       "      <td>0.0</td>\n",
       "      <td>3.0</td>\n",
       "    </tr>\n",
       "    <tr>\n",
       "      <th>4</th>\n",
       "      <td>100038</td>\n",
       "      <td>Cash loans</td>\n",
       "      <td>M</td>\n",
       "      <td>Y</td>\n",
       "      <td>N</td>\n",
       "      <td>1</td>\n",
       "      <td>180000.0</td>\n",
       "      <td>625500.0</td>\n",
       "      <td>32067.0</td>\n",
       "      <td>625500.0</td>\n",
       "      <td>...</td>\n",
       "      <td>0</td>\n",
       "      <td>0</td>\n",
       "      <td>0</td>\n",
       "      <td>0</td>\n",
       "      <td>NaN</td>\n",
       "      <td>NaN</td>\n",
       "      <td>NaN</td>\n",
       "      <td>NaN</td>\n",
       "      <td>NaN</td>\n",
       "      <td>NaN</td>\n",
       "    </tr>\n",
       "  </tbody>\n",
       "</table>\n",
       "<p>5 rows × 121 columns</p>\n",
       "</div>"
      ],
      "text/plain": [
       "   SK_ID_CURR NAME_CONTRACT_TYPE CODE_GENDER FLAG_OWN_CAR FLAG_OWN_REALTY  \\\n",
       "0      100001         Cash loans           F            N               Y   \n",
       "1      100005         Cash loans           M            N               Y   \n",
       "2      100013         Cash loans           M            Y               Y   \n",
       "3      100028         Cash loans           F            N               Y   \n",
       "4      100038         Cash loans           M            Y               N   \n",
       "\n",
       "   CNT_CHILDREN  AMT_INCOME_TOTAL  AMT_CREDIT  AMT_ANNUITY  AMT_GOODS_PRICE  \\\n",
       "0             0          135000.0    568800.0      20560.5         450000.0   \n",
       "1             0           99000.0    222768.0      17370.0         180000.0   \n",
       "2             0          202500.0    663264.0      69777.0         630000.0   \n",
       "3             2          315000.0   1575000.0      49018.5        1575000.0   \n",
       "4             1          180000.0    625500.0      32067.0         625500.0   \n",
       "\n",
       "   ... FLAG_DOCUMENT_18 FLAG_DOCUMENT_19 FLAG_DOCUMENT_20 FLAG_DOCUMENT_21  \\\n",
       "0  ...                0                0                0                0   \n",
       "1  ...                0                0                0                0   \n",
       "2  ...                0                0                0                0   \n",
       "3  ...                0                0                0                0   \n",
       "4  ...                0                0                0                0   \n",
       "\n",
       "  AMT_REQ_CREDIT_BUREAU_HOUR  AMT_REQ_CREDIT_BUREAU_DAY  \\\n",
       "0                        0.0                        0.0   \n",
       "1                        0.0                        0.0   \n",
       "2                        0.0                        0.0   \n",
       "3                        0.0                        0.0   \n",
       "4                        NaN                        NaN   \n",
       "\n",
       "   AMT_REQ_CREDIT_BUREAU_WEEK  AMT_REQ_CREDIT_BUREAU_MON  \\\n",
       "0                         0.0                        0.0   \n",
       "1                         0.0                        0.0   \n",
       "2                         0.0                        0.0   \n",
       "3                         0.0                        0.0   \n",
       "4                         NaN                        NaN   \n",
       "\n",
       "   AMT_REQ_CREDIT_BUREAU_QRT  AMT_REQ_CREDIT_BUREAU_YEAR  \n",
       "0                        0.0                         0.0  \n",
       "1                        0.0                         3.0  \n",
       "2                        1.0                         4.0  \n",
       "3                        0.0                         3.0  \n",
       "4                        NaN                         NaN  \n",
       "\n",
       "[5 rows x 121 columns]"
      ]
     },
     "execution_count": 8,
     "metadata": {},
     "output_type": "execute_result"
    }
   ],
   "source": [
    "test.head()"
   ]
  },
  {
   "cell_type": "markdown",
   "metadata": {},
   "source": [
    "<b>New_Test Dataset</b>"
   ]
  },
  {
   "cell_type": "code",
   "execution_count": 9,
   "metadata": {},
   "outputs": [
    {
     "data": {
      "text/html": [
       "<div>\n",
       "<style scoped>\n",
       "    .dataframe tbody tr th:only-of-type {\n",
       "        vertical-align: middle;\n",
       "    }\n",
       "\n",
       "    .dataframe tbody tr th {\n",
       "        vertical-align: top;\n",
       "    }\n",
       "\n",
       "    .dataframe thead th {\n",
       "        text-align: right;\n",
       "    }\n",
       "</style>\n",
       "<table border=\"1\" class=\"dataframe\">\n",
       "  <thead>\n",
       "    <tr style=\"text-align: right;\">\n",
       "      <th></th>\n",
       "      <th>SK_ID_CURR</th>\n",
       "      <th>NAME_CONTRACT_TYPE</th>\n",
       "      <th>CODE_GENDER</th>\n",
       "      <th>FLAG_OWN_CAR</th>\n",
       "      <th>FLAG_OWN_REALTY</th>\n",
       "      <th>CNT_CHILDREN</th>\n",
       "      <th>AMT_INCOME_TOTAL</th>\n",
       "      <th>AMT_CREDIT</th>\n",
       "      <th>AMT_ANNUITY</th>\n",
       "      <th>AMT_GOODS_PRICE</th>\n",
       "      <th>...</th>\n",
       "      <th>FLAG_DOCUMENT_18</th>\n",
       "      <th>FLAG_DOCUMENT_19</th>\n",
       "      <th>FLAG_DOCUMENT_20</th>\n",
       "      <th>FLAG_DOCUMENT_21</th>\n",
       "      <th>AMT_REQ_CREDIT_BUREAU_HOUR</th>\n",
       "      <th>AMT_REQ_CREDIT_BUREAU_DAY</th>\n",
       "      <th>AMT_REQ_CREDIT_BUREAU_WEEK</th>\n",
       "      <th>AMT_REQ_CREDIT_BUREAU_MON</th>\n",
       "      <th>AMT_REQ_CREDIT_BUREAU_QRT</th>\n",
       "      <th>AMT_REQ_CREDIT_BUREAU_YEAR</th>\n",
       "    </tr>\n",
       "  </thead>\n",
       "  <tbody>\n",
       "    <tr>\n",
       "      <th>0</th>\n",
       "      <td>100002</td>\n",
       "      <td>Cash loans</td>\n",
       "      <td>M</td>\n",
       "      <td>N</td>\n",
       "      <td>Y</td>\n",
       "      <td>0</td>\n",
       "      <td>202500.0</td>\n",
       "      <td>406597.5</td>\n",
       "      <td>24700.5</td>\n",
       "      <td>351000</td>\n",
       "      <td>...</td>\n",
       "      <td>0</td>\n",
       "      <td>0</td>\n",
       "      <td>0</td>\n",
       "      <td>0</td>\n",
       "      <td>0.0</td>\n",
       "      <td>0.0</td>\n",
       "      <td>0.0</td>\n",
       "      <td>0.0</td>\n",
       "      <td>0.0</td>\n",
       "      <td>1.0</td>\n",
       "    </tr>\n",
       "    <tr>\n",
       "      <th>1</th>\n",
       "      <td>100003</td>\n",
       "      <td>Cash loans</td>\n",
       "      <td>F</td>\n",
       "      <td>N</td>\n",
       "      <td>N</td>\n",
       "      <td>0</td>\n",
       "      <td>270000.0</td>\n",
       "      <td>1293502.5</td>\n",
       "      <td>35698.5</td>\n",
       "      <td>1129500</td>\n",
       "      <td>...</td>\n",
       "      <td>0</td>\n",
       "      <td>0</td>\n",
       "      <td>0</td>\n",
       "      <td>0</td>\n",
       "      <td>0.0</td>\n",
       "      <td>0.0</td>\n",
       "      <td>0.0</td>\n",
       "      <td>0.0</td>\n",
       "      <td>0.0</td>\n",
       "      <td>0.0</td>\n",
       "    </tr>\n",
       "    <tr>\n",
       "      <th>2</th>\n",
       "      <td>100004</td>\n",
       "      <td>Revolving loans</td>\n",
       "      <td>M</td>\n",
       "      <td>Y</td>\n",
       "      <td>Y</td>\n",
       "      <td>0</td>\n",
       "      <td>67500.0</td>\n",
       "      <td>135000.0</td>\n",
       "      <td>6750.0</td>\n",
       "      <td>135000</td>\n",
       "      <td>...</td>\n",
       "      <td>0</td>\n",
       "      <td>0</td>\n",
       "      <td>0</td>\n",
       "      <td>0</td>\n",
       "      <td>0.0</td>\n",
       "      <td>0.0</td>\n",
       "      <td>0.0</td>\n",
       "      <td>0.0</td>\n",
       "      <td>0.0</td>\n",
       "      <td>0.0</td>\n",
       "    </tr>\n",
       "    <tr>\n",
       "      <th>3</th>\n",
       "      <td>100006</td>\n",
       "      <td>Cash loans</td>\n",
       "      <td>F</td>\n",
       "      <td>N</td>\n",
       "      <td>Y</td>\n",
       "      <td>0</td>\n",
       "      <td>135000.0</td>\n",
       "      <td>312682.5</td>\n",
       "      <td>29686.5</td>\n",
       "      <td>297000</td>\n",
       "      <td>...</td>\n",
       "      <td>0</td>\n",
       "      <td>0</td>\n",
       "      <td>0</td>\n",
       "      <td>0</td>\n",
       "      <td>NaN</td>\n",
       "      <td>NaN</td>\n",
       "      <td>NaN</td>\n",
       "      <td>NaN</td>\n",
       "      <td>NaN</td>\n",
       "      <td>NaN</td>\n",
       "    </tr>\n",
       "    <tr>\n",
       "      <th>4</th>\n",
       "      <td>100007</td>\n",
       "      <td>Cash loans</td>\n",
       "      <td>M</td>\n",
       "      <td>N</td>\n",
       "      <td>Y</td>\n",
       "      <td>0</td>\n",
       "      <td>121500.0</td>\n",
       "      <td>513000.0</td>\n",
       "      <td>21865.5</td>\n",
       "      <td>513000</td>\n",
       "      <td>...</td>\n",
       "      <td>0</td>\n",
       "      <td>0</td>\n",
       "      <td>0</td>\n",
       "      <td>0</td>\n",
       "      <td>0.0</td>\n",
       "      <td>0.0</td>\n",
       "      <td>0.0</td>\n",
       "      <td>0.0</td>\n",
       "      <td>0.0</td>\n",
       "      <td>0.0</td>\n",
       "    </tr>\n",
       "  </tbody>\n",
       "</table>\n",
       "<p>5 rows × 121 columns</p>\n",
       "</div>"
      ],
      "text/plain": [
       "   SK_ID_CURR NAME_CONTRACT_TYPE CODE_GENDER FLAG_OWN_CAR FLAG_OWN_REALTY  \\\n",
       "0      100002         Cash loans           M            N               Y   \n",
       "1      100003         Cash loans           F            N               N   \n",
       "2      100004    Revolving loans           M            Y               Y   \n",
       "3      100006         Cash loans           F            N               Y   \n",
       "4      100007         Cash loans           M            N               Y   \n",
       "\n",
       "   CNT_CHILDREN  AMT_INCOME_TOTAL  AMT_CREDIT  AMT_ANNUITY  AMT_GOODS_PRICE  \\\n",
       "0             0          202500.0    406597.5      24700.5           351000   \n",
       "1             0          270000.0   1293502.5      35698.5          1129500   \n",
       "2             0           67500.0    135000.0       6750.0           135000   \n",
       "3             0          135000.0    312682.5      29686.5           297000   \n",
       "4             0          121500.0    513000.0      21865.5           513000   \n",
       "\n",
       "   ... FLAG_DOCUMENT_18 FLAG_DOCUMENT_19 FLAG_DOCUMENT_20 FLAG_DOCUMENT_21  \\\n",
       "0  ...                0                0                0                0   \n",
       "1  ...                0                0                0                0   \n",
       "2  ...                0                0                0                0   \n",
       "3  ...                0                0                0                0   \n",
       "4  ...                0                0                0                0   \n",
       "\n",
       "  AMT_REQ_CREDIT_BUREAU_HOUR  AMT_REQ_CREDIT_BUREAU_DAY  \\\n",
       "0                        0.0                        0.0   \n",
       "1                        0.0                        0.0   \n",
       "2                        0.0                        0.0   \n",
       "3                        NaN                        NaN   \n",
       "4                        0.0                        0.0   \n",
       "\n",
       "   AMT_REQ_CREDIT_BUREAU_WEEK  AMT_REQ_CREDIT_BUREAU_MON  \\\n",
       "0                         0.0                        0.0   \n",
       "1                         0.0                        0.0   \n",
       "2                         0.0                        0.0   \n",
       "3                         NaN                        NaN   \n",
       "4                         0.0                        0.0   \n",
       "\n",
       "   AMT_REQ_CREDIT_BUREAU_QRT  AMT_REQ_CREDIT_BUREAU_YEAR  \n",
       "0                        0.0                         1.0  \n",
       "1                        0.0                         0.0  \n",
       "2                        0.0                         0.0  \n",
       "3                        NaN                         NaN  \n",
       "4                        0.0                         0.0  \n",
       "\n",
       "[5 rows x 121 columns]"
      ]
     },
     "execution_count": 9,
     "metadata": {},
     "output_type": "execute_result"
    }
   ],
   "source": [
    "new_test.head()"
   ]
  },
  {
   "cell_type": "markdown",
   "metadata": {},
   "source": [
    "<b>Both of the test datasets has all the columns as in train data set except the TARGET column</b>"
   ]
  },
  {
   "cell_type": "markdown",
   "metadata": {},
   "source": [
    "<h2>Finding Missing Values and Their Columns Names</h2>"
   ]
  },
  {
   "cell_type": "code",
   "execution_count": 10,
   "metadata": {},
   "outputs": [],
   "source": [
    "#This function is returning the dataframes that has missing column names and percent of missing values\n",
    "def missing_columns(dataframe):\n",
    "    missing_values = dataframe.isnull().sum().sort_values(ascending=False)\n",
    "    \n",
    "    missing_values_perc = 100 * missing_values/len(dataframe)\n",
    "    \n",
    "    concat_values = pd.concat([missing_values, missing_values/len(dataframe), missing_values_perc.round(1)],axis=1)\n",
    "    \n",
    "    concat_values.columns = ['Missing Count', 'Missing Count Ratio', 'Missing Count %']\n",
    "    \n",
    "    return concat_values[concat_values.iloc[:,1] != 0]"
   ]
  },
  {
   "cell_type": "code",
   "execution_count": 11,
   "metadata": {},
   "outputs": [
    {
     "data": {
      "text/html": [
       "<div>\n",
       "<style scoped>\n",
       "    .dataframe tbody tr th:only-of-type {\n",
       "        vertical-align: middle;\n",
       "    }\n",
       "\n",
       "    .dataframe tbody tr th {\n",
       "        vertical-align: top;\n",
       "    }\n",
       "\n",
       "    .dataframe thead th {\n",
       "        text-align: right;\n",
       "    }\n",
       "</style>\n",
       "<table border=\"1\" class=\"dataframe\">\n",
       "  <thead>\n",
       "    <tr style=\"text-align: right;\">\n",
       "      <th></th>\n",
       "      <th>Missing Count</th>\n",
       "      <th>Missing Count Ratio</th>\n",
       "      <th>Missing Count %</th>\n",
       "    </tr>\n",
       "  </thead>\n",
       "  <tbody>\n",
       "    <tr>\n",
       "      <th>COMMONAREA_MEDI</th>\n",
       "      <td>214865</td>\n",
       "      <td>0.698723</td>\n",
       "      <td>69.9</td>\n",
       "    </tr>\n",
       "    <tr>\n",
       "      <th>COMMONAREA_AVG</th>\n",
       "      <td>214865</td>\n",
       "      <td>0.698723</td>\n",
       "      <td>69.9</td>\n",
       "    </tr>\n",
       "    <tr>\n",
       "      <th>COMMONAREA_MODE</th>\n",
       "      <td>214865</td>\n",
       "      <td>0.698723</td>\n",
       "      <td>69.9</td>\n",
       "    </tr>\n",
       "    <tr>\n",
       "      <th>NONLIVINGAPARTMENTS_MODE</th>\n",
       "      <td>213514</td>\n",
       "      <td>0.694330</td>\n",
       "      <td>69.4</td>\n",
       "    </tr>\n",
       "    <tr>\n",
       "      <th>NONLIVINGAPARTMENTS_MEDI</th>\n",
       "      <td>213514</td>\n",
       "      <td>0.694330</td>\n",
       "      <td>69.4</td>\n",
       "    </tr>\n",
       "    <tr>\n",
       "      <th>NONLIVINGAPARTMENTS_AVG</th>\n",
       "      <td>213514</td>\n",
       "      <td>0.694330</td>\n",
       "      <td>69.4</td>\n",
       "    </tr>\n",
       "    <tr>\n",
       "      <th>FONDKAPREMONT_MODE</th>\n",
       "      <td>210295</td>\n",
       "      <td>0.683862</td>\n",
       "      <td>68.4</td>\n",
       "    </tr>\n",
       "    <tr>\n",
       "      <th>LIVINGAPARTMENTS_MEDI</th>\n",
       "      <td>210199</td>\n",
       "      <td>0.683550</td>\n",
       "      <td>68.4</td>\n",
       "    </tr>\n",
       "    <tr>\n",
       "      <th>LIVINGAPARTMENTS_MODE</th>\n",
       "      <td>210199</td>\n",
       "      <td>0.683550</td>\n",
       "      <td>68.4</td>\n",
       "    </tr>\n",
       "    <tr>\n",
       "      <th>LIVINGAPARTMENTS_AVG</th>\n",
       "      <td>210199</td>\n",
       "      <td>0.683550</td>\n",
       "      <td>68.4</td>\n",
       "    </tr>\n",
       "    <tr>\n",
       "      <th>FLOORSMIN_MEDI</th>\n",
       "      <td>208642</td>\n",
       "      <td>0.678486</td>\n",
       "      <td>67.8</td>\n",
       "    </tr>\n",
       "    <tr>\n",
       "      <th>FLOORSMIN_MODE</th>\n",
       "      <td>208642</td>\n",
       "      <td>0.678486</td>\n",
       "      <td>67.8</td>\n",
       "    </tr>\n",
       "    <tr>\n",
       "      <th>FLOORSMIN_AVG</th>\n",
       "      <td>208642</td>\n",
       "      <td>0.678486</td>\n",
       "      <td>67.8</td>\n",
       "    </tr>\n",
       "    <tr>\n",
       "      <th>YEARS_BUILD_MEDI</th>\n",
       "      <td>204488</td>\n",
       "      <td>0.664978</td>\n",
       "      <td>66.5</td>\n",
       "    </tr>\n",
       "    <tr>\n",
       "      <th>YEARS_BUILD_AVG</th>\n",
       "      <td>204488</td>\n",
       "      <td>0.664978</td>\n",
       "      <td>66.5</td>\n",
       "    </tr>\n",
       "    <tr>\n",
       "      <th>YEARS_BUILD_MODE</th>\n",
       "      <td>204488</td>\n",
       "      <td>0.664978</td>\n",
       "      <td>66.5</td>\n",
       "    </tr>\n",
       "    <tr>\n",
       "      <th>OWN_CAR_AGE</th>\n",
       "      <td>202929</td>\n",
       "      <td>0.659908</td>\n",
       "      <td>66.0</td>\n",
       "    </tr>\n",
       "    <tr>\n",
       "      <th>LANDAREA_MODE</th>\n",
       "      <td>182590</td>\n",
       "      <td>0.593767</td>\n",
       "      <td>59.4</td>\n",
       "    </tr>\n",
       "    <tr>\n",
       "      <th>LANDAREA_AVG</th>\n",
       "      <td>182590</td>\n",
       "      <td>0.593767</td>\n",
       "      <td>59.4</td>\n",
       "    </tr>\n",
       "    <tr>\n",
       "      <th>LANDAREA_MEDI</th>\n",
       "      <td>182590</td>\n",
       "      <td>0.593767</td>\n",
       "      <td>59.4</td>\n",
       "    </tr>\n",
       "    <tr>\n",
       "      <th>BASEMENTAREA_MEDI</th>\n",
       "      <td>179943</td>\n",
       "      <td>0.585160</td>\n",
       "      <td>58.5</td>\n",
       "    </tr>\n",
       "    <tr>\n",
       "      <th>BASEMENTAREA_AVG</th>\n",
       "      <td>179943</td>\n",
       "      <td>0.585160</td>\n",
       "      <td>58.5</td>\n",
       "    </tr>\n",
       "    <tr>\n",
       "      <th>BASEMENTAREA_MODE</th>\n",
       "      <td>179943</td>\n",
       "      <td>0.585160</td>\n",
       "      <td>58.5</td>\n",
       "    </tr>\n",
       "    <tr>\n",
       "      <th>EXT_SOURCE_1</th>\n",
       "      <td>173378</td>\n",
       "      <td>0.563811</td>\n",
       "      <td>56.4</td>\n",
       "    </tr>\n",
       "    <tr>\n",
       "      <th>NONLIVINGAREA_MEDI</th>\n",
       "      <td>169682</td>\n",
       "      <td>0.551792</td>\n",
       "      <td>55.2</td>\n",
       "    </tr>\n",
       "    <tr>\n",
       "      <th>NONLIVINGAREA_AVG</th>\n",
       "      <td>169682</td>\n",
       "      <td>0.551792</td>\n",
       "      <td>55.2</td>\n",
       "    </tr>\n",
       "    <tr>\n",
       "      <th>NONLIVINGAREA_MODE</th>\n",
       "      <td>169682</td>\n",
       "      <td>0.551792</td>\n",
       "      <td>55.2</td>\n",
       "    </tr>\n",
       "    <tr>\n",
       "      <th>ELEVATORS_MODE</th>\n",
       "      <td>163891</td>\n",
       "      <td>0.532960</td>\n",
       "      <td>53.3</td>\n",
       "    </tr>\n",
       "    <tr>\n",
       "      <th>ELEVATORS_AVG</th>\n",
       "      <td>163891</td>\n",
       "      <td>0.532960</td>\n",
       "      <td>53.3</td>\n",
       "    </tr>\n",
       "    <tr>\n",
       "      <th>ELEVATORS_MEDI</th>\n",
       "      <td>163891</td>\n",
       "      <td>0.532960</td>\n",
       "      <td>53.3</td>\n",
       "    </tr>\n",
       "    <tr>\n",
       "      <th>...</th>\n",
       "      <td>...</td>\n",
       "      <td>...</td>\n",
       "      <td>...</td>\n",
       "    </tr>\n",
       "    <tr>\n",
       "      <th>LIVINGAREA_MEDI</th>\n",
       "      <td>154350</td>\n",
       "      <td>0.501933</td>\n",
       "      <td>50.2</td>\n",
       "    </tr>\n",
       "    <tr>\n",
       "      <th>LIVINGAREA_MODE</th>\n",
       "      <td>154350</td>\n",
       "      <td>0.501933</td>\n",
       "      <td>50.2</td>\n",
       "    </tr>\n",
       "    <tr>\n",
       "      <th>LIVINGAREA_AVG</th>\n",
       "      <td>154350</td>\n",
       "      <td>0.501933</td>\n",
       "      <td>50.2</td>\n",
       "    </tr>\n",
       "    <tr>\n",
       "      <th>HOUSETYPE_MODE</th>\n",
       "      <td>154297</td>\n",
       "      <td>0.501761</td>\n",
       "      <td>50.2</td>\n",
       "    </tr>\n",
       "    <tr>\n",
       "      <th>FLOORSMAX_MODE</th>\n",
       "      <td>153020</td>\n",
       "      <td>0.497608</td>\n",
       "      <td>49.8</td>\n",
       "    </tr>\n",
       "    <tr>\n",
       "      <th>FLOORSMAX_MEDI</th>\n",
       "      <td>153020</td>\n",
       "      <td>0.497608</td>\n",
       "      <td>49.8</td>\n",
       "    </tr>\n",
       "    <tr>\n",
       "      <th>FLOORSMAX_AVG</th>\n",
       "      <td>153020</td>\n",
       "      <td>0.497608</td>\n",
       "      <td>49.8</td>\n",
       "    </tr>\n",
       "    <tr>\n",
       "      <th>YEARS_BEGINEXPLUATATION_MEDI</th>\n",
       "      <td>150007</td>\n",
       "      <td>0.487810</td>\n",
       "      <td>48.8</td>\n",
       "    </tr>\n",
       "    <tr>\n",
       "      <th>YEARS_BEGINEXPLUATATION_AVG</th>\n",
       "      <td>150007</td>\n",
       "      <td>0.487810</td>\n",
       "      <td>48.8</td>\n",
       "    </tr>\n",
       "    <tr>\n",
       "      <th>YEARS_BEGINEXPLUATATION_MODE</th>\n",
       "      <td>150007</td>\n",
       "      <td>0.487810</td>\n",
       "      <td>48.8</td>\n",
       "    </tr>\n",
       "    <tr>\n",
       "      <th>TOTALAREA_MODE</th>\n",
       "      <td>148431</td>\n",
       "      <td>0.482685</td>\n",
       "      <td>48.3</td>\n",
       "    </tr>\n",
       "    <tr>\n",
       "      <th>EMERGENCYSTATE_MODE</th>\n",
       "      <td>145755</td>\n",
       "      <td>0.473983</td>\n",
       "      <td>47.4</td>\n",
       "    </tr>\n",
       "    <tr>\n",
       "      <th>OCCUPATION_TYPE</th>\n",
       "      <td>96391</td>\n",
       "      <td>0.313455</td>\n",
       "      <td>31.3</td>\n",
       "    </tr>\n",
       "    <tr>\n",
       "      <th>EXT_SOURCE_3</th>\n",
       "      <td>60965</td>\n",
       "      <td>0.198253</td>\n",
       "      <td>19.8</td>\n",
       "    </tr>\n",
       "    <tr>\n",
       "      <th>AMT_REQ_CREDIT_BUREAU_QRT</th>\n",
       "      <td>41519</td>\n",
       "      <td>0.135016</td>\n",
       "      <td>13.5</td>\n",
       "    </tr>\n",
       "    <tr>\n",
       "      <th>AMT_REQ_CREDIT_BUREAU_YEAR</th>\n",
       "      <td>41519</td>\n",
       "      <td>0.135016</td>\n",
       "      <td>13.5</td>\n",
       "    </tr>\n",
       "    <tr>\n",
       "      <th>AMT_REQ_CREDIT_BUREAU_WEEK</th>\n",
       "      <td>41519</td>\n",
       "      <td>0.135016</td>\n",
       "      <td>13.5</td>\n",
       "    </tr>\n",
       "    <tr>\n",
       "      <th>AMT_REQ_CREDIT_BUREAU_MON</th>\n",
       "      <td>41519</td>\n",
       "      <td>0.135016</td>\n",
       "      <td>13.5</td>\n",
       "    </tr>\n",
       "    <tr>\n",
       "      <th>AMT_REQ_CREDIT_BUREAU_DAY</th>\n",
       "      <td>41519</td>\n",
       "      <td>0.135016</td>\n",
       "      <td>13.5</td>\n",
       "    </tr>\n",
       "    <tr>\n",
       "      <th>AMT_REQ_CREDIT_BUREAU_HOUR</th>\n",
       "      <td>41519</td>\n",
       "      <td>0.135016</td>\n",
       "      <td>13.5</td>\n",
       "    </tr>\n",
       "    <tr>\n",
       "      <th>NAME_TYPE_SUITE</th>\n",
       "      <td>1292</td>\n",
       "      <td>0.004201</td>\n",
       "      <td>0.4</td>\n",
       "    </tr>\n",
       "    <tr>\n",
       "      <th>OBS_30_CNT_SOCIAL_CIRCLE</th>\n",
       "      <td>1021</td>\n",
       "      <td>0.003320</td>\n",
       "      <td>0.3</td>\n",
       "    </tr>\n",
       "    <tr>\n",
       "      <th>OBS_60_CNT_SOCIAL_CIRCLE</th>\n",
       "      <td>1021</td>\n",
       "      <td>0.003320</td>\n",
       "      <td>0.3</td>\n",
       "    </tr>\n",
       "    <tr>\n",
       "      <th>DEF_60_CNT_SOCIAL_CIRCLE</th>\n",
       "      <td>1021</td>\n",
       "      <td>0.003320</td>\n",
       "      <td>0.3</td>\n",
       "    </tr>\n",
       "    <tr>\n",
       "      <th>DEF_30_CNT_SOCIAL_CIRCLE</th>\n",
       "      <td>1021</td>\n",
       "      <td>0.003320</td>\n",
       "      <td>0.3</td>\n",
       "    </tr>\n",
       "    <tr>\n",
       "      <th>EXT_SOURCE_2</th>\n",
       "      <td>660</td>\n",
       "      <td>0.002146</td>\n",
       "      <td>0.2</td>\n",
       "    </tr>\n",
       "    <tr>\n",
       "      <th>AMT_GOODS_PRICE</th>\n",
       "      <td>278</td>\n",
       "      <td>0.000904</td>\n",
       "      <td>0.1</td>\n",
       "    </tr>\n",
       "    <tr>\n",
       "      <th>AMT_ANNUITY</th>\n",
       "      <td>12</td>\n",
       "      <td>0.000039</td>\n",
       "      <td>0.0</td>\n",
       "    </tr>\n",
       "    <tr>\n",
       "      <th>CNT_FAM_MEMBERS</th>\n",
       "      <td>2</td>\n",
       "      <td>0.000007</td>\n",
       "      <td>0.0</td>\n",
       "    </tr>\n",
       "    <tr>\n",
       "      <th>DAYS_LAST_PHONE_CHANGE</th>\n",
       "      <td>1</td>\n",
       "      <td>0.000003</td>\n",
       "      <td>0.0</td>\n",
       "    </tr>\n",
       "  </tbody>\n",
       "</table>\n",
       "<p>67 rows × 3 columns</p>\n",
       "</div>"
      ],
      "text/plain": [
       "                              Missing Count  Missing Count Ratio  \\\n",
       "COMMONAREA_MEDI                      214865             0.698723   \n",
       "COMMONAREA_AVG                       214865             0.698723   \n",
       "COMMONAREA_MODE                      214865             0.698723   \n",
       "NONLIVINGAPARTMENTS_MODE             213514             0.694330   \n",
       "NONLIVINGAPARTMENTS_MEDI             213514             0.694330   \n",
       "NONLIVINGAPARTMENTS_AVG              213514             0.694330   \n",
       "FONDKAPREMONT_MODE                   210295             0.683862   \n",
       "LIVINGAPARTMENTS_MEDI                210199             0.683550   \n",
       "LIVINGAPARTMENTS_MODE                210199             0.683550   \n",
       "LIVINGAPARTMENTS_AVG                 210199             0.683550   \n",
       "FLOORSMIN_MEDI                       208642             0.678486   \n",
       "FLOORSMIN_MODE                       208642             0.678486   \n",
       "FLOORSMIN_AVG                        208642             0.678486   \n",
       "YEARS_BUILD_MEDI                     204488             0.664978   \n",
       "YEARS_BUILD_AVG                      204488             0.664978   \n",
       "YEARS_BUILD_MODE                     204488             0.664978   \n",
       "OWN_CAR_AGE                          202929             0.659908   \n",
       "LANDAREA_MODE                        182590             0.593767   \n",
       "LANDAREA_AVG                         182590             0.593767   \n",
       "LANDAREA_MEDI                        182590             0.593767   \n",
       "BASEMENTAREA_MEDI                    179943             0.585160   \n",
       "BASEMENTAREA_AVG                     179943             0.585160   \n",
       "BASEMENTAREA_MODE                    179943             0.585160   \n",
       "EXT_SOURCE_1                         173378             0.563811   \n",
       "NONLIVINGAREA_MEDI                   169682             0.551792   \n",
       "NONLIVINGAREA_AVG                    169682             0.551792   \n",
       "NONLIVINGAREA_MODE                   169682             0.551792   \n",
       "ELEVATORS_MODE                       163891             0.532960   \n",
       "ELEVATORS_AVG                        163891             0.532960   \n",
       "ELEVATORS_MEDI                       163891             0.532960   \n",
       "...                                     ...                  ...   \n",
       "LIVINGAREA_MEDI                      154350             0.501933   \n",
       "LIVINGAREA_MODE                      154350             0.501933   \n",
       "LIVINGAREA_AVG                       154350             0.501933   \n",
       "HOUSETYPE_MODE                       154297             0.501761   \n",
       "FLOORSMAX_MODE                       153020             0.497608   \n",
       "FLOORSMAX_MEDI                       153020             0.497608   \n",
       "FLOORSMAX_AVG                        153020             0.497608   \n",
       "YEARS_BEGINEXPLUATATION_MEDI         150007             0.487810   \n",
       "YEARS_BEGINEXPLUATATION_AVG          150007             0.487810   \n",
       "YEARS_BEGINEXPLUATATION_MODE         150007             0.487810   \n",
       "TOTALAREA_MODE                       148431             0.482685   \n",
       "EMERGENCYSTATE_MODE                  145755             0.473983   \n",
       "OCCUPATION_TYPE                       96391             0.313455   \n",
       "EXT_SOURCE_3                          60965             0.198253   \n",
       "AMT_REQ_CREDIT_BUREAU_QRT             41519             0.135016   \n",
       "AMT_REQ_CREDIT_BUREAU_YEAR            41519             0.135016   \n",
       "AMT_REQ_CREDIT_BUREAU_WEEK            41519             0.135016   \n",
       "AMT_REQ_CREDIT_BUREAU_MON             41519             0.135016   \n",
       "AMT_REQ_CREDIT_BUREAU_DAY             41519             0.135016   \n",
       "AMT_REQ_CREDIT_BUREAU_HOUR            41519             0.135016   \n",
       "NAME_TYPE_SUITE                        1292             0.004201   \n",
       "OBS_30_CNT_SOCIAL_CIRCLE               1021             0.003320   \n",
       "OBS_60_CNT_SOCIAL_CIRCLE               1021             0.003320   \n",
       "DEF_60_CNT_SOCIAL_CIRCLE               1021             0.003320   \n",
       "DEF_30_CNT_SOCIAL_CIRCLE               1021             0.003320   \n",
       "EXT_SOURCE_2                            660             0.002146   \n",
       "AMT_GOODS_PRICE                         278             0.000904   \n",
       "AMT_ANNUITY                              12             0.000039   \n",
       "CNT_FAM_MEMBERS                           2             0.000007   \n",
       "DAYS_LAST_PHONE_CHANGE                    1             0.000003   \n",
       "\n",
       "                              Missing Count %  \n",
       "COMMONAREA_MEDI                          69.9  \n",
       "COMMONAREA_AVG                           69.9  \n",
       "COMMONAREA_MODE                          69.9  \n",
       "NONLIVINGAPARTMENTS_MODE                 69.4  \n",
       "NONLIVINGAPARTMENTS_MEDI                 69.4  \n",
       "NONLIVINGAPARTMENTS_AVG                  69.4  \n",
       "FONDKAPREMONT_MODE                       68.4  \n",
       "LIVINGAPARTMENTS_MEDI                    68.4  \n",
       "LIVINGAPARTMENTS_MODE                    68.4  \n",
       "LIVINGAPARTMENTS_AVG                     68.4  \n",
       "FLOORSMIN_MEDI                           67.8  \n",
       "FLOORSMIN_MODE                           67.8  \n",
       "FLOORSMIN_AVG                            67.8  \n",
       "YEARS_BUILD_MEDI                         66.5  \n",
       "YEARS_BUILD_AVG                          66.5  \n",
       "YEARS_BUILD_MODE                         66.5  \n",
       "OWN_CAR_AGE                              66.0  \n",
       "LANDAREA_MODE                            59.4  \n",
       "LANDAREA_AVG                             59.4  \n",
       "LANDAREA_MEDI                            59.4  \n",
       "BASEMENTAREA_MEDI                        58.5  \n",
       "BASEMENTAREA_AVG                         58.5  \n",
       "BASEMENTAREA_MODE                        58.5  \n",
       "EXT_SOURCE_1                             56.4  \n",
       "NONLIVINGAREA_MEDI                       55.2  \n",
       "NONLIVINGAREA_AVG                        55.2  \n",
       "NONLIVINGAREA_MODE                       55.2  \n",
       "ELEVATORS_MODE                           53.3  \n",
       "ELEVATORS_AVG                            53.3  \n",
       "ELEVATORS_MEDI                           53.3  \n",
       "...                                       ...  \n",
       "LIVINGAREA_MEDI                          50.2  \n",
       "LIVINGAREA_MODE                          50.2  \n",
       "LIVINGAREA_AVG                           50.2  \n",
       "HOUSETYPE_MODE                           50.2  \n",
       "FLOORSMAX_MODE                           49.8  \n",
       "FLOORSMAX_MEDI                           49.8  \n",
       "FLOORSMAX_AVG                            49.8  \n",
       "YEARS_BEGINEXPLUATATION_MEDI             48.8  \n",
       "YEARS_BEGINEXPLUATATION_AVG              48.8  \n",
       "YEARS_BEGINEXPLUATATION_MODE             48.8  \n",
       "TOTALAREA_MODE                           48.3  \n",
       "EMERGENCYSTATE_MODE                      47.4  \n",
       "OCCUPATION_TYPE                          31.3  \n",
       "EXT_SOURCE_3                             19.8  \n",
       "AMT_REQ_CREDIT_BUREAU_QRT                13.5  \n",
       "AMT_REQ_CREDIT_BUREAU_YEAR               13.5  \n",
       "AMT_REQ_CREDIT_BUREAU_WEEK               13.5  \n",
       "AMT_REQ_CREDIT_BUREAU_MON                13.5  \n",
       "AMT_REQ_CREDIT_BUREAU_DAY                13.5  \n",
       "AMT_REQ_CREDIT_BUREAU_HOUR               13.5  \n",
       "NAME_TYPE_SUITE                           0.4  \n",
       "OBS_30_CNT_SOCIAL_CIRCLE                  0.3  \n",
       "OBS_60_CNT_SOCIAL_CIRCLE                  0.3  \n",
       "DEF_60_CNT_SOCIAL_CIRCLE                  0.3  \n",
       "DEF_30_CNT_SOCIAL_CIRCLE                  0.3  \n",
       "EXT_SOURCE_2                              0.2  \n",
       "AMT_GOODS_PRICE                           0.1  \n",
       "AMT_ANNUITY                               0.0  \n",
       "CNT_FAM_MEMBERS                           0.0  \n",
       "DAYS_LAST_PHONE_CHANGE                    0.0  \n",
       "\n",
       "[67 rows x 3 columns]"
      ]
     },
     "execution_count": 11,
     "metadata": {},
     "output_type": "execute_result"
    }
   ],
   "source": [
    "#Executing Function\n",
    "missing_columns(train)"
   ]
  },
  {
   "cell_type": "code",
   "execution_count": 12,
   "metadata": {},
   "outputs": [
    {
     "data": {
      "text/html": [
       "<div>\n",
       "<style scoped>\n",
       "    .dataframe tbody tr th:only-of-type {\n",
       "        vertical-align: middle;\n",
       "    }\n",
       "\n",
       "    .dataframe tbody tr th {\n",
       "        vertical-align: top;\n",
       "    }\n",
       "\n",
       "    .dataframe thead th {\n",
       "        text-align: right;\n",
       "    }\n",
       "</style>\n",
       "<table border=\"1\" class=\"dataframe\">\n",
       "  <thead>\n",
       "    <tr style=\"text-align: right;\">\n",
       "      <th></th>\n",
       "      <th>Missing Count</th>\n",
       "      <th>Missing Count Ratio</th>\n",
       "      <th>Missing Count %</th>\n",
       "    </tr>\n",
       "  </thead>\n",
       "  <tbody>\n",
       "    <tr>\n",
       "      <th>COMMONAREA_MEDI</th>\n",
       "      <td>33495</td>\n",
       "      <td>0.687161</td>\n",
       "      <td>68.7</td>\n",
       "    </tr>\n",
       "    <tr>\n",
       "      <th>COMMONAREA_AVG</th>\n",
       "      <td>33495</td>\n",
       "      <td>0.687161</td>\n",
       "      <td>68.7</td>\n",
       "    </tr>\n",
       "    <tr>\n",
       "      <th>COMMONAREA_MODE</th>\n",
       "      <td>33495</td>\n",
       "      <td>0.687161</td>\n",
       "      <td>68.7</td>\n",
       "    </tr>\n",
       "    <tr>\n",
       "      <th>NONLIVINGAPARTMENTS_MODE</th>\n",
       "      <td>33347</td>\n",
       "      <td>0.684125</td>\n",
       "      <td>68.4</td>\n",
       "    </tr>\n",
       "    <tr>\n",
       "      <th>NONLIVINGAPARTMENTS_MEDI</th>\n",
       "      <td>33347</td>\n",
       "      <td>0.684125</td>\n",
       "      <td>68.4</td>\n",
       "    </tr>\n",
       "    <tr>\n",
       "      <th>NONLIVINGAPARTMENTS_AVG</th>\n",
       "      <td>33347</td>\n",
       "      <td>0.684125</td>\n",
       "      <td>68.4</td>\n",
       "    </tr>\n",
       "    <tr>\n",
       "      <th>FONDKAPREMONT_MODE</th>\n",
       "      <td>32797</td>\n",
       "      <td>0.672842</td>\n",
       "      <td>67.3</td>\n",
       "    </tr>\n",
       "    <tr>\n",
       "      <th>LIVINGAPARTMENTS_AVG</th>\n",
       "      <td>32780</td>\n",
       "      <td>0.672493</td>\n",
       "      <td>67.2</td>\n",
       "    </tr>\n",
       "    <tr>\n",
       "      <th>LIVINGAPARTMENTS_MEDI</th>\n",
       "      <td>32780</td>\n",
       "      <td>0.672493</td>\n",
       "      <td>67.2</td>\n",
       "    </tr>\n",
       "    <tr>\n",
       "      <th>LIVINGAPARTMENTS_MODE</th>\n",
       "      <td>32780</td>\n",
       "      <td>0.672493</td>\n",
       "      <td>67.2</td>\n",
       "    </tr>\n",
       "    <tr>\n",
       "      <th>FLOORSMIN_MEDI</th>\n",
       "      <td>32466</td>\n",
       "      <td>0.666051</td>\n",
       "      <td>66.6</td>\n",
       "    </tr>\n",
       "    <tr>\n",
       "      <th>FLOORSMIN_MODE</th>\n",
       "      <td>32466</td>\n",
       "      <td>0.666051</td>\n",
       "      <td>66.6</td>\n",
       "    </tr>\n",
       "    <tr>\n",
       "      <th>FLOORSMIN_AVG</th>\n",
       "      <td>32466</td>\n",
       "      <td>0.666051</td>\n",
       "      <td>66.6</td>\n",
       "    </tr>\n",
       "    <tr>\n",
       "      <th>OWN_CAR_AGE</th>\n",
       "      <td>32312</td>\n",
       "      <td>0.662892</td>\n",
       "      <td>66.3</td>\n",
       "    </tr>\n",
       "    <tr>\n",
       "      <th>YEARS_BUILD_MEDI</th>\n",
       "      <td>31818</td>\n",
       "      <td>0.652757</td>\n",
       "      <td>65.3</td>\n",
       "    </tr>\n",
       "    <tr>\n",
       "      <th>YEARS_BUILD_MODE</th>\n",
       "      <td>31818</td>\n",
       "      <td>0.652757</td>\n",
       "      <td>65.3</td>\n",
       "    </tr>\n",
       "    <tr>\n",
       "      <th>YEARS_BUILD_AVG</th>\n",
       "      <td>31818</td>\n",
       "      <td>0.652757</td>\n",
       "      <td>65.3</td>\n",
       "    </tr>\n",
       "    <tr>\n",
       "      <th>LANDAREA_AVG</th>\n",
       "      <td>28254</td>\n",
       "      <td>0.579641</td>\n",
       "      <td>58.0</td>\n",
       "    </tr>\n",
       "    <tr>\n",
       "      <th>LANDAREA_MODE</th>\n",
       "      <td>28254</td>\n",
       "      <td>0.579641</td>\n",
       "      <td>58.0</td>\n",
       "    </tr>\n",
       "    <tr>\n",
       "      <th>LANDAREA_MEDI</th>\n",
       "      <td>28254</td>\n",
       "      <td>0.579641</td>\n",
       "      <td>58.0</td>\n",
       "    </tr>\n",
       "    <tr>\n",
       "      <th>BASEMENTAREA_AVG</th>\n",
       "      <td>27641</td>\n",
       "      <td>0.567065</td>\n",
       "      <td>56.7</td>\n",
       "    </tr>\n",
       "    <tr>\n",
       "      <th>BASEMENTAREA_MODE</th>\n",
       "      <td>27641</td>\n",
       "      <td>0.567065</td>\n",
       "      <td>56.7</td>\n",
       "    </tr>\n",
       "    <tr>\n",
       "      <th>BASEMENTAREA_MEDI</th>\n",
       "      <td>27641</td>\n",
       "      <td>0.567065</td>\n",
       "      <td>56.7</td>\n",
       "    </tr>\n",
       "    <tr>\n",
       "      <th>NONLIVINGAREA_MODE</th>\n",
       "      <td>26084</td>\n",
       "      <td>0.535122</td>\n",
       "      <td>53.5</td>\n",
       "    </tr>\n",
       "    <tr>\n",
       "      <th>NONLIVINGAREA_AVG</th>\n",
       "      <td>26084</td>\n",
       "      <td>0.535122</td>\n",
       "      <td>53.5</td>\n",
       "    </tr>\n",
       "    <tr>\n",
       "      <th>NONLIVINGAREA_MEDI</th>\n",
       "      <td>26084</td>\n",
       "      <td>0.535122</td>\n",
       "      <td>53.5</td>\n",
       "    </tr>\n",
       "    <tr>\n",
       "      <th>ELEVATORS_AVG</th>\n",
       "      <td>25189</td>\n",
       "      <td>0.516761</td>\n",
       "      <td>51.7</td>\n",
       "    </tr>\n",
       "    <tr>\n",
       "      <th>ELEVATORS_MEDI</th>\n",
       "      <td>25189</td>\n",
       "      <td>0.516761</td>\n",
       "      <td>51.7</td>\n",
       "    </tr>\n",
       "    <tr>\n",
       "      <th>ELEVATORS_MODE</th>\n",
       "      <td>25189</td>\n",
       "      <td>0.516761</td>\n",
       "      <td>51.7</td>\n",
       "    </tr>\n",
       "    <tr>\n",
       "      <th>WALLSMATERIAL_MODE</th>\n",
       "      <td>23893</td>\n",
       "      <td>0.490173</td>\n",
       "      <td>49.0</td>\n",
       "    </tr>\n",
       "    <tr>\n",
       "      <th>...</th>\n",
       "      <td>...</td>\n",
       "      <td>...</td>\n",
       "      <td>...</td>\n",
       "    </tr>\n",
       "    <tr>\n",
       "      <th>ENTRANCES_MEDI</th>\n",
       "      <td>23579</td>\n",
       "      <td>0.483731</td>\n",
       "      <td>48.4</td>\n",
       "    </tr>\n",
       "    <tr>\n",
       "      <th>ENTRANCES_AVG</th>\n",
       "      <td>23579</td>\n",
       "      <td>0.483731</td>\n",
       "      <td>48.4</td>\n",
       "    </tr>\n",
       "    <tr>\n",
       "      <th>ENTRANCES_MODE</th>\n",
       "      <td>23579</td>\n",
       "      <td>0.483731</td>\n",
       "      <td>48.4</td>\n",
       "    </tr>\n",
       "    <tr>\n",
       "      <th>LIVINGAREA_MEDI</th>\n",
       "      <td>23552</td>\n",
       "      <td>0.483177</td>\n",
       "      <td>48.3</td>\n",
       "    </tr>\n",
       "    <tr>\n",
       "      <th>LIVINGAREA_MODE</th>\n",
       "      <td>23552</td>\n",
       "      <td>0.483177</td>\n",
       "      <td>48.3</td>\n",
       "    </tr>\n",
       "    <tr>\n",
       "      <th>LIVINGAREA_AVG</th>\n",
       "      <td>23552</td>\n",
       "      <td>0.483177</td>\n",
       "      <td>48.3</td>\n",
       "    </tr>\n",
       "    <tr>\n",
       "      <th>FLOORSMAX_MODE</th>\n",
       "      <td>23321</td>\n",
       "      <td>0.478438</td>\n",
       "      <td>47.8</td>\n",
       "    </tr>\n",
       "    <tr>\n",
       "      <th>FLOORSMAX_MEDI</th>\n",
       "      <td>23321</td>\n",
       "      <td>0.478438</td>\n",
       "      <td>47.8</td>\n",
       "    </tr>\n",
       "    <tr>\n",
       "      <th>FLOORSMAX_AVG</th>\n",
       "      <td>23321</td>\n",
       "      <td>0.478438</td>\n",
       "      <td>47.8</td>\n",
       "    </tr>\n",
       "    <tr>\n",
       "      <th>YEARS_BEGINEXPLUATATION_AVG</th>\n",
       "      <td>22856</td>\n",
       "      <td>0.468899</td>\n",
       "      <td>46.9</td>\n",
       "    </tr>\n",
       "    <tr>\n",
       "      <th>YEARS_BEGINEXPLUATATION_MEDI</th>\n",
       "      <td>22856</td>\n",
       "      <td>0.468899</td>\n",
       "      <td>46.9</td>\n",
       "    </tr>\n",
       "    <tr>\n",
       "      <th>YEARS_BEGINEXPLUATATION_MODE</th>\n",
       "      <td>22856</td>\n",
       "      <td>0.468899</td>\n",
       "      <td>46.9</td>\n",
       "    </tr>\n",
       "    <tr>\n",
       "      <th>TOTALAREA_MODE</th>\n",
       "      <td>22624</td>\n",
       "      <td>0.464139</td>\n",
       "      <td>46.4</td>\n",
       "    </tr>\n",
       "    <tr>\n",
       "      <th>EMERGENCYSTATE_MODE</th>\n",
       "      <td>22209</td>\n",
       "      <td>0.455625</td>\n",
       "      <td>45.6</td>\n",
       "    </tr>\n",
       "    <tr>\n",
       "      <th>EXT_SOURCE_1</th>\n",
       "      <td>20532</td>\n",
       "      <td>0.421221</td>\n",
       "      <td>42.1</td>\n",
       "    </tr>\n",
       "    <tr>\n",
       "      <th>OCCUPATION_TYPE</th>\n",
       "      <td>15605</td>\n",
       "      <td>0.320142</td>\n",
       "      <td>32.0</td>\n",
       "    </tr>\n",
       "    <tr>\n",
       "      <th>EXT_SOURCE_3</th>\n",
       "      <td>8668</td>\n",
       "      <td>0.177827</td>\n",
       "      <td>17.8</td>\n",
       "    </tr>\n",
       "    <tr>\n",
       "      <th>AMT_REQ_CREDIT_BUREAU_QRT</th>\n",
       "      <td>6049</td>\n",
       "      <td>0.124097</td>\n",
       "      <td>12.4</td>\n",
       "    </tr>\n",
       "    <tr>\n",
       "      <th>AMT_REQ_CREDIT_BUREAU_YEAR</th>\n",
       "      <td>6049</td>\n",
       "      <td>0.124097</td>\n",
       "      <td>12.4</td>\n",
       "    </tr>\n",
       "    <tr>\n",
       "      <th>AMT_REQ_CREDIT_BUREAU_MON</th>\n",
       "      <td>6049</td>\n",
       "      <td>0.124097</td>\n",
       "      <td>12.4</td>\n",
       "    </tr>\n",
       "    <tr>\n",
       "      <th>AMT_REQ_CREDIT_BUREAU_WEEK</th>\n",
       "      <td>6049</td>\n",
       "      <td>0.124097</td>\n",
       "      <td>12.4</td>\n",
       "    </tr>\n",
       "    <tr>\n",
       "      <th>AMT_REQ_CREDIT_BUREAU_HOUR</th>\n",
       "      <td>6049</td>\n",
       "      <td>0.124097</td>\n",
       "      <td>12.4</td>\n",
       "    </tr>\n",
       "    <tr>\n",
       "      <th>AMT_REQ_CREDIT_BUREAU_DAY</th>\n",
       "      <td>6049</td>\n",
       "      <td>0.124097</td>\n",
       "      <td>12.4</td>\n",
       "    </tr>\n",
       "    <tr>\n",
       "      <th>NAME_TYPE_SUITE</th>\n",
       "      <td>911</td>\n",
       "      <td>0.018689</td>\n",
       "      <td>1.9</td>\n",
       "    </tr>\n",
       "    <tr>\n",
       "      <th>OBS_30_CNT_SOCIAL_CIRCLE</th>\n",
       "      <td>29</td>\n",
       "      <td>0.000595</td>\n",
       "      <td>0.1</td>\n",
       "    </tr>\n",
       "    <tr>\n",
       "      <th>OBS_60_CNT_SOCIAL_CIRCLE</th>\n",
       "      <td>29</td>\n",
       "      <td>0.000595</td>\n",
       "      <td>0.1</td>\n",
       "    </tr>\n",
       "    <tr>\n",
       "      <th>DEF_60_CNT_SOCIAL_CIRCLE</th>\n",
       "      <td>29</td>\n",
       "      <td>0.000595</td>\n",
       "      <td>0.1</td>\n",
       "    </tr>\n",
       "    <tr>\n",
       "      <th>DEF_30_CNT_SOCIAL_CIRCLE</th>\n",
       "      <td>29</td>\n",
       "      <td>0.000595</td>\n",
       "      <td>0.1</td>\n",
       "    </tr>\n",
       "    <tr>\n",
       "      <th>AMT_ANNUITY</th>\n",
       "      <td>24</td>\n",
       "      <td>0.000492</td>\n",
       "      <td>0.0</td>\n",
       "    </tr>\n",
       "    <tr>\n",
       "      <th>EXT_SOURCE_2</th>\n",
       "      <td>8</td>\n",
       "      <td>0.000164</td>\n",
       "      <td>0.0</td>\n",
       "    </tr>\n",
       "  </tbody>\n",
       "</table>\n",
       "<p>64 rows × 3 columns</p>\n",
       "</div>"
      ],
      "text/plain": [
       "                              Missing Count  Missing Count Ratio  \\\n",
       "COMMONAREA_MEDI                       33495             0.687161   \n",
       "COMMONAREA_AVG                        33495             0.687161   \n",
       "COMMONAREA_MODE                       33495             0.687161   \n",
       "NONLIVINGAPARTMENTS_MODE              33347             0.684125   \n",
       "NONLIVINGAPARTMENTS_MEDI              33347             0.684125   \n",
       "NONLIVINGAPARTMENTS_AVG               33347             0.684125   \n",
       "FONDKAPREMONT_MODE                    32797             0.672842   \n",
       "LIVINGAPARTMENTS_AVG                  32780             0.672493   \n",
       "LIVINGAPARTMENTS_MEDI                 32780             0.672493   \n",
       "LIVINGAPARTMENTS_MODE                 32780             0.672493   \n",
       "FLOORSMIN_MEDI                        32466             0.666051   \n",
       "FLOORSMIN_MODE                        32466             0.666051   \n",
       "FLOORSMIN_AVG                         32466             0.666051   \n",
       "OWN_CAR_AGE                           32312             0.662892   \n",
       "YEARS_BUILD_MEDI                      31818             0.652757   \n",
       "YEARS_BUILD_MODE                      31818             0.652757   \n",
       "YEARS_BUILD_AVG                       31818             0.652757   \n",
       "LANDAREA_AVG                          28254             0.579641   \n",
       "LANDAREA_MODE                         28254             0.579641   \n",
       "LANDAREA_MEDI                         28254             0.579641   \n",
       "BASEMENTAREA_AVG                      27641             0.567065   \n",
       "BASEMENTAREA_MODE                     27641             0.567065   \n",
       "BASEMENTAREA_MEDI                     27641             0.567065   \n",
       "NONLIVINGAREA_MODE                    26084             0.535122   \n",
       "NONLIVINGAREA_AVG                     26084             0.535122   \n",
       "NONLIVINGAREA_MEDI                    26084             0.535122   \n",
       "ELEVATORS_AVG                         25189             0.516761   \n",
       "ELEVATORS_MEDI                        25189             0.516761   \n",
       "ELEVATORS_MODE                        25189             0.516761   \n",
       "WALLSMATERIAL_MODE                    23893             0.490173   \n",
       "...                                     ...                  ...   \n",
       "ENTRANCES_MEDI                        23579             0.483731   \n",
       "ENTRANCES_AVG                         23579             0.483731   \n",
       "ENTRANCES_MODE                        23579             0.483731   \n",
       "LIVINGAREA_MEDI                       23552             0.483177   \n",
       "LIVINGAREA_MODE                       23552             0.483177   \n",
       "LIVINGAREA_AVG                        23552             0.483177   \n",
       "FLOORSMAX_MODE                        23321             0.478438   \n",
       "FLOORSMAX_MEDI                        23321             0.478438   \n",
       "FLOORSMAX_AVG                         23321             0.478438   \n",
       "YEARS_BEGINEXPLUATATION_AVG           22856             0.468899   \n",
       "YEARS_BEGINEXPLUATATION_MEDI          22856             0.468899   \n",
       "YEARS_BEGINEXPLUATATION_MODE          22856             0.468899   \n",
       "TOTALAREA_MODE                        22624             0.464139   \n",
       "EMERGENCYSTATE_MODE                   22209             0.455625   \n",
       "EXT_SOURCE_1                          20532             0.421221   \n",
       "OCCUPATION_TYPE                       15605             0.320142   \n",
       "EXT_SOURCE_3                           8668             0.177827   \n",
       "AMT_REQ_CREDIT_BUREAU_QRT              6049             0.124097   \n",
       "AMT_REQ_CREDIT_BUREAU_YEAR             6049             0.124097   \n",
       "AMT_REQ_CREDIT_BUREAU_MON              6049             0.124097   \n",
       "AMT_REQ_CREDIT_BUREAU_WEEK             6049             0.124097   \n",
       "AMT_REQ_CREDIT_BUREAU_HOUR             6049             0.124097   \n",
       "AMT_REQ_CREDIT_BUREAU_DAY              6049             0.124097   \n",
       "NAME_TYPE_SUITE                         911             0.018689   \n",
       "OBS_30_CNT_SOCIAL_CIRCLE                 29             0.000595   \n",
       "OBS_60_CNT_SOCIAL_CIRCLE                 29             0.000595   \n",
       "DEF_60_CNT_SOCIAL_CIRCLE                 29             0.000595   \n",
       "DEF_30_CNT_SOCIAL_CIRCLE                 29             0.000595   \n",
       "AMT_ANNUITY                              24             0.000492   \n",
       "EXT_SOURCE_2                              8             0.000164   \n",
       "\n",
       "                              Missing Count %  \n",
       "COMMONAREA_MEDI                          68.7  \n",
       "COMMONAREA_AVG                           68.7  \n",
       "COMMONAREA_MODE                          68.7  \n",
       "NONLIVINGAPARTMENTS_MODE                 68.4  \n",
       "NONLIVINGAPARTMENTS_MEDI                 68.4  \n",
       "NONLIVINGAPARTMENTS_AVG                  68.4  \n",
       "FONDKAPREMONT_MODE                       67.3  \n",
       "LIVINGAPARTMENTS_AVG                     67.2  \n",
       "LIVINGAPARTMENTS_MEDI                    67.2  \n",
       "LIVINGAPARTMENTS_MODE                    67.2  \n",
       "FLOORSMIN_MEDI                           66.6  \n",
       "FLOORSMIN_MODE                           66.6  \n",
       "FLOORSMIN_AVG                            66.6  \n",
       "OWN_CAR_AGE                              66.3  \n",
       "YEARS_BUILD_MEDI                         65.3  \n",
       "YEARS_BUILD_MODE                         65.3  \n",
       "YEARS_BUILD_AVG                          65.3  \n",
       "LANDAREA_AVG                             58.0  \n",
       "LANDAREA_MODE                            58.0  \n",
       "LANDAREA_MEDI                            58.0  \n",
       "BASEMENTAREA_AVG                         56.7  \n",
       "BASEMENTAREA_MODE                        56.7  \n",
       "BASEMENTAREA_MEDI                        56.7  \n",
       "NONLIVINGAREA_MODE                       53.5  \n",
       "NONLIVINGAREA_AVG                        53.5  \n",
       "NONLIVINGAREA_MEDI                       53.5  \n",
       "ELEVATORS_AVG                            51.7  \n",
       "ELEVATORS_MEDI                           51.7  \n",
       "ELEVATORS_MODE                           51.7  \n",
       "WALLSMATERIAL_MODE                       49.0  \n",
       "...                                       ...  \n",
       "ENTRANCES_MEDI                           48.4  \n",
       "ENTRANCES_AVG                            48.4  \n",
       "ENTRANCES_MODE                           48.4  \n",
       "LIVINGAREA_MEDI                          48.3  \n",
       "LIVINGAREA_MODE                          48.3  \n",
       "LIVINGAREA_AVG                           48.3  \n",
       "FLOORSMAX_MODE                           47.8  \n",
       "FLOORSMAX_MEDI                           47.8  \n",
       "FLOORSMAX_AVG                            47.8  \n",
       "YEARS_BEGINEXPLUATATION_AVG              46.9  \n",
       "YEARS_BEGINEXPLUATATION_MEDI             46.9  \n",
       "YEARS_BEGINEXPLUATATION_MODE             46.9  \n",
       "TOTALAREA_MODE                           46.4  \n",
       "EMERGENCYSTATE_MODE                      45.6  \n",
       "EXT_SOURCE_1                             42.1  \n",
       "OCCUPATION_TYPE                          32.0  \n",
       "EXT_SOURCE_3                             17.8  \n",
       "AMT_REQ_CREDIT_BUREAU_QRT                12.4  \n",
       "AMT_REQ_CREDIT_BUREAU_YEAR               12.4  \n",
       "AMT_REQ_CREDIT_BUREAU_MON                12.4  \n",
       "AMT_REQ_CREDIT_BUREAU_WEEK               12.4  \n",
       "AMT_REQ_CREDIT_BUREAU_HOUR               12.4  \n",
       "AMT_REQ_CREDIT_BUREAU_DAY                12.4  \n",
       "NAME_TYPE_SUITE                           1.9  \n",
       "OBS_30_CNT_SOCIAL_CIRCLE                  0.1  \n",
       "OBS_60_CNT_SOCIAL_CIRCLE                  0.1  \n",
       "DEF_60_CNT_SOCIAL_CIRCLE                  0.1  \n",
       "DEF_30_CNT_SOCIAL_CIRCLE                  0.1  \n",
       "AMT_ANNUITY                               0.0  \n",
       "EXT_SOURCE_2                              0.0  \n",
       "\n",
       "[64 rows x 3 columns]"
      ]
     },
     "execution_count": 12,
     "metadata": {},
     "output_type": "execute_result"
    }
   ],
   "source": [
    "missing_columns(test)"
   ]
  },
  {
   "cell_type": "code",
   "execution_count": 13,
   "metadata": {},
   "outputs": [
    {
     "data": {
      "text/html": [
       "<div>\n",
       "<style scoped>\n",
       "    .dataframe tbody tr th:only-of-type {\n",
       "        vertical-align: middle;\n",
       "    }\n",
       "\n",
       "    .dataframe tbody tr th {\n",
       "        vertical-align: top;\n",
       "    }\n",
       "\n",
       "    .dataframe thead th {\n",
       "        text-align: right;\n",
       "    }\n",
       "</style>\n",
       "<table border=\"1\" class=\"dataframe\">\n",
       "  <thead>\n",
       "    <tr style=\"text-align: right;\">\n",
       "      <th></th>\n",
       "      <th>Missing Count</th>\n",
       "      <th>Missing Count Ratio</th>\n",
       "      <th>Missing Count %</th>\n",
       "    </tr>\n",
       "  </thead>\n",
       "  <tbody>\n",
       "    <tr>\n",
       "      <th>OWN_CAR_AGE</th>\n",
       "      <td>89</td>\n",
       "      <td>0.717742</td>\n",
       "      <td>71.8</td>\n",
       "    </tr>\n",
       "    <tr>\n",
       "      <th>COMMONAREA_MEDI</th>\n",
       "      <td>88</td>\n",
       "      <td>0.709677</td>\n",
       "      <td>71.0</td>\n",
       "    </tr>\n",
       "    <tr>\n",
       "      <th>COMMONAREA_AVG</th>\n",
       "      <td>88</td>\n",
       "      <td>0.709677</td>\n",
       "      <td>71.0</td>\n",
       "    </tr>\n",
       "    <tr>\n",
       "      <th>COMMONAREA_MODE</th>\n",
       "      <td>88</td>\n",
       "      <td>0.709677</td>\n",
       "      <td>71.0</td>\n",
       "    </tr>\n",
       "    <tr>\n",
       "      <th>NONLIVINGAPARTMENTS_MODE</th>\n",
       "      <td>84</td>\n",
       "      <td>0.677419</td>\n",
       "      <td>67.7</td>\n",
       "    </tr>\n",
       "    <tr>\n",
       "      <th>LIVINGAPARTMENTS_AVG</th>\n",
       "      <td>84</td>\n",
       "      <td>0.677419</td>\n",
       "      <td>67.7</td>\n",
       "    </tr>\n",
       "    <tr>\n",
       "      <th>LIVINGAPARTMENTS_MEDI</th>\n",
       "      <td>84</td>\n",
       "      <td>0.677419</td>\n",
       "      <td>67.7</td>\n",
       "    </tr>\n",
       "    <tr>\n",
       "      <th>NONLIVINGAPARTMENTS_MEDI</th>\n",
       "      <td>84</td>\n",
       "      <td>0.677419</td>\n",
       "      <td>67.7</td>\n",
       "    </tr>\n",
       "    <tr>\n",
       "      <th>LIVINGAPARTMENTS_MODE</th>\n",
       "      <td>84</td>\n",
       "      <td>0.677419</td>\n",
       "      <td>67.7</td>\n",
       "    </tr>\n",
       "    <tr>\n",
       "      <th>NONLIVINGAPARTMENTS_AVG</th>\n",
       "      <td>84</td>\n",
       "      <td>0.677419</td>\n",
       "      <td>67.7</td>\n",
       "    </tr>\n",
       "    <tr>\n",
       "      <th>FLOORSMIN_MEDI</th>\n",
       "      <td>80</td>\n",
       "      <td>0.645161</td>\n",
       "      <td>64.5</td>\n",
       "    </tr>\n",
       "    <tr>\n",
       "      <th>FONDKAPREMONT_MODE</th>\n",
       "      <td>80</td>\n",
       "      <td>0.645161</td>\n",
       "      <td>64.5</td>\n",
       "    </tr>\n",
       "    <tr>\n",
       "      <th>FLOORSMIN_MODE</th>\n",
       "      <td>80</td>\n",
       "      <td>0.645161</td>\n",
       "      <td>64.5</td>\n",
       "    </tr>\n",
       "    <tr>\n",
       "      <th>FLOORSMIN_AVG</th>\n",
       "      <td>80</td>\n",
       "      <td>0.645161</td>\n",
       "      <td>64.5</td>\n",
       "    </tr>\n",
       "    <tr>\n",
       "      <th>YEARS_BUILD_MEDI</th>\n",
       "      <td>79</td>\n",
       "      <td>0.637097</td>\n",
       "      <td>63.7</td>\n",
       "    </tr>\n",
       "    <tr>\n",
       "      <th>YEARS_BUILD_MODE</th>\n",
       "      <td>79</td>\n",
       "      <td>0.637097</td>\n",
       "      <td>63.7</td>\n",
       "    </tr>\n",
       "    <tr>\n",
       "      <th>YEARS_BUILD_AVG</th>\n",
       "      <td>79</td>\n",
       "      <td>0.637097</td>\n",
       "      <td>63.7</td>\n",
       "    </tr>\n",
       "    <tr>\n",
       "      <th>EXT_SOURCE_1</th>\n",
       "      <td>70</td>\n",
       "      <td>0.564516</td>\n",
       "      <td>56.5</td>\n",
       "    </tr>\n",
       "    <tr>\n",
       "      <th>BASEMENTAREA_MODE</th>\n",
       "      <td>70</td>\n",
       "      <td>0.564516</td>\n",
       "      <td>56.5</td>\n",
       "    </tr>\n",
       "    <tr>\n",
       "      <th>BASEMENTAREA_MEDI</th>\n",
       "      <td>70</td>\n",
       "      <td>0.564516</td>\n",
       "      <td>56.5</td>\n",
       "    </tr>\n",
       "    <tr>\n",
       "      <th>BASEMENTAREA_AVG</th>\n",
       "      <td>70</td>\n",
       "      <td>0.564516</td>\n",
       "      <td>56.5</td>\n",
       "    </tr>\n",
       "    <tr>\n",
       "      <th>LANDAREA_MEDI</th>\n",
       "      <td>67</td>\n",
       "      <td>0.540323</td>\n",
       "      <td>54.0</td>\n",
       "    </tr>\n",
       "    <tr>\n",
       "      <th>LANDAREA_MODE</th>\n",
       "      <td>67</td>\n",
       "      <td>0.540323</td>\n",
       "      <td>54.0</td>\n",
       "    </tr>\n",
       "    <tr>\n",
       "      <th>LANDAREA_AVG</th>\n",
       "      <td>67</td>\n",
       "      <td>0.540323</td>\n",
       "      <td>54.0</td>\n",
       "    </tr>\n",
       "    <tr>\n",
       "      <th>NONLIVINGAREA_AVG</th>\n",
       "      <td>66</td>\n",
       "      <td>0.532258</td>\n",
       "      <td>53.2</td>\n",
       "    </tr>\n",
       "    <tr>\n",
       "      <th>NONLIVINGAREA_MEDI</th>\n",
       "      <td>66</td>\n",
       "      <td>0.532258</td>\n",
       "      <td>53.2</td>\n",
       "    </tr>\n",
       "    <tr>\n",
       "      <th>NONLIVINGAREA_MODE</th>\n",
       "      <td>66</td>\n",
       "      <td>0.532258</td>\n",
       "      <td>53.2</td>\n",
       "    </tr>\n",
       "    <tr>\n",
       "      <th>ELEVATORS_MODE</th>\n",
       "      <td>65</td>\n",
       "      <td>0.524194</td>\n",
       "      <td>52.4</td>\n",
       "    </tr>\n",
       "    <tr>\n",
       "      <th>ELEVATORS_MEDI</th>\n",
       "      <td>65</td>\n",
       "      <td>0.524194</td>\n",
       "      <td>52.4</td>\n",
       "    </tr>\n",
       "    <tr>\n",
       "      <th>ELEVATORS_AVG</th>\n",
       "      <td>65</td>\n",
       "      <td>0.524194</td>\n",
       "      <td>52.4</td>\n",
       "    </tr>\n",
       "    <tr>\n",
       "      <th>...</th>\n",
       "      <td>...</td>\n",
       "      <td>...</td>\n",
       "      <td>...</td>\n",
       "    </tr>\n",
       "    <tr>\n",
       "      <th>APARTMENTS_AVG</th>\n",
       "      <td>63</td>\n",
       "      <td>0.508065</td>\n",
       "      <td>50.8</td>\n",
       "    </tr>\n",
       "    <tr>\n",
       "      <th>HOUSETYPE_MODE</th>\n",
       "      <td>62</td>\n",
       "      <td>0.500000</td>\n",
       "      <td>50.0</td>\n",
       "    </tr>\n",
       "    <tr>\n",
       "      <th>WALLSMATERIAL_MODE</th>\n",
       "      <td>62</td>\n",
       "      <td>0.500000</td>\n",
       "      <td>50.0</td>\n",
       "    </tr>\n",
       "    <tr>\n",
       "      <th>LIVINGAREA_AVG</th>\n",
       "      <td>61</td>\n",
       "      <td>0.491935</td>\n",
       "      <td>49.2</td>\n",
       "    </tr>\n",
       "    <tr>\n",
       "      <th>YEARS_BEGINEXPLUATATION_AVG</th>\n",
       "      <td>61</td>\n",
       "      <td>0.491935</td>\n",
       "      <td>49.2</td>\n",
       "    </tr>\n",
       "    <tr>\n",
       "      <th>FLOORSMAX_AVG</th>\n",
       "      <td>61</td>\n",
       "      <td>0.491935</td>\n",
       "      <td>49.2</td>\n",
       "    </tr>\n",
       "    <tr>\n",
       "      <th>YEARS_BEGINEXPLUATATION_MODE</th>\n",
       "      <td>61</td>\n",
       "      <td>0.491935</td>\n",
       "      <td>49.2</td>\n",
       "    </tr>\n",
       "    <tr>\n",
       "      <th>YEARS_BEGINEXPLUATATION_MEDI</th>\n",
       "      <td>61</td>\n",
       "      <td>0.491935</td>\n",
       "      <td>49.2</td>\n",
       "    </tr>\n",
       "    <tr>\n",
       "      <th>ENTRANCES_AVG</th>\n",
       "      <td>61</td>\n",
       "      <td>0.491935</td>\n",
       "      <td>49.2</td>\n",
       "    </tr>\n",
       "    <tr>\n",
       "      <th>LIVINGAREA_MODE</th>\n",
       "      <td>61</td>\n",
       "      <td>0.491935</td>\n",
       "      <td>49.2</td>\n",
       "    </tr>\n",
       "    <tr>\n",
       "      <th>ENTRANCES_MEDI</th>\n",
       "      <td>61</td>\n",
       "      <td>0.491935</td>\n",
       "      <td>49.2</td>\n",
       "    </tr>\n",
       "    <tr>\n",
       "      <th>FLOORSMAX_MEDI</th>\n",
       "      <td>61</td>\n",
       "      <td>0.491935</td>\n",
       "      <td>49.2</td>\n",
       "    </tr>\n",
       "    <tr>\n",
       "      <th>FLOORSMAX_MODE</th>\n",
       "      <td>61</td>\n",
       "      <td>0.491935</td>\n",
       "      <td>49.2</td>\n",
       "    </tr>\n",
       "    <tr>\n",
       "      <th>LIVINGAREA_MEDI</th>\n",
       "      <td>61</td>\n",
       "      <td>0.491935</td>\n",
       "      <td>49.2</td>\n",
       "    </tr>\n",
       "    <tr>\n",
       "      <th>ENTRANCES_MODE</th>\n",
       "      <td>61</td>\n",
       "      <td>0.491935</td>\n",
       "      <td>49.2</td>\n",
       "    </tr>\n",
       "    <tr>\n",
       "      <th>EMERGENCYSTATE_MODE</th>\n",
       "      <td>60</td>\n",
       "      <td>0.483871</td>\n",
       "      <td>48.4</td>\n",
       "    </tr>\n",
       "    <tr>\n",
       "      <th>TOTALAREA_MODE</th>\n",
       "      <td>60</td>\n",
       "      <td>0.483871</td>\n",
       "      <td>48.4</td>\n",
       "    </tr>\n",
       "    <tr>\n",
       "      <th>OCCUPATION_TYPE</th>\n",
       "      <td>31</td>\n",
       "      <td>0.250000</td>\n",
       "      <td>25.0</td>\n",
       "    </tr>\n",
       "    <tr>\n",
       "      <th>EXT_SOURCE_3</th>\n",
       "      <td>29</td>\n",
       "      <td>0.233871</td>\n",
       "      <td>23.4</td>\n",
       "    </tr>\n",
       "    <tr>\n",
       "      <th>AMT_REQ_CREDIT_BUREAU_QRT</th>\n",
       "      <td>20</td>\n",
       "      <td>0.161290</td>\n",
       "      <td>16.1</td>\n",
       "    </tr>\n",
       "    <tr>\n",
       "      <th>AMT_REQ_CREDIT_BUREAU_YEAR</th>\n",
       "      <td>20</td>\n",
       "      <td>0.161290</td>\n",
       "      <td>16.1</td>\n",
       "    </tr>\n",
       "    <tr>\n",
       "      <th>AMT_REQ_CREDIT_BUREAU_WEEK</th>\n",
       "      <td>20</td>\n",
       "      <td>0.161290</td>\n",
       "      <td>16.1</td>\n",
       "    </tr>\n",
       "    <tr>\n",
       "      <th>AMT_REQ_CREDIT_BUREAU_MON</th>\n",
       "      <td>20</td>\n",
       "      <td>0.161290</td>\n",
       "      <td>16.1</td>\n",
       "    </tr>\n",
       "    <tr>\n",
       "      <th>AMT_REQ_CREDIT_BUREAU_HOUR</th>\n",
       "      <td>20</td>\n",
       "      <td>0.161290</td>\n",
       "      <td>16.1</td>\n",
       "    </tr>\n",
       "    <tr>\n",
       "      <th>AMT_REQ_CREDIT_BUREAU_DAY</th>\n",
       "      <td>20</td>\n",
       "      <td>0.161290</td>\n",
       "      <td>16.1</td>\n",
       "    </tr>\n",
       "    <tr>\n",
       "      <th>OBS_30_CNT_SOCIAL_CIRCLE</th>\n",
       "      <td>1</td>\n",
       "      <td>0.008065</td>\n",
       "      <td>0.8</td>\n",
       "    </tr>\n",
       "    <tr>\n",
       "      <th>OBS_60_CNT_SOCIAL_CIRCLE</th>\n",
       "      <td>1</td>\n",
       "      <td>0.008065</td>\n",
       "      <td>0.8</td>\n",
       "    </tr>\n",
       "    <tr>\n",
       "      <th>DEF_60_CNT_SOCIAL_CIRCLE</th>\n",
       "      <td>1</td>\n",
       "      <td>0.008065</td>\n",
       "      <td>0.8</td>\n",
       "    </tr>\n",
       "    <tr>\n",
       "      <th>DEF_30_CNT_SOCIAL_CIRCLE</th>\n",
       "      <td>1</td>\n",
       "      <td>0.008065</td>\n",
       "      <td>0.8</td>\n",
       "    </tr>\n",
       "    <tr>\n",
       "      <th>NAME_TYPE_SUITE</th>\n",
       "      <td>1</td>\n",
       "      <td>0.008065</td>\n",
       "      <td>0.8</td>\n",
       "    </tr>\n",
       "  </tbody>\n",
       "</table>\n",
       "<p>62 rows × 3 columns</p>\n",
       "</div>"
      ],
      "text/plain": [
       "                              Missing Count  Missing Count Ratio  \\\n",
       "OWN_CAR_AGE                              89             0.717742   \n",
       "COMMONAREA_MEDI                          88             0.709677   \n",
       "COMMONAREA_AVG                           88             0.709677   \n",
       "COMMONAREA_MODE                          88             0.709677   \n",
       "NONLIVINGAPARTMENTS_MODE                 84             0.677419   \n",
       "LIVINGAPARTMENTS_AVG                     84             0.677419   \n",
       "LIVINGAPARTMENTS_MEDI                    84             0.677419   \n",
       "NONLIVINGAPARTMENTS_MEDI                 84             0.677419   \n",
       "LIVINGAPARTMENTS_MODE                    84             0.677419   \n",
       "NONLIVINGAPARTMENTS_AVG                  84             0.677419   \n",
       "FLOORSMIN_MEDI                           80             0.645161   \n",
       "FONDKAPREMONT_MODE                       80             0.645161   \n",
       "FLOORSMIN_MODE                           80             0.645161   \n",
       "FLOORSMIN_AVG                            80             0.645161   \n",
       "YEARS_BUILD_MEDI                         79             0.637097   \n",
       "YEARS_BUILD_MODE                         79             0.637097   \n",
       "YEARS_BUILD_AVG                          79             0.637097   \n",
       "EXT_SOURCE_1                             70             0.564516   \n",
       "BASEMENTAREA_MODE                        70             0.564516   \n",
       "BASEMENTAREA_MEDI                        70             0.564516   \n",
       "BASEMENTAREA_AVG                         70             0.564516   \n",
       "LANDAREA_MEDI                            67             0.540323   \n",
       "LANDAREA_MODE                            67             0.540323   \n",
       "LANDAREA_AVG                             67             0.540323   \n",
       "NONLIVINGAREA_AVG                        66             0.532258   \n",
       "NONLIVINGAREA_MEDI                       66             0.532258   \n",
       "NONLIVINGAREA_MODE                       66             0.532258   \n",
       "ELEVATORS_MODE                           65             0.524194   \n",
       "ELEVATORS_MEDI                           65             0.524194   \n",
       "ELEVATORS_AVG                            65             0.524194   \n",
       "...                                     ...                  ...   \n",
       "APARTMENTS_AVG                           63             0.508065   \n",
       "HOUSETYPE_MODE                           62             0.500000   \n",
       "WALLSMATERIAL_MODE                       62             0.500000   \n",
       "LIVINGAREA_AVG                           61             0.491935   \n",
       "YEARS_BEGINEXPLUATATION_AVG              61             0.491935   \n",
       "FLOORSMAX_AVG                            61             0.491935   \n",
       "YEARS_BEGINEXPLUATATION_MODE             61             0.491935   \n",
       "YEARS_BEGINEXPLUATATION_MEDI             61             0.491935   \n",
       "ENTRANCES_AVG                            61             0.491935   \n",
       "LIVINGAREA_MODE                          61             0.491935   \n",
       "ENTRANCES_MEDI                           61             0.491935   \n",
       "FLOORSMAX_MEDI                           61             0.491935   \n",
       "FLOORSMAX_MODE                           61             0.491935   \n",
       "LIVINGAREA_MEDI                          61             0.491935   \n",
       "ENTRANCES_MODE                           61             0.491935   \n",
       "EMERGENCYSTATE_MODE                      60             0.483871   \n",
       "TOTALAREA_MODE                           60             0.483871   \n",
       "OCCUPATION_TYPE                          31             0.250000   \n",
       "EXT_SOURCE_3                             29             0.233871   \n",
       "AMT_REQ_CREDIT_BUREAU_QRT                20             0.161290   \n",
       "AMT_REQ_CREDIT_BUREAU_YEAR               20             0.161290   \n",
       "AMT_REQ_CREDIT_BUREAU_WEEK               20             0.161290   \n",
       "AMT_REQ_CREDIT_BUREAU_MON                20             0.161290   \n",
       "AMT_REQ_CREDIT_BUREAU_HOUR               20             0.161290   \n",
       "AMT_REQ_CREDIT_BUREAU_DAY                20             0.161290   \n",
       "OBS_30_CNT_SOCIAL_CIRCLE                  1             0.008065   \n",
       "OBS_60_CNT_SOCIAL_CIRCLE                  1             0.008065   \n",
       "DEF_60_CNT_SOCIAL_CIRCLE                  1             0.008065   \n",
       "DEF_30_CNT_SOCIAL_CIRCLE                  1             0.008065   \n",
       "NAME_TYPE_SUITE                           1             0.008065   \n",
       "\n",
       "                              Missing Count %  \n",
       "OWN_CAR_AGE                              71.8  \n",
       "COMMONAREA_MEDI                          71.0  \n",
       "COMMONAREA_AVG                           71.0  \n",
       "COMMONAREA_MODE                          71.0  \n",
       "NONLIVINGAPARTMENTS_MODE                 67.7  \n",
       "LIVINGAPARTMENTS_AVG                     67.7  \n",
       "LIVINGAPARTMENTS_MEDI                    67.7  \n",
       "NONLIVINGAPARTMENTS_MEDI                 67.7  \n",
       "LIVINGAPARTMENTS_MODE                    67.7  \n",
       "NONLIVINGAPARTMENTS_AVG                  67.7  \n",
       "FLOORSMIN_MEDI                           64.5  \n",
       "FONDKAPREMONT_MODE                       64.5  \n",
       "FLOORSMIN_MODE                           64.5  \n",
       "FLOORSMIN_AVG                            64.5  \n",
       "YEARS_BUILD_MEDI                         63.7  \n",
       "YEARS_BUILD_MODE                         63.7  \n",
       "YEARS_BUILD_AVG                          63.7  \n",
       "EXT_SOURCE_1                             56.5  \n",
       "BASEMENTAREA_MODE                        56.5  \n",
       "BASEMENTAREA_MEDI                        56.5  \n",
       "BASEMENTAREA_AVG                         56.5  \n",
       "LANDAREA_MEDI                            54.0  \n",
       "LANDAREA_MODE                            54.0  \n",
       "LANDAREA_AVG                             54.0  \n",
       "NONLIVINGAREA_AVG                        53.2  \n",
       "NONLIVINGAREA_MEDI                       53.2  \n",
       "NONLIVINGAREA_MODE                       53.2  \n",
       "ELEVATORS_MODE                           52.4  \n",
       "ELEVATORS_MEDI                           52.4  \n",
       "ELEVATORS_AVG                            52.4  \n",
       "...                                       ...  \n",
       "APARTMENTS_AVG                           50.8  \n",
       "HOUSETYPE_MODE                           50.0  \n",
       "WALLSMATERIAL_MODE                       50.0  \n",
       "LIVINGAREA_AVG                           49.2  \n",
       "YEARS_BEGINEXPLUATATION_AVG              49.2  \n",
       "FLOORSMAX_AVG                            49.2  \n",
       "YEARS_BEGINEXPLUATATION_MODE             49.2  \n",
       "YEARS_BEGINEXPLUATATION_MEDI             49.2  \n",
       "ENTRANCES_AVG                            49.2  \n",
       "LIVINGAREA_MODE                          49.2  \n",
       "ENTRANCES_MEDI                           49.2  \n",
       "FLOORSMAX_MEDI                           49.2  \n",
       "FLOORSMAX_MODE                           49.2  \n",
       "LIVINGAREA_MEDI                          49.2  \n",
       "ENTRANCES_MODE                           49.2  \n",
       "EMERGENCYSTATE_MODE                      48.4  \n",
       "TOTALAREA_MODE                           48.4  \n",
       "OCCUPATION_TYPE                          25.0  \n",
       "EXT_SOURCE_3                             23.4  \n",
       "AMT_REQ_CREDIT_BUREAU_QRT                16.1  \n",
       "AMT_REQ_CREDIT_BUREAU_YEAR               16.1  \n",
       "AMT_REQ_CREDIT_BUREAU_WEEK               16.1  \n",
       "AMT_REQ_CREDIT_BUREAU_MON                16.1  \n",
       "AMT_REQ_CREDIT_BUREAU_HOUR               16.1  \n",
       "AMT_REQ_CREDIT_BUREAU_DAY                16.1  \n",
       "OBS_30_CNT_SOCIAL_CIRCLE                  0.8  \n",
       "OBS_60_CNT_SOCIAL_CIRCLE                  0.8  \n",
       "DEF_60_CNT_SOCIAL_CIRCLE                  0.8  \n",
       "DEF_30_CNT_SOCIAL_CIRCLE                  0.8  \n",
       "NAME_TYPE_SUITE                           0.8  \n",
       "\n",
       "[62 rows x 3 columns]"
      ]
     },
     "execution_count": 13,
     "metadata": {},
     "output_type": "execute_result"
    }
   ],
   "source": [
    "missing_columns(new_test)"
   ]
  },
  {
   "cell_type": "markdown",
   "metadata": {},
   "source": [
    "<h2>Checking Data Types of Datasets</h2>"
   ]
  },
  {
   "cell_type": "code",
   "execution_count": 14,
   "metadata": {},
   "outputs": [
    {
     "name": "stdout",
     "output_type": "stream",
     "text": [
      "Train Dataset: \n",
      "float64    65\n",
      "int64      41\n",
      "object     16\n",
      "dtype: int64\n",
      "()\n",
      "Test Dataset: \n",
      "float64    65\n",
      "int64      40\n",
      "object     16\n",
      "dtype: int64\n",
      "()\n",
      "New Test Dataset: \n",
      "float64    61\n",
      "int64      44\n",
      "object     16\n",
      "dtype: int64\n",
      "()\n"
     ]
    }
   ],
   "source": [
    "print(\"Train Dataset: \\n{}\".format(train.dtypes.value_counts()))\n",
    "print()\n",
    "print(\"Test Dataset: \\n{}\".format(test.dtypes.value_counts()))\n",
    "print()\n",
    "print(\"New Test Dataset: \\n{}\".format(new_test.dtypes.value_counts()))\n",
    "print()"
   ]
  },
  {
   "cell_type": "markdown",
   "metadata": {},
   "source": [
    "<h2>Converting Test Dataset Column Datatyps Similar to Train Dataset </h2>"
   ]
  },
  {
   "cell_type": "code",
   "execution_count": 15,
   "metadata": {},
   "outputs": [],
   "source": [
    "#This function converts dataframe to match columns in accordance with the training dataframe\n",
    "def convert_dtypes(training_df, testing_df, target_name='TARGET'):\n",
    "    for column_name in training_df.drop([target_name],axis=1).columns:\n",
    "        testing_df[column_name]= testing_df[column_name].astype(train[column_name].dtype)\n",
    "    \n",
    "    return testing_df"
   ]
  },
  {
   "cell_type": "code",
   "execution_count": 16,
   "metadata": {},
   "outputs": [],
   "source": [
    "new_test = convert_dtypes(train,new_test)"
   ]
  },
  {
   "cell_type": "code",
   "execution_count": 17,
   "metadata": {},
   "outputs": [
    {
     "name": "stdout",
     "output_type": "stream",
     "text": [
      "Train Dataset: \n",
      "float64    65\n",
      "int64      41\n",
      "object     16\n",
      "dtype: int64\n",
      "()\n",
      "Test Dataset: \n",
      "float64    65\n",
      "int64      40\n",
      "object     16\n",
      "dtype: int64\n",
      "()\n",
      "New Test Dataset: \n",
      "float64    65\n",
      "int64      40\n",
      "object     16\n",
      "dtype: int64\n",
      "()\n"
     ]
    }
   ],
   "source": [
    "print(\"Train Dataset: \\n{}\".format(train.dtypes.value_counts()))\n",
    "print()\n",
    "print(\"Test Dataset: \\n{}\".format(test.dtypes.value_counts()))\n",
    "print()\n",
    "print(\"New Test Dataset: \\n{}\".format(new_test.dtypes.value_counts()))\n",
    "print()"
   ]
  },
  {
   "cell_type": "markdown",
   "metadata": {},
   "source": [
    "<b>New test dataset converted exacrtly like train dataset</b>"
   ]
  },
  {
   "cell_type": "markdown",
   "metadata": {},
   "source": [
    "<h1>Finding Different Classes in Categorichal Columns"
   ]
  },
  {
   "cell_type": "markdown",
   "metadata": {},
   "source": [
    "<b>Train Dataset"
   ]
  },
  {
   "cell_type": "code",
   "execution_count": 18,
   "metadata": {},
   "outputs": [
    {
     "data": {
      "text/plain": [
       "NAME_CONTRACT_TYPE             2\n",
       "CODE_GENDER                    3\n",
       "FLAG_OWN_CAR                   2\n",
       "FLAG_OWN_REALTY                2\n",
       "NAME_TYPE_SUITE                7\n",
       "NAME_INCOME_TYPE               8\n",
       "NAME_EDUCATION_TYPE            5\n",
       "NAME_FAMILY_STATUS             6\n",
       "NAME_HOUSING_TYPE              6\n",
       "OCCUPATION_TYPE               18\n",
       "WEEKDAY_APPR_PROCESS_START     7\n",
       "ORGANIZATION_TYPE             58\n",
       "FONDKAPREMONT_MODE             4\n",
       "HOUSETYPE_MODE                 3\n",
       "WALLSMATERIAL_MODE             7\n",
       "EMERGENCYSTATE_MODE            2\n",
       "dtype: int64"
      ]
     },
     "execution_count": 18,
     "metadata": {},
     "output_type": "execute_result"
    }
   ],
   "source": [
    "train.select_dtypes('object').apply(pd.Series.nunique)"
   ]
  },
  {
   "cell_type": "markdown",
   "metadata": {},
   "source": [
    "<b>Test Dataset"
   ]
  },
  {
   "cell_type": "code",
   "execution_count": 19,
   "metadata": {},
   "outputs": [
    {
     "data": {
      "text/plain": [
       "NAME_CONTRACT_TYPE             2\n",
       "CODE_GENDER                    2\n",
       "FLAG_OWN_CAR                   2\n",
       "FLAG_OWN_REALTY                2\n",
       "NAME_TYPE_SUITE                7\n",
       "NAME_INCOME_TYPE               7\n",
       "NAME_EDUCATION_TYPE            5\n",
       "NAME_FAMILY_STATUS             5\n",
       "NAME_HOUSING_TYPE              6\n",
       "OCCUPATION_TYPE               18\n",
       "WEEKDAY_APPR_PROCESS_START     7\n",
       "ORGANIZATION_TYPE             58\n",
       "FONDKAPREMONT_MODE             4\n",
       "HOUSETYPE_MODE                 3\n",
       "WALLSMATERIAL_MODE             7\n",
       "EMERGENCYSTATE_MODE            2\n",
       "dtype: int64"
      ]
     },
     "execution_count": 19,
     "metadata": {},
     "output_type": "execute_result"
    }
   ],
   "source": [
    "test.select_dtypes('object').apply(pd.Series.nunique)"
   ]
  },
  {
   "cell_type": "markdown",
   "metadata": {},
   "source": [
    "<b>New Test Dataset"
   ]
  },
  {
   "cell_type": "code",
   "execution_count": 20,
   "metadata": {},
   "outputs": [
    {
     "data": {
      "text/plain": [
       "NAME_CONTRACT_TYPE             2\n",
       "CODE_GENDER                    2\n",
       "FLAG_OWN_CAR                   2\n",
       "FLAG_OWN_REALTY                2\n",
       "NAME_TYPE_SUITE                5\n",
       "NAME_INCOME_TYPE               4\n",
       "NAME_EDUCATION_TYPE            3\n",
       "NAME_FAMILY_STATUS             5\n",
       "NAME_HOUSING_TYPE              4\n",
       "OCCUPATION_TYPE               16\n",
       "WEEKDAY_APPR_PROCESS_START     7\n",
       "ORGANIZATION_TYPE             32\n",
       "FONDKAPREMONT_MODE             3\n",
       "HOUSETYPE_MODE                 1\n",
       "WALLSMATERIAL_MODE             7\n",
       "EMERGENCYSTATE_MODE            2\n",
       "dtype: int64"
      ]
     },
     "execution_count": 20,
     "metadata": {},
     "output_type": "execute_result"
    }
   ],
   "source": [
    "new_test.select_dtypes('object').apply(pd.Series.nunique)"
   ]
  },
  {
   "cell_type": "markdown",
   "metadata": {},
   "source": [
    "<h2>Categorical Variable Handling"
   ]
  },
  {
   "cell_type": "markdown",
   "metadata": {},
   "source": [
    "<b>Label Encoding"
   ]
  },
  {
   "cell_type": "code",
   "execution_count": 21,
   "metadata": {},
   "outputs": [
    {
     "name": "stdout",
     "output_type": "stream",
     "text": [
      "Label Encoded 4 columns.\n"
     ]
    }
   ],
   "source": [
    "# Label encode object creation to have less than or equal to 2 unique values\n",
    "from sklearn.preprocessing import LabelEncoder\n",
    "\n",
    "le = LabelEncoder()\n",
    "transform_counter = 0\n",
    "\n",
    "#Going through all categorical column\n",
    "for col in train.select_dtypes('object').columns:\n",
    "    #selecting columns that have only less than or equest to 2 unique values.\n",
    "    if pd.Series.nunique(train[col]) <= 2:\n",
    "        train[col] = le.fit_transform(train[col].astype(str))\n",
    "        test[col] = le.fit_transform(test[col].astype(str))\n",
    "        new_test[col] = le.fit_transform(new_test[col].astype(str))\n",
    "        \n",
    "        transform_counter+=1\n",
    "\n",
    "print(\"Label Encoded {} columns.\".format(transform_counter))"
   ]
  },
  {
   "cell_type": "markdown",
   "metadata": {},
   "source": [
    "<b>One-hot Encoding"
   ]
  },
  {
   "cell_type": "code",
   "execution_count": 22,
   "metadata": {},
   "outputs": [],
   "source": [
    "#This encoding method adding more columns\n",
    "train = pd.get_dummies(train,drop_first=True)\n",
    "test = pd.get_dummies(test,drop_first=True)\n",
    "new_test = pd.get_dummies(new_test,drop_first=True)"
   ]
  },
  {
   "cell_type": "code",
   "execution_count": 23,
   "metadata": {},
   "outputs": [
    {
     "name": "stdout",
     "output_type": "stream",
     "text": [
      "('Training shape: ', (307511, 230))\n",
      "('Testing shape: ', (48744, 226))\n",
      "('New Testing shape: ', (124, 186))\n"
     ]
    }
   ],
   "source": [
    "#Column check\n",
    "print('Training shape: ', train.shape)\n",
    "print('Testing shape: ', test.shape)\n",
    "print('New Testing shape: ',new_test.shape)"
   ]
  },
  {
   "cell_type": "markdown",
   "metadata": {},
   "source": [
    "<b>The column count is not matching. It is possible to fix using aligning"
   ]
  },
  {
   "cell_type": "code",
   "execution_count": 24,
   "metadata": {},
   "outputs": [],
   "source": [
    "#Target labels collecting\n",
    "target = train['TARGET']"
   ]
  },
  {
   "cell_type": "markdown",
   "metadata": {},
   "source": [
    "<h2>Aligning Test and Train Data to get same number of columns"
   ]
  },
  {
   "cell_type": "code",
   "execution_count": 25,
   "metadata": {},
   "outputs": [],
   "source": [
    "train, test = train.align(test, axis=1, join='inner')"
   ]
  },
  {
   "cell_type": "code",
   "execution_count": 26,
   "metadata": {},
   "outputs": [],
   "source": [
    "#Adding the stored target data to train dataset\n",
    "train['TARGET'] = target"
   ]
  },
  {
   "cell_type": "code",
   "execution_count": 27,
   "metadata": {},
   "outputs": [],
   "source": [
    "#This function adding the missing columns to test dataset and set them to 0\n",
    "def match_cols(training_set, testing_set, target_label='TARGET'):\n",
    "    \n",
    "    for column in training_set.drop([target_label],axis=1).columns:\n",
    "        if column not in testing_set.columns:\n",
    "            testing_set[column]=0\n",
    "    return testing_set"
   ]
  },
  {
   "cell_type": "code",
   "execution_count": 28,
   "metadata": {},
   "outputs": [
    {
     "data": {
      "text/plain": [
       "(124, 226)"
      ]
     },
     "execution_count": 28,
     "metadata": {},
     "output_type": "execute_result"
    }
   ],
   "source": [
    "#Executing function and checking new test column numbers\n",
    "new_test=match_cols(train,new_test)\n",
    "new_test.shape"
   ]
  },
  {
   "cell_type": "markdown",
   "metadata": {},
   "source": [
    "<b>Printing Dataset Shapes"
   ]
  },
  {
   "cell_type": "code",
   "execution_count": 29,
   "metadata": {},
   "outputs": [
    {
     "name": "stdout",
     "output_type": "stream",
     "text": [
      "('Training shape: ', (307511, 227))\n",
      "('Testing shape: ', (48744, 226))\n",
      "('New Testing shape: ', (124, 226))\n"
     ]
    }
   ],
   "source": [
    "print('Training shape: ', train.shape)\n",
    "print('Testing shape: ', test.shape)\n",
    "print('New Testing shape: ',new_test.shape)"
   ]
  },
  {
   "cell_type": "markdown",
   "metadata": {},
   "source": [
    "<h2>Analyzing Anomalies in The Dataset"
   ]
  },
  {
   "cell_type": "markdown",
   "metadata": {},
   "source": [
    "<b>Age of the Clients"
   ]
  },
  {
   "cell_type": "code",
   "execution_count": 30,
   "metadata": {},
   "outputs": [
    {
     "data": {
      "text/plain": [
       "count    307511.000000\n",
       "mean         43.936973\n",
       "std          11.956133\n",
       "min          20.517808\n",
       "25%          34.008219\n",
       "50%          43.150685\n",
       "75%          53.923288\n",
       "max          69.120548\n",
       "Name: DAYS_BIRTH, dtype: float64"
      ]
     },
     "execution_count": 30,
     "metadata": {},
     "output_type": "execute_result"
    }
   ],
   "source": [
    "(train['DAYS_BIRTH']/-365).describe()"
   ]
  },
  {
   "cell_type": "code",
   "execution_count": 31,
   "metadata": {},
   "outputs": [
    {
     "data": {
      "text/plain": [
       "Text(0.5,0,'Age of the Clients in Years')"
      ]
     },
     "execution_count": 31,
     "metadata": {},
     "output_type": "execute_result"
    },
    {
     "data": {
      "image/png": "[encoded data removed]",
      "text/plain": [
       "<Figure size 864x504 with 1 Axes>"
      ]
     },
     "metadata": {
      "needs_background": "light"
     },
     "output_type": "display_data"
    }
   ],
   "source": [
    "#Graphing the result\n",
    "fig, ax = plt.subplots(figsize =(12,7))\n",
    "sns.distplot(train['DAYS_BIRTH']/-365,bins=5, kde=False)\n",
    "plt.xlabel(\"Age of the Clients in Years\")"
   ]
  },
  {
   "cell_type": "markdown",
   "metadata": {},
   "source": [
    "<b>Employed Time in Years"
   ]
  },
  {
   "cell_type": "code",
   "execution_count": 32,
   "metadata": {},
   "outputs": [
    {
     "data": {
      "text/plain": [
       "count    307511.000000\n",
       "mean        174.835742\n",
       "std         387.056895\n",
       "min         -49.073973\n",
       "25%          -7.561644\n",
       "50%          -3.323288\n",
       "75%          -0.791781\n",
       "max        1000.665753\n",
       "Name: DAYS_EMPLOYED, dtype: float64"
      ]
     },
     "execution_count": 32,
     "metadata": {},
     "output_type": "execute_result"
    }
   ],
   "source": [
    "(train['DAYS_EMPLOYED']/365).describe()"
   ]
  },
  {
   "cell_type": "markdown",
   "metadata": {},
   "source": [
    "The max years of employment is 1000 years. It is an anomaly in this dataset. "
   ]
  },
  {
   "cell_type": "code",
   "execution_count": 33,
   "metadata": {},
   "outputs": [
    {
     "data": {
      "text/plain": [
       "Text(0.5,0,\"Before the loan application the client's employed time in years \")"
      ]
     },
     "execution_count": 33,
     "metadata": {},
     "output_type": "execute_result"
    },
    {
     "data": {
      "image/png": "[encoded data removed]",
      "text/plain": [
       "<Figure size 864x504 with 1 Axes>"
      ]
     },
     "metadata": {
      "needs_background": "light"
     },
     "output_type": "display_data"
    }
   ],
   "source": [
    "#Graphing the result\n",
    "fig, ax = plt.subplots(figsize =(12,7))\n",
    "sns.distplot(train['DAYS_EMPLOYED']/365, kde=False)\n",
    "plt.xlabel(\"Before the loan application the client's employed time in years \")"
   ]
  },
  {
   "cell_type": "code",
   "execution_count": 34,
   "metadata": {},
   "outputs": [
    {
     "data": {
      "text/plain": [
       "55374"
      ]
     },
     "execution_count": 34,
     "metadata": {},
     "output_type": "execute_result"
    }
   ],
   "source": [
    "#Counting anomalies in this section\n",
    "thou_anomalies = train[(train['DAYS_EMPLOYED']/365>=900) & (train['DAYS_EMPLOYED']/365<=1100)]\n",
    "len(thou_anomalies)"
   ]
  },
  {
   "cell_type": "markdown",
   "metadata": {},
   "source": [
    "<b>Checking the ability to repay of those anomalies"
   ]
  },
  {
   "cell_type": "code",
   "execution_count": 35,
   "metadata": {},
   "outputs": [
    {
     "data": {
      "text/plain": [
       "<matplotlib.axes._subplots.AxesSubplot at 0x22491c48>"
      ]
     },
     "execution_count": 35,
     "metadata": {},
     "output_type": "execute_result"
    },
    {
     "data": {
      "image/png": "[encoded data removed]",
      "text/plain": [
       "<Figure size 864x504 with 1 Axes>"
      ]
     },
     "metadata": {
      "needs_background": "light"
     },
     "output_type": "display_data"
    }
   ],
   "source": [
    "fig, ax = plt.subplots(figsize=(12,7))\n",
    "sns.countplot(x='TARGET',data=thou_anomalies)"
   ]
  },
  {
   "cell_type": "code",
   "execution_count": 36,
   "metadata": {},
   "outputs": [],
   "source": [
    "#Index of non anomalies and anomalies\n",
    "ano_index = pd.Index(thou_anomalies.index)\n",
    "nonano_index = train.index.difference(ano_index)"
   ]
  },
  {
   "cell_type": "code",
   "execution_count": 37,
   "metadata": {},
   "outputs": [],
   "source": [
    "#records of anomalies\n",
    "non_ano = train.iloc[nonano_index]"
   ]
  },
  {
   "cell_type": "code",
   "execution_count": 38,
   "metadata": {},
   "outputs": [],
   "source": [
    "#getting anomaly target\n",
    "ano_target = thou_anomalies['TARGET'].value_counts()\n",
    "non_ano_target = non_ano['TARGET'].value_counts()"
   ]
  },
  {
   "cell_type": "code",
   "execution_count": 39,
   "metadata": {},
   "outputs": [
    {
     "name": "stdout",
     "output_type": "stream",
     "text": [
      "Anomalies default rate 5%\n",
      "Non Anomalies default rate 8%\n"
     ]
    }
   ],
   "source": [
    "#default rate for anomalies and non anomalies\n",
    "print(\"Anomalies default rate {}%\".format(100*ano_target[1]/(ano_target[1]+ano_target[0])))\n",
    "print(\"Non Anomalies default rate {}%\".format(100*non_ano_target[1]/(non_ano_target[1]+non_ano_target[0])))"
   ]
  },
  {
   "cell_type": "markdown",
   "metadata": {},
   "source": [
    "<b>Anomalies have lesser rate compared to non anomalies"
   ]
  },
  {
   "cell_type": "markdown",
   "metadata": {},
   "source": [
    "<h2> Fixing Anomalies"
   ]
  },
  {
   "cell_type": "markdown",
   "metadata": {},
   "source": [
    "<b>The better way to fix these anomalies are to filled with NaN values"
   ]
  },
  {
   "cell_type": "code",
   "execution_count": 40,
   "metadata": {},
   "outputs": [],
   "source": [
    "#Anomalous flag column creation\n",
    "train['DAYS_EMPLOYED_ANOM'] = train[\"DAYS_EMPLOYED\"] == 365243\n",
    "\n",
    "#Replacing anomalous values with NaN\n",
    "train['DAYS_EMPLOYED'] = train['DAYS_EMPLOYED'].replace({365243: np.nan})"
   ]
  },
  {
   "cell_type": "code",
   "execution_count": 41,
   "metadata": {},
   "outputs": [
    {
     "data": {
      "text/plain": [
       "Text(0.5,0,'Years worked before application ')"
      ]
     },
     "execution_count": 41,
     "metadata": {},
     "output_type": "execute_result"
    },
    {
     "data": {
      "image/png": "[encoded data removed]",
      "text/plain": [
       "<Figure size 864x576 with 1 Axes>"
      ]
     },
     "metadata": {
      "needs_background": "light"
     },
     "output_type": "display_data"
    }
   ],
   "source": [
    "#Looking for anolmalies\n",
    "plt.figure(figsize=(12,8))\n",
    "(train['DAYS_EMPLOYED']/-365).plot.hist(title = \"Years of Employment Histogram\")\n",
    "plt.xlabel(\"Years worked before application \")"
   ]
  },
  {
   "cell_type": "markdown",
   "metadata": {},
   "source": [
    "<b>Fixing Test Dataset Anomalies of Employed Years"
   ]
  },
  {
   "cell_type": "code",
   "execution_count": 42,
   "metadata": {},
   "outputs": [],
   "source": [
    "test['DAYS_EMPLOYED_ANOM'] = test[\"DAYS_EMPLOYED\"] == 365243\n",
    "\n",
    "test['DAYS_EMPLOYED'] = test['DAYS_EMPLOYED'].replace({365243: np.nan})\n",
    "\n",
    "new_test['DAYS_EMPLOYED_ANOM'] = new_test[\"DAYS_EMPLOYED\"] == 365243\n",
    "\n",
    "new_test['DAYS_EMPLOYED'] = new_test['DAYS_EMPLOYED'].replace({365243: np.nan})"
   ]
  },
  {
   "cell_type": "markdown",
   "metadata": {},
   "source": [
    "<h2>Finding The Most Correlated features for The TARGET Variable"
   ]
  },
  {
   "cell_type": "code",
   "execution_count": 44,
   "metadata": {},
   "outputs": [],
   "source": [
    "corr_train = train.corr()['TARGET']"
   ]
  },
  {
   "cell_type": "markdown",
   "metadata": {},
   "source": [
    "<b>Getting 10 positive and negative correlated features"
   ]
  },
  {
   "cell_type": "code",
   "execution_count": 45,
   "metadata": {},
   "outputs": [
    {
     "name": "stdout",
     "output_type": "stream",
     "text": [
      "REG_CITY_NOT_WORK_CITY         0.050994\n",
      "DAYS_ID_PUBLISH                0.051457\n",
      "CODE_GENDER_M                  0.054713\n",
      "DAYS_LAST_PHONE_CHANGE         0.055218\n",
      "NAME_INCOME_TYPE_Working       0.057481\n",
      "REGION_RATING_CLIENT           0.058899\n",
      "REGION_RATING_CLIENT_W_CITY    0.060893\n",
      "DAYS_EMPLOYED                  0.074958\n",
      "DAYS_BIRTH                     0.078239\n",
      "TARGET                         1.000000\n",
      "Name: TARGET, dtype: float64\n"
     ]
    },
    {
     "data": {
      "text/plain": [
       "EXT_SOURCE_3                           -0.178919\n",
       "EXT_SOURCE_2                           -0.160472\n",
       "EXT_SOURCE_1                           -0.155317\n",
       "NAME_EDUCATION_TYPE_Higher education   -0.056593\n",
       "NAME_INCOME_TYPE_Pensioner             -0.046209\n",
       "DAYS_EMPLOYED_ANOM                     -0.045987\n",
       "ORGANIZATION_TYPE_XNA                  -0.045987\n",
       "FLOORSMAX_AVG                          -0.044003\n",
       "FLOORSMAX_MEDI                         -0.043768\n",
       "FLOORSMAX_MODE                         -0.043226\n",
       "Name: TARGET, dtype: float64"
      ]
     },
     "execution_count": 45,
     "metadata": {},
     "output_type": "execute_result"
    }
   ],
   "source": [
    "print(corr_train.sort_values().tail(10))\n",
    "corr_train.sort_values().head(10)"
   ]
  },
  {
   "cell_type": "markdown",
   "metadata": {},
   "source": [
    "<h2>Filling the missing values for the correlated variables"
   ]
  },
  {
   "cell_type": "code",
   "execution_count": 46,
   "metadata": {},
   "outputs": [],
   "source": [
    "from sklearn.preprocessing import Imputer"
   ]
  },
  {
   "cell_type": "code",
   "execution_count": 47,
   "metadata": {},
   "outputs": [],
   "source": [
    "poly_fitting_vars = ['EXT_SOURCE_3', 'EXT_SOURCE_2', 'EXT_SOURCE_1', 'DAYS_BIRTH' ]"
   ]
  },
  {
   "cell_type": "code",
   "execution_count": 48,
   "metadata": {},
   "outputs": [
    {
     "name": "stderr",
     "output_type": "stream",
     "text": [
      "c:\\python27\\lib\\site-packages\\sklearn\\utils\\deprecation.py:58: DeprecationWarning: Class Imputer is deprecated; Imputer was deprecated in version 0.20 and will be removed in 0.22. Import impute.SimpleImputer from sklearn instead.\n",
      "  warnings.warn(msg, category=DeprecationWarning)\n"
     ]
    }
   ],
   "source": [
    "imputer = Imputer(missing_values='NaN', strategy='median')"
   ]
  },
  {
   "cell_type": "code",
   "execution_count": 49,
   "metadata": {},
   "outputs": [],
   "source": [
    "train[poly_fitting_vars] = imputer.fit_transform(train[poly_fitting_vars])"
   ]
  },
  {
   "cell_type": "code",
   "execution_count": 50,
   "metadata": {},
   "outputs": [
    {
     "data": {
      "text/plain": [
       "(307511, 4)"
      ]
     },
     "execution_count": 50,
     "metadata": {},
     "output_type": "execute_result"
    }
   ],
   "source": [
    "train[poly_fitting_vars].shape"
   ]
  },
  {
   "cell_type": "code",
   "execution_count": 51,
   "metadata": {},
   "outputs": [],
   "source": [
    "test[poly_fitting_vars] = imputer.transform(test[poly_fitting_vars])"
   ]
  },
  {
   "cell_type": "code",
   "execution_count": 52,
   "metadata": {},
   "outputs": [
    {
     "data": {
      "text/plain": [
       "(48744, 4)"
      ]
     },
     "execution_count": 52,
     "metadata": {},
     "output_type": "execute_result"
    }
   ],
   "source": [
    "test[poly_fitting_vars].shape"
   ]
  },
  {
   "cell_type": "code",
   "execution_count": 53,
   "metadata": {},
   "outputs": [],
   "source": [
    "\n",
    "new_test[poly_fitting_vars] = imputer.transform(new_test[poly_fitting_vars])\n"
   ]
  },
  {
   "cell_type": "code",
   "execution_count": 54,
   "metadata": {},
   "outputs": [
    {
     "data": {
      "text/plain": [
       "(124, 4)"
      ]
     },
     "execution_count": 54,
     "metadata": {},
     "output_type": "execute_result"
    }
   ],
   "source": [
    "new_test[poly_fitting_vars].shape"
   ]
  },
  {
   "cell_type": "markdown",
   "metadata": {},
   "source": [
    "<h2>Generating interaction variables"
   ]
  },
  {
   "cell_type": "code",
   "execution_count": 56,
   "metadata": {},
   "outputs": [],
   "source": [
    "from sklearn.preprocessing import PolynomialFeatures\n"
   ]
  },
  {
   "cell_type": "code",
   "execution_count": 57,
   "metadata": {},
   "outputs": [],
   "source": [
    "poly_feat = PolynomialFeatures(degree=4)"
   ]
  },
  {
   "cell_type": "code",
   "execution_count": 58,
   "metadata": {},
   "outputs": [],
   "source": [
    "poly_interaction_train = poly_feat.fit_transform(train[poly_fitting_vars])"
   ]
  },
  {
   "cell_type": "code",
   "execution_count": 60,
   "metadata": {},
   "outputs": [
    {
     "data": {
      "text/plain": [
       "(307511L, 70L)"
      ]
     },
     "execution_count": 60,
     "metadata": {},
     "output_type": "execute_result"
    }
   ],
   "source": [
    "poly_interaction_train.shape"
   ]
  },
  {
   "cell_type": "code",
   "execution_count": 61,
   "metadata": {},
   "outputs": [],
   "source": [
    "poly_interaction_test = poly_feat.fit_transform(test[poly_fitting_vars])"
   ]
  },
  {
   "cell_type": "code",
   "execution_count": 62,
   "metadata": {},
   "outputs": [
    {
     "data": {
      "text/plain": [
       "(48744L, 70L)"
      ]
     },
     "execution_count": 62,
     "metadata": {},
     "output_type": "execute_result"
    }
   ],
   "source": [
    "poly_interaction_test.shape"
   ]
  },
  {
   "cell_type": "code",
   "execution_count": 63,
   "metadata": {},
   "outputs": [],
   "source": [
    "poly_interaction_new_test = poly_feat.fit_transform(new_test[poly_fitting_vars])"
   ]
  },
  {
   "cell_type": "code",
   "execution_count": 64,
   "metadata": {},
   "outputs": [
    {
     "data": {
      "text/plain": [
       "(124L, 70L)"
      ]
     },
     "execution_count": 64,
     "metadata": {},
     "output_type": "execute_result"
    }
   ],
   "source": [
    "poly_interaction_new_test.shape"
   ]
  },
  {
   "cell_type": "markdown",
   "metadata": {},
   "source": [
    "<h2>Building a Dataframe using interaction variables"
   ]
  },
  {
   "cell_type": "code",
   "execution_count": 66,
   "metadata": {},
   "outputs": [],
   "source": [
    "poly_interaction_train = pd.DataFrame(poly_interaction_train,columns=poly_feat.get_feature_names(poly_fitting_vars))"
   ]
  },
  {
   "cell_type": "code",
   "execution_count": 67,
   "metadata": {},
   "outputs": [
    {
     "data": {
      "text/plain": [
       "(307511, 70)"
      ]
     },
     "execution_count": 67,
     "metadata": {},
     "output_type": "execute_result"
    }
   ],
   "source": [
    "poly_interaction_train.shape"
   ]
  },
  {
   "cell_type": "code",
   "execution_count": 69,
   "metadata": {},
   "outputs": [],
   "source": [
    "poly_interaction_test =  pd.DataFrame(poly_interaction_test,columns=poly_feat.get_feature_names(poly_fitting_vars))"
   ]
  },
  {
   "cell_type": "code",
   "execution_count": 80,
   "metadata": {},
   "outputs": [
    {
     "data": {
      "text/plain": [
       "(48744, 70)"
      ]
     },
     "execution_count": 80,
     "metadata": {},
     "output_type": "execute_result"
    }
   ],
   "source": [
    "poly_interaction_test.shape"
   ]
  },
  {
   "cell_type": "code",
   "execution_count": 81,
   "metadata": {},
   "outputs": [],
   "source": [
    "poly_interaction_new_test =  pd.DataFrame(poly_interaction_new_test,columns=poly_feat.get_feature_names(poly_fitting_vars))"
   ]
  },
  {
   "cell_type": "code",
   "execution_count": 82,
   "metadata": {},
   "outputs": [
    {
     "data": {
      "text/plain": [
       "(124, 70)"
      ]
     },
     "execution_count": 82,
     "metadata": {},
     "output_type": "execute_result"
    }
   ],
   "source": [
    "poly_interaction_new_test.shape"
   ]
  },
  {
   "cell_type": "markdown",
   "metadata": {},
   "source": [
    "<h2>Adding the 'TARGET' Column"
   ]
  },
  {
   "cell_type": "code",
   "execution_count": 83,
   "metadata": {},
   "outputs": [],
   "source": [
    "poly_interaction_train['TARGET'] = train['TARGET']"
   ]
  },
  {
   "cell_type": "code",
   "execution_count": 84,
   "metadata": {},
   "outputs": [],
   "source": [
    "interaction = poly_interaction_train.corr()['TARGET'].sort_values()"
   ]
  },
  {
   "cell_type": "markdown",
   "metadata": {},
   "source": [
    "<h2>Most Correlated Interaction Variables"
   ]
  },
  {
   "cell_type": "code",
   "execution_count": 86,
   "metadata": {},
   "outputs": [
    {
     "name": "stdout",
     "output_type": "stream",
     "text": [
      "EXT_SOURCE_2^3 DAYS_BIRTH                            0.140230\n",
      "EXT_SOURCE_3^2 DAYS_BIRTH                            0.141777\n",
      "EXT_SOURCE_3^2 EXT_SOURCE_1 DAYS_BIRTH               0.144206\n",
      "EXT_SOURCE_2^2 DAYS_BIRTH                            0.149313\n",
      "EXT_SOURCE_2^2 EXT_SOURCE_1 DAYS_BIRTH               0.149813\n",
      "EXT_SOURCE_3 DAYS_BIRTH                              0.150109\n",
      "EXT_SOURCE_3 EXT_SOURCE_1 DAYS_BIRTH                 0.151816\n",
      "EXT_SOURCE_2 EXT_SOURCE_1 DAYS_BIRTH                 0.155891\n",
      "EXT_SOURCE_2 DAYS_BIRTH                              0.156873\n",
      "EXT_SOURCE_3^2 EXT_SOURCE_2 DAYS_BIRTH               0.164466\n",
      "EXT_SOURCE_3 EXT_SOURCE_2^2 DAYS_BIRTH               0.168159\n",
      "EXT_SOURCE_3 EXT_SOURCE_2 EXT_SOURCE_1 DAYS_BIRTH    0.174173\n",
      "EXT_SOURCE_3 EXT_SOURCE_2 DAYS_BIRTH                 0.181283\n",
      "TARGET                                               1.000000\n",
      "1                                                         NaN\n",
      "Name: TARGET, dtype: float64\n"
     ]
    },
    {
     "data": {
      "text/plain": [
       "EXT_SOURCE_3 EXT_SOURCE_2                  -0.193939\n",
       "EXT_SOURCE_3 EXT_SOURCE_2 EXT_SOURCE_1     -0.189605\n",
       "EXT_SOURCE_3 EXT_SOURCE_2^2                -0.176428\n",
       "EXT_SOURCE_3 EXT_SOURCE_2^2 EXT_SOURCE_1   -0.174534\n",
       "EXT_SOURCE_3^2 EXT_SOURCE_2                -0.172282\n",
       "EXT_SOURCE_3^2 EXT_SOURCE_2 EXT_SOURCE_1   -0.170938\n",
       "EXT_SOURCE_2 EXT_SOURCE_1                  -0.166625\n",
       "EXT_SOURCE_3 EXT_SOURCE_1                  -0.164065\n",
       "EXT_SOURCE_3^2 EXT_SOURCE_2^2              -0.162923\n",
       "EXT_SOURCE_3 EXT_SOURCE_2^3                -0.161994\n",
       "EXT_SOURCE_3 EXT_SOURCE_2 EXT_SOURCE_1^2   -0.160677\n",
       "EXT_SOURCE_2                               -0.160295\n",
       "EXT_SOURCE_2^2 EXT_SOURCE_1                -0.156867\n",
       "EXT_SOURCE_3                               -0.155892\n",
       "EXT_SOURCE_3 EXT_SOURCE_2 DAYS_BIRTH^2     -0.154886\n",
       "Name: TARGET, dtype: float64"
      ]
     },
     "execution_count": 86,
     "metadata": {},
     "output_type": "execute_result"
    }
   ],
   "source": [
    "print(interaction.tail(15))\n",
    "(interaction.head(15))"
   ]
  },
  {
   "cell_type": "markdown",
   "metadata": {},
   "source": [
    "<h1>Getting the Names of Columns which Have Highest Correlation - 1 & TARGET Can be Dropped"
   ]
  },
  {
   "cell_type": "code",
   "execution_count": 87,
   "metadata": {},
   "outputs": [
    {
     "data": {
      "text/plain": [
       "{'EXT_SOURCE_2',\n",
       " 'EXT_SOURCE_2 DAYS_BIRTH',\n",
       " 'EXT_SOURCE_2 EXT_SOURCE_1',\n",
       " 'EXT_SOURCE_2 EXT_SOURCE_1 DAYS_BIRTH',\n",
       " 'EXT_SOURCE_2^2 DAYS_BIRTH',\n",
       " 'EXT_SOURCE_2^2 EXT_SOURCE_1',\n",
       " 'EXT_SOURCE_2^2 EXT_SOURCE_1 DAYS_BIRTH',\n",
       " 'EXT_SOURCE_2^3 DAYS_BIRTH',\n",
       " 'EXT_SOURCE_3',\n",
       " 'EXT_SOURCE_3 DAYS_BIRTH',\n",
       " 'EXT_SOURCE_3 EXT_SOURCE_1',\n",
       " 'EXT_SOURCE_3 EXT_SOURCE_1 DAYS_BIRTH',\n",
       " 'EXT_SOURCE_3 EXT_SOURCE_2',\n",
       " 'EXT_SOURCE_3 EXT_SOURCE_2 DAYS_BIRTH',\n",
       " 'EXT_SOURCE_3 EXT_SOURCE_2 DAYS_BIRTH^2',\n",
       " 'EXT_SOURCE_3 EXT_SOURCE_2 EXT_SOURCE_1',\n",
       " 'EXT_SOURCE_3 EXT_SOURCE_2 EXT_SOURCE_1 DAYS_BIRTH',\n",
       " 'EXT_SOURCE_3 EXT_SOURCE_2 EXT_SOURCE_1^2',\n",
       " 'EXT_SOURCE_3 EXT_SOURCE_2^2',\n",
       " 'EXT_SOURCE_3 EXT_SOURCE_2^2 DAYS_BIRTH',\n",
       " 'EXT_SOURCE_3 EXT_SOURCE_2^2 EXT_SOURCE_1',\n",
       " 'EXT_SOURCE_3 EXT_SOURCE_2^3',\n",
       " 'EXT_SOURCE_3^2 DAYS_BIRTH',\n",
       " 'EXT_SOURCE_3^2 EXT_SOURCE_1 DAYS_BIRTH',\n",
       " 'EXT_SOURCE_3^2 EXT_SOURCE_2',\n",
       " 'EXT_SOURCE_3^2 EXT_SOURCE_2 DAYS_BIRTH',\n",
       " 'EXT_SOURCE_3^2 EXT_SOURCE_2 EXT_SOURCE_1',\n",
       " 'EXT_SOURCE_3^2 EXT_SOURCE_2^2'}"
      ]
     },
     "execution_count": 87,
     "metadata": {},
     "output_type": "execute_result"
    }
   ],
   "source": [
    "set(interaction.head(15).index).union(interaction.tail(15).index).difference(set({'1','TARGET'}))"
   ]
  },
  {
   "cell_type": "markdown",
   "metadata": {},
   "source": [
    "<h2>Selecting the columns which have highest correlation to 'TARGET'. Columns '1' and 'TARGET' are not necessary"
   ]
  },
  {
   "cell_type": "code",
   "execution_count": 88,
   "metadata": {},
   "outputs": [],
   "source": [
    "selected_inter_variables = list(set(interaction.head(15).index).union(interaction.tail(15).index).difference(set({'1','TARGET'})))"
   ]
  },
  {
   "cell_type": "code",
   "execution_count": 89,
   "metadata": {},
   "outputs": [
    {
     "data": {
      "text/html": [
       "<div>\n",
       "<style scoped>\n",
       "    .dataframe tbody tr th:only-of-type {\n",
       "        vertical-align: middle;\n",
       "    }\n",
       "\n",
       "    .dataframe tbody tr th {\n",
       "        vertical-align: top;\n",
       "    }\n",
       "\n",
       "    .dataframe thead th {\n",
       "        text-align: right;\n",
       "    }\n",
       "</style>\n",
       "<table border=\"1\" class=\"dataframe\">\n",
       "  <thead>\n",
       "    <tr style=\"text-align: right;\">\n",
       "      <th></th>\n",
       "      <th>EXT_SOURCE_3^2 EXT_SOURCE_2</th>\n",
       "      <th>EXT_SOURCE_3 EXT_SOURCE_2^2 DAYS_BIRTH</th>\n",
       "      <th>EXT_SOURCE_3^2 EXT_SOURCE_2^2</th>\n",
       "      <th>EXT_SOURCE_3 EXT_SOURCE_2^2</th>\n",
       "      <th>EXT_SOURCE_3 EXT_SOURCE_2^3</th>\n",
       "      <th>EXT_SOURCE_2^2 EXT_SOURCE_1</th>\n",
       "      <th>EXT_SOURCE_3 EXT_SOURCE_2 DAYS_BIRTH^2</th>\n",
       "      <th>EXT_SOURCE_3^2 EXT_SOURCE_2 EXT_SOURCE_1</th>\n",
       "      <th>EXT_SOURCE_3 EXT_SOURCE_2 EXT_SOURCE_1 DAYS_BIRTH</th>\n",
       "      <th>EXT_SOURCE_2^2 EXT_SOURCE_1 DAYS_BIRTH</th>\n",
       "      <th>...</th>\n",
       "      <th>EXT_SOURCE_3^2 EXT_SOURCE_2 DAYS_BIRTH</th>\n",
       "      <th>EXT_SOURCE_2 EXT_SOURCE_1</th>\n",
       "      <th>EXT_SOURCE_3 EXT_SOURCE_1</th>\n",
       "      <th>EXT_SOURCE_3 EXT_SOURCE_2</th>\n",
       "      <th>EXT_SOURCE_3 DAYS_BIRTH</th>\n",
       "      <th>EXT_SOURCE_3 EXT_SOURCE_2 EXT_SOURCE_1</th>\n",
       "      <th>EXT_SOURCE_3 EXT_SOURCE_2^2 EXT_SOURCE_1</th>\n",
       "      <th>EXT_SOURCE_3 EXT_SOURCE_2 DAYS_BIRTH</th>\n",
       "      <th>EXT_SOURCE_3 EXT_SOURCE_1 DAYS_BIRTH</th>\n",
       "      <th>EXT_SOURCE_2 EXT_SOURCE_1 DAYS_BIRTH</th>\n",
       "    </tr>\n",
       "  </thead>\n",
       "  <tbody>\n",
       "    <tr>\n",
       "      <th>0</th>\n",
       "      <td>0.005108</td>\n",
       "      <td>-91.172960</td>\n",
       "      <td>0.001343</td>\n",
       "      <td>0.009637</td>\n",
       "      <td>0.002534</td>\n",
       "      <td>0.005741</td>\n",
       "      <td>3.280441e+06</td>\n",
       "      <td>0.000424</td>\n",
       "      <td>-28.791659</td>\n",
       "      <td>-54.318807</td>\n",
       "      <td>...</td>\n",
       "      <td>-48.326185</td>\n",
       "      <td>0.021834</td>\n",
       "      <td>0.011573</td>\n",
       "      <td>0.036649</td>\n",
       "      <td>-1318.634256</td>\n",
       "      <td>0.003043</td>\n",
       "      <td>0.000800</td>\n",
       "      <td>-346.733022</td>\n",
       "      <td>-109.495390</td>\n",
       "      <td>-206.575767</td>\n",
       "    </tr>\n",
       "    <tr>\n",
       "      <th>1</th>\n",
       "      <td>0.178286</td>\n",
       "      <td>-3474.605044</td>\n",
       "      <td>0.110938</td>\n",
       "      <td>0.207254</td>\n",
       "      <td>0.128963</td>\n",
       "      <td>0.120520</td>\n",
       "      <td>9.361535e+07</td>\n",
       "      <td>0.055495</td>\n",
       "      <td>-1738.108981</td>\n",
       "      <td>-2020.509913</td>\n",
       "      <td>...</td>\n",
       "      <td>-2988.969365</td>\n",
       "      <td>0.193685</td>\n",
       "      <td>0.166614</td>\n",
       "      <td>0.333073</td>\n",
       "      <td>-8973.906339</td>\n",
       "      <td>0.103675</td>\n",
       "      <td>0.064511</td>\n",
       "      <td>-5583.975307</td>\n",
       "      <td>-2793.283699</td>\n",
       "      <td>-3247.125160</td>\n",
       "    </tr>\n",
       "    <tr>\n",
       "      <th>2</th>\n",
       "      <td>0.295894</td>\n",
       "      <td>-4294.187521</td>\n",
       "      <td>0.164491</td>\n",
       "      <td>0.225464</td>\n",
       "      <td>0.125338</td>\n",
       "      <td>0.156373</td>\n",
       "      <td>1.471224e+08</td>\n",
       "      <td>0.149722</td>\n",
       "      <td>-3908.621640</td>\n",
       "      <td>-2978.274675</td>\n",
       "      <td>...</td>\n",
       "      <td>-5635.596478</td>\n",
       "      <td>0.281290</td>\n",
       "      <td>0.369159</td>\n",
       "      <td>0.405575</td>\n",
       "      <td>-13895.327191</td>\n",
       "      <td>0.205220</td>\n",
       "      <td>0.114084</td>\n",
       "      <td>-7724.580288</td>\n",
       "      <td>-7031.006802</td>\n",
       "      <td>-5357.456268</td>\n",
       "    </tr>\n",
       "    <tr>\n",
       "      <th>3</th>\n",
       "      <td>0.186365</td>\n",
       "      <td>-4303.904125</td>\n",
       "      <td>0.121220</td>\n",
       "      <td>0.226462</td>\n",
       "      <td>0.147300</td>\n",
       "      <td>0.214075</td>\n",
       "      <td>1.257541e+08</td>\n",
       "      <td>0.094300</td>\n",
       "      <td>-3348.134986</td>\n",
       "      <td>-4068.490949</td>\n",
       "      <td>...</td>\n",
       "      <td>-3541.866544</td>\n",
       "      <td>0.329122</td>\n",
       "      <td>0.270849</td>\n",
       "      <td>0.348166</td>\n",
       "      <td>-10172.925140</td>\n",
       "      <td>0.176171</td>\n",
       "      <td>0.114589</td>\n",
       "      <td>-6616.894625</td>\n",
       "      <td>-5147.479068</td>\n",
       "      <td>-6254.966447</td>\n",
       "    </tr>\n",
       "    <tr>\n",
       "      <th>4</th>\n",
       "      <td>0.092471</td>\n",
       "      <td>-1111.296208</td>\n",
       "      <td>0.029844</td>\n",
       "      <td>0.055754</td>\n",
       "      <td>0.017994</td>\n",
       "      <td>0.052705</td>\n",
       "      <td>6.863256e+07</td>\n",
       "      <td>0.046790</td>\n",
       "      <td>-1742.320648</td>\n",
       "      <td>-1050.510985</td>\n",
       "      <td>...</td>\n",
       "      <td>-1843.135727</td>\n",
       "      <td>0.163305</td>\n",
       "      <td>0.270849</td>\n",
       "      <td>0.172754</td>\n",
       "      <td>-10669.126224</td>\n",
       "      <td>0.087413</td>\n",
       "      <td>0.028212</td>\n",
       "      <td>-3443.335521</td>\n",
       "      <td>-5398.555790</td>\n",
       "      <td>-3254.993372</td>\n",
       "    </tr>\n",
       "  </tbody>\n",
       "</table>\n",
       "<p>5 rows × 28 columns</p>\n",
       "</div>"
      ],
      "text/plain": [
       "   EXT_SOURCE_3^2 EXT_SOURCE_2  EXT_SOURCE_3 EXT_SOURCE_2^2 DAYS_BIRTH  \\\n",
       "0                     0.005108                              -91.172960   \n",
       "1                     0.178286                            -3474.605044   \n",
       "2                     0.295894                            -4294.187521   \n",
       "3                     0.186365                            -4303.904125   \n",
       "4                     0.092471                            -1111.296208   \n",
       "\n",
       "   EXT_SOURCE_3^2 EXT_SOURCE_2^2  EXT_SOURCE_3 EXT_SOURCE_2^2  \\\n",
       "0                       0.001343                     0.009637   \n",
       "1                       0.110938                     0.207254   \n",
       "2                       0.164491                     0.225464   \n",
       "3                       0.121220                     0.226462   \n",
       "4                       0.029844                     0.055754   \n",
       "\n",
       "   EXT_SOURCE_3 EXT_SOURCE_2^3  EXT_SOURCE_2^2 EXT_SOURCE_1  \\\n",
       "0                     0.002534                     0.005741   \n",
       "1                     0.128963                     0.120520   \n",
       "2                     0.125338                     0.156373   \n",
       "3                     0.147300                     0.214075   \n",
       "4                     0.017994                     0.052705   \n",
       "\n",
       "   EXT_SOURCE_3 EXT_SOURCE_2 DAYS_BIRTH^2  \\\n",
       "0                            3.280441e+06   \n",
       "1                            9.361535e+07   \n",
       "2                            1.471224e+08   \n",
       "3                            1.257541e+08   \n",
       "4                            6.863256e+07   \n",
       "\n",
       "   EXT_SOURCE_3^2 EXT_SOURCE_2 EXT_SOURCE_1  \\\n",
       "0                                  0.000424   \n",
       "1                                  0.055495   \n",
       "2                                  0.149722   \n",
       "3                                  0.094300   \n",
       "4                                  0.046790   \n",
       "\n",
       "   EXT_SOURCE_3 EXT_SOURCE_2 EXT_SOURCE_1 DAYS_BIRTH  \\\n",
       "0                                         -28.791659   \n",
       "1                                       -1738.108981   \n",
       "2                                       -3908.621640   \n",
       "3                                       -3348.134986   \n",
       "4                                       -1742.320648   \n",
       "\n",
       "   EXT_SOURCE_2^2 EXT_SOURCE_1 DAYS_BIRTH  ...  \\\n",
       "0                              -54.318807  ...   \n",
       "1                            -2020.509913  ...   \n",
       "2                            -2978.274675  ...   \n",
       "3                            -4068.490949  ...   \n",
       "4                            -1050.510985  ...   \n",
       "\n",
       "   EXT_SOURCE_3^2 EXT_SOURCE_2 DAYS_BIRTH  EXT_SOURCE_2 EXT_SOURCE_1  \\\n",
       "0                              -48.326185                   0.021834   \n",
       "1                            -2988.969365                   0.193685   \n",
       "2                            -5635.596478                   0.281290   \n",
       "3                            -3541.866544                   0.329122   \n",
       "4                            -1843.135727                   0.163305   \n",
       "\n",
       "   EXT_SOURCE_3 EXT_SOURCE_1  EXT_SOURCE_3 EXT_SOURCE_2  \\\n",
       "0                   0.011573                   0.036649   \n",
       "1                   0.166614                   0.333073   \n",
       "2                   0.369159                   0.405575   \n",
       "3                   0.270849                   0.348166   \n",
       "4                   0.270849                   0.172754   \n",
       "\n",
       "   EXT_SOURCE_3 DAYS_BIRTH  EXT_SOURCE_3 EXT_SOURCE_2 EXT_SOURCE_1  \\\n",
       "0             -1318.634256                                0.003043   \n",
       "1             -8973.906339                                0.103675   \n",
       "2            -13895.327191                                0.205220   \n",
       "3            -10172.925140                                0.176171   \n",
       "4            -10669.126224                                0.087413   \n",
       "\n",
       "   EXT_SOURCE_3 EXT_SOURCE_2^2 EXT_SOURCE_1  \\\n",
       "0                                  0.000800   \n",
       "1                                  0.064511   \n",
       "2                                  0.114084   \n",
       "3                                  0.114589   \n",
       "4                                  0.028212   \n",
       "\n",
       "   EXT_SOURCE_3 EXT_SOURCE_2 DAYS_BIRTH  EXT_SOURCE_3 EXT_SOURCE_1 DAYS_BIRTH  \\\n",
       "0                           -346.733022                           -109.495390   \n",
       "1                          -5583.975307                          -2793.283699   \n",
       "2                          -7724.580288                          -7031.006802   \n",
       "3                          -6616.894625                          -5147.479068   \n",
       "4                          -3443.335521                          -5398.555790   \n",
       "\n",
       "   EXT_SOURCE_2 EXT_SOURCE_1 DAYS_BIRTH  \n",
       "0                           -206.575767  \n",
       "1                          -3247.125160  \n",
       "2                          -5357.456268  \n",
       "3                          -6254.966447  \n",
       "4                          -3254.993372  \n",
       "\n",
       "[5 rows x 28 columns]"
      ]
     },
     "execution_count": 89,
     "metadata": {},
     "output_type": "execute_result"
    }
   ],
   "source": [
    "# look at the selected features\n",
    "poly_interaction_train[selected_inter_variables].head()"
   ]
  },
  {
   "cell_type": "code",
   "execution_count": 90,
   "metadata": {},
   "outputs": [
    {
     "data": {
      "text/html": [
       "<div>\n",
       "<style scoped>\n",
       "    .dataframe tbody tr th:only-of-type {\n",
       "        vertical-align: middle;\n",
       "    }\n",
       "\n",
       "    .dataframe tbody tr th {\n",
       "        vertical-align: top;\n",
       "    }\n",
       "\n",
       "    .dataframe thead th {\n",
       "        text-align: right;\n",
       "    }\n",
       "</style>\n",
       "<table border=\"1\" class=\"dataframe\">\n",
       "  <thead>\n",
       "    <tr style=\"text-align: right;\">\n",
       "      <th></th>\n",
       "      <th>EXT_SOURCE_3^2 EXT_SOURCE_2</th>\n",
       "      <th>EXT_SOURCE_3 EXT_SOURCE_2^2 DAYS_BIRTH</th>\n",
       "      <th>EXT_SOURCE_3^2 EXT_SOURCE_2^2</th>\n",
       "      <th>EXT_SOURCE_3 EXT_SOURCE_2^2</th>\n",
       "      <th>EXT_SOURCE_3 EXT_SOURCE_2^3</th>\n",
       "      <th>EXT_SOURCE_2^2 EXT_SOURCE_1</th>\n",
       "      <th>EXT_SOURCE_3 EXT_SOURCE_2 DAYS_BIRTH^2</th>\n",
       "      <th>EXT_SOURCE_3^2 EXT_SOURCE_2 EXT_SOURCE_1</th>\n",
       "      <th>EXT_SOURCE_3 EXT_SOURCE_2 EXT_SOURCE_1 DAYS_BIRTH</th>\n",
       "      <th>EXT_SOURCE_2^2 EXT_SOURCE_1 DAYS_BIRTH</th>\n",
       "      <th>...</th>\n",
       "      <th>EXT_SOURCE_3^2 EXT_SOURCE_2 DAYS_BIRTH</th>\n",
       "      <th>EXT_SOURCE_2 EXT_SOURCE_1</th>\n",
       "      <th>EXT_SOURCE_3 EXT_SOURCE_1</th>\n",
       "      <th>EXT_SOURCE_3 EXT_SOURCE_2</th>\n",
       "      <th>EXT_SOURCE_3 DAYS_BIRTH</th>\n",
       "      <th>EXT_SOURCE_3 EXT_SOURCE_2 EXT_SOURCE_1</th>\n",
       "      <th>EXT_SOURCE_3 EXT_SOURCE_2^2 EXT_SOURCE_1</th>\n",
       "      <th>EXT_SOURCE_3 EXT_SOURCE_2 DAYS_BIRTH</th>\n",
       "      <th>EXT_SOURCE_3 EXT_SOURCE_1 DAYS_BIRTH</th>\n",
       "      <th>EXT_SOURCE_2 EXT_SOURCE_1 DAYS_BIRTH</th>\n",
       "    </tr>\n",
       "  </thead>\n",
       "  <tbody>\n",
       "    <tr>\n",
       "      <th>0</th>\n",
       "      <td>0.020094</td>\n",
       "      <td>-1913.883926</td>\n",
       "      <td>0.015867</td>\n",
       "      <td>0.099469</td>\n",
       "      <td>0.078546</td>\n",
       "      <td>0.469296</td>\n",
       "      <td>4.663438e+07</td>\n",
       "      <td>0.015123</td>\n",
       "      <td>-1824.110478</td>\n",
       "      <td>-9029.719944</td>\n",
       "      <td>...</td>\n",
       "      <td>-386.627243</td>\n",
       "      <td>0.594305</td>\n",
       "      <td>0.120057</td>\n",
       "      <td>0.125965</td>\n",
       "      <td>-3069.315478</td>\n",
       "      <td>0.094803</td>\n",
       "      <td>0.074862</td>\n",
       "      <td>-2423.698322</td>\n",
       "      <td>-2310.011305</td>\n",
       "      <td>-11435.028416</td>\n",
       "    </tr>\n",
       "    <tr>\n",
       "      <th>1</th>\n",
       "      <td>0.054673</td>\n",
       "      <td>-665.278990</td>\n",
       "      <td>0.015946</td>\n",
       "      <td>0.036829</td>\n",
       "      <td>0.010741</td>\n",
       "      <td>0.048060</td>\n",
       "      <td>4.120477e+07</td>\n",
       "      <td>0.030889</td>\n",
       "      <td>-1288.767295</td>\n",
       "      <td>-868.151015</td>\n",
       "      <td>...</td>\n",
       "      <td>-987.604448</td>\n",
       "      <td>0.164783</td>\n",
       "      <td>0.244619</td>\n",
       "      <td>0.126276</td>\n",
       "      <td>-7821.019554</td>\n",
       "      <td>0.071345</td>\n",
       "      <td>0.020808</td>\n",
       "      <td>-2281.043619</td>\n",
       "      <td>-4418.799416</td>\n",
       "      <td>-2976.631403</td>\n",
       "    </tr>\n",
       "    <tr>\n",
       "      <th>2</th>\n",
       "      <td>0.261238</td>\n",
       "      <td>-5995.438444</td>\n",
       "      <td>0.182811</td>\n",
       "      <td>0.299203</td>\n",
       "      <td>0.209379</td>\n",
       "      <td>0.247788</td>\n",
       "      <td>1.716760e+08</td>\n",
       "      <td>0.132186</td>\n",
       "      <td>-4335.147954</td>\n",
       "      <td>-4965.175946</td>\n",
       "      <td>...</td>\n",
       "      <td>-5234.681105</td>\n",
       "      <td>0.354091</td>\n",
       "      <td>0.309160</td>\n",
       "      <td>0.427564</td>\n",
       "      <td>-12243.044232</td>\n",
       "      <td>0.216346</td>\n",
       "      <td>0.151396</td>\n",
       "      <td>-8567.521115</td>\n",
       "      <td>-6194.955045</td>\n",
       "      <td>-7095.269204</td>\n",
       "    </tr>\n",
       "    <tr>\n",
       "      <th>3</th>\n",
       "      <td>0.191336</td>\n",
       "      <td>-2224.456866</td>\n",
       "      <td>0.097520</td>\n",
       "      <td>0.159163</td>\n",
       "      <td>0.081122</td>\n",
       "      <td>0.136570</td>\n",
       "      <td>6.099746e+07</td>\n",
       "      <td>0.100592</td>\n",
       "      <td>-2294.536289</td>\n",
       "      <td>-1908.706472</td>\n",
       "      <td>...</td>\n",
       "      <td>-2674.113111</td>\n",
       "      <td>0.267955</td>\n",
       "      <td>0.322119</td>\n",
       "      <td>0.312281</td>\n",
       "      <td>-8563.154516</td>\n",
       "      <td>0.164177</td>\n",
       "      <td>0.083677</td>\n",
       "      <td>-4364.443591</td>\n",
       "      <td>-4501.941285</td>\n",
       "      <td>-3744.932912</td>\n",
       "    </tr>\n",
       "    <tr>\n",
       "      <th>4</th>\n",
       "      <td>0.121968</td>\n",
       "      <td>-1264.843931</td>\n",
       "      <td>0.051920</td>\n",
       "      <td>0.096997</td>\n",
       "      <td>0.041290</td>\n",
       "      <td>0.036631</td>\n",
       "      <td>3.874573e+07</td>\n",
       "      <td>0.024655</td>\n",
       "      <td>-600.633070</td>\n",
       "      <td>-477.663386</td>\n",
       "      <td>...</td>\n",
       "      <td>-1590.465410</td>\n",
       "      <td>0.086051</td>\n",
       "      <td>0.108203</td>\n",
       "      <td>0.227860</td>\n",
       "      <td>-6980.002306</td>\n",
       "      <td>0.046061</td>\n",
       "      <td>0.019608</td>\n",
       "      <td>-2971.298294</td>\n",
       "      <td>-1410.972511</td>\n",
       "      <td>-1122.099233</td>\n",
       "    </tr>\n",
       "  </tbody>\n",
       "</table>\n",
       "<p>5 rows × 28 columns</p>\n",
       "</div>"
      ],
      "text/plain": [
       "   EXT_SOURCE_3^2 EXT_SOURCE_2  EXT_SOURCE_3 EXT_SOURCE_2^2 DAYS_BIRTH  \\\n",
       "0                     0.020094                            -1913.883926   \n",
       "1                     0.054673                             -665.278990   \n",
       "2                     0.261238                            -5995.438444   \n",
       "3                     0.191336                            -2224.456866   \n",
       "4                     0.121968                            -1264.843931   \n",
       "\n",
       "   EXT_SOURCE_3^2 EXT_SOURCE_2^2  EXT_SOURCE_3 EXT_SOURCE_2^2  \\\n",
       "0                       0.015867                     0.099469   \n",
       "1                       0.015946                     0.036829   \n",
       "2                       0.182811                     0.299203   \n",
       "3                       0.097520                     0.159163   \n",
       "4                       0.051920                     0.096997   \n",
       "\n",
       "   EXT_SOURCE_3 EXT_SOURCE_2^3  EXT_SOURCE_2^2 EXT_SOURCE_1  \\\n",
       "0                     0.078546                     0.469296   \n",
       "1                     0.010741                     0.048060   \n",
       "2                     0.209379                     0.247788   \n",
       "3                     0.081122                     0.136570   \n",
       "4                     0.041290                     0.036631   \n",
       "\n",
       "   EXT_SOURCE_3 EXT_SOURCE_2 DAYS_BIRTH^2  \\\n",
       "0                            4.663438e+07   \n",
       "1                            4.120477e+07   \n",
       "2                            1.716760e+08   \n",
       "3                            6.099746e+07   \n",
       "4                            3.874573e+07   \n",
       "\n",
       "   EXT_SOURCE_3^2 EXT_SOURCE_2 EXT_SOURCE_1  \\\n",
       "0                                  0.015123   \n",
       "1                                  0.030889   \n",
       "2                                  0.132186   \n",
       "3                                  0.100592   \n",
       "4                                  0.024655   \n",
       "\n",
       "   EXT_SOURCE_3 EXT_SOURCE_2 EXT_SOURCE_1 DAYS_BIRTH  \\\n",
       "0                                       -1824.110478   \n",
       "1                                       -1288.767295   \n",
       "2                                       -4335.147954   \n",
       "3                                       -2294.536289   \n",
       "4                                        -600.633070   \n",
       "\n",
       "   EXT_SOURCE_2^2 EXT_SOURCE_1 DAYS_BIRTH  ...  \\\n",
       "0                            -9029.719944  ...   \n",
       "1                             -868.151015  ...   \n",
       "2                            -4965.175946  ...   \n",
       "3                            -1908.706472  ...   \n",
       "4                             -477.663386  ...   \n",
       "\n",
       "   EXT_SOURCE_3^2 EXT_SOURCE_2 DAYS_BIRTH  EXT_SOURCE_2 EXT_SOURCE_1  \\\n",
       "0                             -386.627243                   0.594305   \n",
       "1                             -987.604448                   0.164783   \n",
       "2                            -5234.681105                   0.354091   \n",
       "3                            -2674.113111                   0.267955   \n",
       "4                            -1590.465410                   0.086051   \n",
       "\n",
       "   EXT_SOURCE_3 EXT_SOURCE_1  EXT_SOURCE_3 EXT_SOURCE_2  \\\n",
       "0                   0.120057                   0.125965   \n",
       "1                   0.244619                   0.126276   \n",
       "2                   0.309160                   0.427564   \n",
       "3                   0.322119                   0.312281   \n",
       "4                   0.108203                   0.227860   \n",
       "\n",
       "   EXT_SOURCE_3 DAYS_BIRTH  EXT_SOURCE_3 EXT_SOURCE_2 EXT_SOURCE_1  \\\n",
       "0             -3069.315478                                0.094803   \n",
       "1             -7821.019554                                0.071345   \n",
       "2            -12243.044232                                0.216346   \n",
       "3             -8563.154516                                0.164177   \n",
       "4             -6980.002306                                0.046061   \n",
       "\n",
       "   EXT_SOURCE_3 EXT_SOURCE_2^2 EXT_SOURCE_1  \\\n",
       "0                                  0.074862   \n",
       "1                                  0.020808   \n",
       "2                                  0.151396   \n",
       "3                                  0.083677   \n",
       "4                                  0.019608   \n",
       "\n",
       "   EXT_SOURCE_3 EXT_SOURCE_2 DAYS_BIRTH  EXT_SOURCE_3 EXT_SOURCE_1 DAYS_BIRTH  \\\n",
       "0                          -2423.698322                          -2310.011305   \n",
       "1                          -2281.043619                          -4418.799416   \n",
       "2                          -8567.521115                          -6194.955045   \n",
       "3                          -4364.443591                          -4501.941285   \n",
       "4                          -2971.298294                          -1410.972511   \n",
       "\n",
       "   EXT_SOURCE_2 EXT_SOURCE_1 DAYS_BIRTH  \n",
       "0                         -11435.028416  \n",
       "1                          -2976.631403  \n",
       "2                          -7095.269204  \n",
       "3                          -3744.932912  \n",
       "4                          -1122.099233  \n",
       "\n",
       "[5 rows x 28 columns]"
      ]
     },
     "execution_count": 90,
     "metadata": {},
     "output_type": "execute_result"
    }
   ],
   "source": [
    "poly_interaction_test[selected_inter_variables].head()"
   ]
  },
  {
   "cell_type": "code",
   "execution_count": 91,
   "metadata": {},
   "outputs": [
    {
     "data": {
      "text/html": [
       "<div>\n",
       "<style scoped>\n",
       "    .dataframe tbody tr th:only-of-type {\n",
       "        vertical-align: middle;\n",
       "    }\n",
       "\n",
       "    .dataframe tbody tr th {\n",
       "        vertical-align: top;\n",
       "    }\n",
       "\n",
       "    .dataframe thead th {\n",
       "        text-align: right;\n",
       "    }\n",
       "</style>\n",
       "<table border=\"1\" class=\"dataframe\">\n",
       "  <thead>\n",
       "    <tr style=\"text-align: right;\">\n",
       "      <th></th>\n",
       "      <th>EXT_SOURCE_3^2 EXT_SOURCE_2</th>\n",
       "      <th>EXT_SOURCE_3 EXT_SOURCE_2^2 DAYS_BIRTH</th>\n",
       "      <th>EXT_SOURCE_3^2 EXT_SOURCE_2^2</th>\n",
       "      <th>EXT_SOURCE_3 EXT_SOURCE_2^2</th>\n",
       "      <th>EXT_SOURCE_3 EXT_SOURCE_2^3</th>\n",
       "      <th>EXT_SOURCE_2^2 EXT_SOURCE_1</th>\n",
       "      <th>EXT_SOURCE_3 EXT_SOURCE_2 DAYS_BIRTH^2</th>\n",
       "      <th>EXT_SOURCE_3^2 EXT_SOURCE_2 EXT_SOURCE_1</th>\n",
       "      <th>EXT_SOURCE_3 EXT_SOURCE_2 EXT_SOURCE_1 DAYS_BIRTH</th>\n",
       "      <th>EXT_SOURCE_2^2 EXT_SOURCE_1 DAYS_BIRTH</th>\n",
       "      <th>...</th>\n",
       "      <th>EXT_SOURCE_3^2 EXT_SOURCE_2 DAYS_BIRTH</th>\n",
       "      <th>EXT_SOURCE_2 EXT_SOURCE_1</th>\n",
       "      <th>EXT_SOURCE_3 EXT_SOURCE_1</th>\n",
       "      <th>EXT_SOURCE_3 EXT_SOURCE_2</th>\n",
       "      <th>EXT_SOURCE_3 DAYS_BIRTH</th>\n",
       "      <th>EXT_SOURCE_3 EXT_SOURCE_2 EXT_SOURCE_1</th>\n",
       "      <th>EXT_SOURCE_3 EXT_SOURCE_2^2 EXT_SOURCE_1</th>\n",
       "      <th>EXT_SOURCE_3 EXT_SOURCE_2 DAYS_BIRTH</th>\n",
       "      <th>EXT_SOURCE_3 EXT_SOURCE_1 DAYS_BIRTH</th>\n",
       "      <th>EXT_SOURCE_2 EXT_SOURCE_1 DAYS_BIRTH</th>\n",
       "    </tr>\n",
       "  </thead>\n",
       "  <tbody>\n",
       "    <tr>\n",
       "      <th>0</th>\n",
       "      <td>0.005108</td>\n",
       "      <td>-91.172960</td>\n",
       "      <td>0.001343</td>\n",
       "      <td>0.009637</td>\n",
       "      <td>0.002534</td>\n",
       "      <td>0.005741</td>\n",
       "      <td>3.280441e+06</td>\n",
       "      <td>0.000424</td>\n",
       "      <td>-28.791658</td>\n",
       "      <td>-54.318807</td>\n",
       "      <td>...</td>\n",
       "      <td>-48.326185</td>\n",
       "      <td>0.021834</td>\n",
       "      <td>0.011573</td>\n",
       "      <td>0.036649</td>\n",
       "      <td>-1318.634255</td>\n",
       "      <td>0.003043</td>\n",
       "      <td>0.000800</td>\n",
       "      <td>-346.733022</td>\n",
       "      <td>-109.495389</td>\n",
       "      <td>-206.575766</td>\n",
       "    </tr>\n",
       "    <tr>\n",
       "      <th>1</th>\n",
       "      <td>0.178286</td>\n",
       "      <td>-3474.605041</td>\n",
       "      <td>0.110938</td>\n",
       "      <td>0.207254</td>\n",
       "      <td>0.128963</td>\n",
       "      <td>0.120520</td>\n",
       "      <td>9.361535e+07</td>\n",
       "      <td>0.055495</td>\n",
       "      <td>-1738.108978</td>\n",
       "      <td>-2020.509909</td>\n",
       "      <td>...</td>\n",
       "      <td>-2988.969364</td>\n",
       "      <td>0.193685</td>\n",
       "      <td>0.166614</td>\n",
       "      <td>0.333073</td>\n",
       "      <td>-8973.906339</td>\n",
       "      <td>0.103675</td>\n",
       "      <td>0.064511</td>\n",
       "      <td>-5583.975305</td>\n",
       "      <td>-2793.283695</td>\n",
       "      <td>-3247.125155</td>\n",
       "    </tr>\n",
       "    <tr>\n",
       "      <th>2</th>\n",
       "      <td>0.295894</td>\n",
       "      <td>-4294.187517</td>\n",
       "      <td>0.164491</td>\n",
       "      <td>0.225464</td>\n",
       "      <td>0.125338</td>\n",
       "      <td>0.156373</td>\n",
       "      <td>1.471224e+08</td>\n",
       "      <td>0.149722</td>\n",
       "      <td>-3908.621639</td>\n",
       "      <td>-2978.274671</td>\n",
       "      <td>...</td>\n",
       "      <td>-5635.596479</td>\n",
       "      <td>0.281290</td>\n",
       "      <td>0.369159</td>\n",
       "      <td>0.405575</td>\n",
       "      <td>-13895.327197</td>\n",
       "      <td>0.205220</td>\n",
       "      <td>0.114084</td>\n",
       "      <td>-7724.580286</td>\n",
       "      <td>-7031.006805</td>\n",
       "      <td>-5357.456264</td>\n",
       "    </tr>\n",
       "    <tr>\n",
       "      <th>3</th>\n",
       "      <td>0.186365</td>\n",
       "      <td>-4303.904119</td>\n",
       "      <td>0.121220</td>\n",
       "      <td>0.226462</td>\n",
       "      <td>0.147300</td>\n",
       "      <td>0.214075</td>\n",
       "      <td>1.257541e+08</td>\n",
       "      <td>0.094300</td>\n",
       "      <td>-3348.134984</td>\n",
       "      <td>-4068.490944</td>\n",
       "      <td>...</td>\n",
       "      <td>-3541.866542</td>\n",
       "      <td>0.329122</td>\n",
       "      <td>0.270849</td>\n",
       "      <td>0.348166</td>\n",
       "      <td>-10172.925140</td>\n",
       "      <td>0.176171</td>\n",
       "      <td>0.114589</td>\n",
       "      <td>-6616.894620</td>\n",
       "      <td>-5147.479068</td>\n",
       "      <td>-6254.966443</td>\n",
       "    </tr>\n",
       "    <tr>\n",
       "      <th>4</th>\n",
       "      <td>0.092471</td>\n",
       "      <td>-1111.296208</td>\n",
       "      <td>0.029844</td>\n",
       "      <td>0.055754</td>\n",
       "      <td>0.017994</td>\n",
       "      <td>0.052705</td>\n",
       "      <td>6.863256e+07</td>\n",
       "      <td>0.046790</td>\n",
       "      <td>-1742.320648</td>\n",
       "      <td>-1050.510985</td>\n",
       "      <td>...</td>\n",
       "      <td>-1843.135727</td>\n",
       "      <td>0.163305</td>\n",
       "      <td>0.270849</td>\n",
       "      <td>0.172754</td>\n",
       "      <td>-10669.126224</td>\n",
       "      <td>0.087413</td>\n",
       "      <td>0.028212</td>\n",
       "      <td>-3443.335521</td>\n",
       "      <td>-5398.555790</td>\n",
       "      <td>-3254.993373</td>\n",
       "    </tr>\n",
       "  </tbody>\n",
       "</table>\n",
       "<p>5 rows × 28 columns</p>\n",
       "</div>"
      ],
      "text/plain": [
       "   EXT_SOURCE_3^2 EXT_SOURCE_2  EXT_SOURCE_3 EXT_SOURCE_2^2 DAYS_BIRTH  \\\n",
       "0                     0.005108                              -91.172960   \n",
       "1                     0.178286                            -3474.605041   \n",
       "2                     0.295894                            -4294.187517   \n",
       "3                     0.186365                            -4303.904119   \n",
       "4                     0.092471                            -1111.296208   \n",
       "\n",
       "   EXT_SOURCE_3^2 EXT_SOURCE_2^2  EXT_SOURCE_3 EXT_SOURCE_2^2  \\\n",
       "0                       0.001343                     0.009637   \n",
       "1                       0.110938                     0.207254   \n",
       "2                       0.164491                     0.225464   \n",
       "3                       0.121220                     0.226462   \n",
       "4                       0.029844                     0.055754   \n",
       "\n",
       "   EXT_SOURCE_3 EXT_SOURCE_2^3  EXT_SOURCE_2^2 EXT_SOURCE_1  \\\n",
       "0                     0.002534                     0.005741   \n",
       "1                     0.128963                     0.120520   \n",
       "2                     0.125338                     0.156373   \n",
       "3                     0.147300                     0.214075   \n",
       "4                     0.017994                     0.052705   \n",
       "\n",
       "   EXT_SOURCE_3 EXT_SOURCE_2 DAYS_BIRTH^2  \\\n",
       "0                            3.280441e+06   \n",
       "1                            9.361535e+07   \n",
       "2                            1.471224e+08   \n",
       "3                            1.257541e+08   \n",
       "4                            6.863256e+07   \n",
       "\n",
       "   EXT_SOURCE_3^2 EXT_SOURCE_2 EXT_SOURCE_1  \\\n",
       "0                                  0.000424   \n",
       "1                                  0.055495   \n",
       "2                                  0.149722   \n",
       "3                                  0.094300   \n",
       "4                                  0.046790   \n",
       "\n",
       "   EXT_SOURCE_3 EXT_SOURCE_2 EXT_SOURCE_1 DAYS_BIRTH  \\\n",
       "0                                         -28.791658   \n",
       "1                                       -1738.108978   \n",
       "2                                       -3908.621639   \n",
       "3                                       -3348.134984   \n",
       "4                                       -1742.320648   \n",
       "\n",
       "   EXT_SOURCE_2^2 EXT_SOURCE_1 DAYS_BIRTH  ...  \\\n",
       "0                              -54.318807  ...   \n",
       "1                            -2020.509909  ...   \n",
       "2                            -2978.274671  ...   \n",
       "3                            -4068.490944  ...   \n",
       "4                            -1050.510985  ...   \n",
       "\n",
       "   EXT_SOURCE_3^2 EXT_SOURCE_2 DAYS_BIRTH  EXT_SOURCE_2 EXT_SOURCE_1  \\\n",
       "0                              -48.326185                   0.021834   \n",
       "1                            -2988.969364                   0.193685   \n",
       "2                            -5635.596479                   0.281290   \n",
       "3                            -3541.866542                   0.329122   \n",
       "4                            -1843.135727                   0.163305   \n",
       "\n",
       "   EXT_SOURCE_3 EXT_SOURCE_1  EXT_SOURCE_3 EXT_SOURCE_2  \\\n",
       "0                   0.011573                   0.036649   \n",
       "1                   0.166614                   0.333073   \n",
       "2                   0.369159                   0.405575   \n",
       "3                   0.270849                   0.348166   \n",
       "4                   0.270849                   0.172754   \n",
       "\n",
       "   EXT_SOURCE_3 DAYS_BIRTH  EXT_SOURCE_3 EXT_SOURCE_2 EXT_SOURCE_1  \\\n",
       "0             -1318.634255                                0.003043   \n",
       "1             -8973.906339                                0.103675   \n",
       "2            -13895.327197                                0.205220   \n",
       "3            -10172.925140                                0.176171   \n",
       "4            -10669.126224                                0.087413   \n",
       "\n",
       "   EXT_SOURCE_3 EXT_SOURCE_2^2 EXT_SOURCE_1  \\\n",
       "0                                  0.000800   \n",
       "1                                  0.064511   \n",
       "2                                  0.114084   \n",
       "3                                  0.114589   \n",
       "4                                  0.028212   \n",
       "\n",
       "   EXT_SOURCE_3 EXT_SOURCE_2 DAYS_BIRTH  EXT_SOURCE_3 EXT_SOURCE_1 DAYS_BIRTH  \\\n",
       "0                           -346.733022                           -109.495389   \n",
       "1                          -5583.975305                          -2793.283695   \n",
       "2                          -7724.580286                          -7031.006805   \n",
       "3                          -6616.894620                          -5147.479068   \n",
       "4                          -3443.335521                          -5398.555790   \n",
       "\n",
       "   EXT_SOURCE_2 EXT_SOURCE_1 DAYS_BIRTH  \n",
       "0                           -206.575766  \n",
       "1                          -3247.125155  \n",
       "2                          -5357.456264  \n",
       "3                          -6254.966443  \n",
       "4                          -3254.993373  \n",
       "\n",
       "[5 rows x 28 columns]"
      ]
     },
     "execution_count": 91,
     "metadata": {},
     "output_type": "execute_result"
    }
   ],
   "source": [
    "poly_interaction_new_test[selected_inter_variables].head()"
   ]
  },
  {
   "cell_type": "markdown",
   "metadata": {},
   "source": [
    "<h2>List of unselected columns that possible to drop"
   ]
  },
  {
   "cell_type": "code",
   "execution_count": 92,
   "metadata": {},
   "outputs": [],
   "source": [
    "unselected_cols = [element for element in poly_interaction_train.columns if element not in selected_inter_variables]"
   ]
  },
  {
   "cell_type": "markdown",
   "metadata": {},
   "source": [
    "<h2>Dropping unselected columns of train and test data"
   ]
  },
  {
   "cell_type": "code",
   "execution_count": 93,
   "metadata": {},
   "outputs": [],
   "source": [
    "poly_interaction_train = poly_interaction_train.drop(unselected_cols,axis=1)"
   ]
  },
  {
   "cell_type": "code",
   "execution_count": 94,
   "metadata": {},
   "outputs": [],
   "source": [
    "poly_interaction_test = poly_interaction_test.drop(list(set(unselected_cols).difference({'TARGET'})),axis=1)"
   ]
  },
  {
   "cell_type": "code",
   "execution_count": 95,
   "metadata": {},
   "outputs": [],
   "source": [
    "poly_interaction_new_test = poly_interaction_new_test.drop(list(set(unselected_cols).difference({'TARGET'})),axis=1)"
   ]
  },
  {
   "cell_type": "markdown",
   "metadata": {},
   "source": [
    "<h2> Merging polynomial feature into original dataset"
   ]
  },
  {
   "cell_type": "code",
   "execution_count": 96,
   "metadata": {},
   "outputs": [],
   "source": [
    "train = train.join(poly_interaction_train.drop(['EXT_SOURCE_2', 'EXT_SOURCE_3'],axis=1))"
   ]
  },
  {
   "cell_type": "code",
   "execution_count": 97,
   "metadata": {},
   "outputs": [],
   "source": [
    "test = test.join(poly_interaction_test.drop(['EXT_SOURCE_2', 'EXT_SOURCE_3'],axis=1))"
   ]
  },
  {
   "cell_type": "code",
   "execution_count": 98,
   "metadata": {},
   "outputs": [],
   "source": [
    "new_test = new_test.join(poly_interaction_new_test.drop(['EXT_SOURCE_2', 'EXT_SOURCE_3'],axis=1))"
   ]
  },
  {
   "cell_type": "markdown",
   "metadata": {},
   "source": [
    "<h2>Merged dataframe dimensions"
   ]
  },
  {
   "cell_type": "code",
   "execution_count": 99,
   "metadata": {},
   "outputs": [
    {
     "name": "stdout",
     "output_type": "stream",
     "text": [
      "The train dataset dimensions: (307511, 254)\n",
      "The test dataset dimensions: (48744, 253)\n",
      "The new test dataset dimensions: (124, 253)\n"
     ]
    }
   ],
   "source": [
    "print(\"The train dataset dimensions: {}\".format(train.shape))\n",
    "print(\"The test dataset dimensions: {}\".format(test.shape))\n",
    "print(\"The new test dataset dimensions: {}\".format(new_test.shape))\n"
   ]
  },
  {
   "cell_type": "markdown",
   "metadata": {},
   "source": [
    "<h2>Preparing the Dataset for Creating the Machine Learning Model"
   ]
  },
  {
   "cell_type": "markdown",
   "metadata": {},
   "source": [
    "<h2>Feature Imputing"
   ]
  },
  {
   "cell_type": "code",
   "execution_count": 100,
   "metadata": {},
   "outputs": [],
   "source": [
    "from sklearn.preprocessing import MinMaxScaler, Imputer"
   ]
  },
  {
   "cell_type": "code",
   "execution_count": 101,
   "metadata": {},
   "outputs": [],
   "source": [
    "features = list(set(train.columns).difference({'TARGET'}))"
   ]
  },
  {
   "cell_type": "code",
   "execution_count": 102,
   "metadata": {},
   "outputs": [
    {
     "name": "stderr",
     "output_type": "stream",
     "text": [
      "c:\\python27\\lib\\site-packages\\sklearn\\utils\\deprecation.py:58: DeprecationWarning: Class Imputer is deprecated; Imputer was deprecated in version 0.20 and will be removed in 0.22. Import impute.SimpleImputer from sklearn instead.\n",
      "  warnings.warn(msg, category=DeprecationWarning)\n"
     ]
    }
   ],
   "source": [
    "imputer = Imputer(strategy=\"median\")"
   ]
  },
  {
   "cell_type": "markdown",
   "metadata": {},
   "source": [
    "<h2>Feature Scaling"
   ]
  },
  {
   "cell_type": "code",
   "execution_count": 103,
   "metadata": {},
   "outputs": [],
   "source": [
    "new_test = new_test.replace(to_replace=np.inf,value=0)"
   ]
  },
  {
   "cell_type": "code",
   "execution_count": 104,
   "metadata": {},
   "outputs": [],
   "source": [
    "scaler = MinMaxScaler(feature_range = (0, 1))"
   ]
  },
  {
   "cell_type": "code",
   "execution_count": 105,
   "metadata": {},
   "outputs": [
    {
     "data": {
      "text/plain": [
       "Imputer(axis=0, copy=True, missing_values='NaN', strategy='median', verbose=0)"
      ]
     },
     "execution_count": 105,
     "metadata": {},
     "output_type": "execute_result"
    }
   ],
   "source": [
    "imputer.fit(train.drop(['TARGET'],axis=1))"
   ]
  },
  {
   "cell_type": "code",
   "execution_count": 106,
   "metadata": {},
   "outputs": [],
   "source": [
    "train_transformed = imputer.transform(train.drop(['TARGET'],axis=1))"
   ]
  },
  {
   "cell_type": "code",
   "execution_count": 107,
   "metadata": {},
   "outputs": [],
   "source": [
    "test_transformed = imputer.transform(test)"
   ]
  },
  {
   "cell_type": "code",
   "execution_count": 108,
   "metadata": {},
   "outputs": [],
   "source": [
    "new_test_transformed = imputer.transform(new_test)"
   ]
  },
  {
   "cell_type": "code",
   "execution_count": 109,
   "metadata": {},
   "outputs": [],
   "source": [
    "train_transformed = scaler.fit_transform(train_transformed)"
   ]
  },
  {
   "cell_type": "code",
   "execution_count": 110,
   "metadata": {},
   "outputs": [],
   "source": [
    "test_transformed = scaler.transform(test_transformed)"
   ]
  },
  {
   "cell_type": "code",
   "execution_count": 111,
   "metadata": {},
   "outputs": [],
   "source": [
    "new_test_transformed = scaler.transform(new_test_transformed)"
   ]
  },
  {
   "cell_type": "code",
   "execution_count": 112,
   "metadata": {},
   "outputs": [
    {
     "name": "stdout",
     "output_type": "stream",
     "text": [
      "The train dataset dimensions: (307511L, 253L)\n",
      "The test dataset dimensions: (48744L, 253L)\n",
      "The new test dataset dimensions: (124L, 253L)\n"
     ]
    }
   ],
   "source": [
    "print(\"The train dataset dimensions: {}\".format(train_transformed.shape))\n",
    "print(\"The test dataset dimensions: {}\".format(test_transformed.shape))\n",
    "print(\"The new test dataset dimensions: {}\".format(new_test_transformed.shape))"
   ]
  },
  {
   "cell_type": "markdown",
   "metadata": {},
   "source": [
    "<h2>Splitting Dataset into Training and Validation Set"
   ]
  },
  {
   "cell_type": "code",
   "execution_count": 115,
   "metadata": {},
   "outputs": [],
   "source": [
    "from sklearn.model_selection import train_test_split\n",
    "\n",
    "X_training_set, X_validation_set, y_training_set, y_validation_set = train_test_split(train_transformed, target, test_size=0.33, random_state=42)"
   ]
  },
  {
   "cell_type": "markdown",
   "metadata": {},
   "source": [
    "<h1>Creating the Model"
   ]
  },
  {
   "cell_type": "markdown",
   "metadata": {},
   "source": [
    "<h2>Logistic Regression"
   ]
  },
  {
   "cell_type": "code",
   "execution_count": 116,
   "metadata": {},
   "outputs": [],
   "source": [
    "from sklearn.linear_model import LogisticRegression\n",
    "\n",
    "logistic_regressor = LogisticRegression(C = 2)"
   ]
  },
  {
   "cell_type": "code",
   "execution_count": 117,
   "metadata": {},
   "outputs": [
    {
     "data": {
      "text/plain": [
       "LogisticRegression(C=2, class_weight=None, dual=False, fit_intercept=True,\n",
       "          intercept_scaling=1, max_iter=100, multi_class='warn',\n",
       "          n_jobs=None, penalty='l2', random_state=None, solver='warn',\n",
       "          tol=0.0001, verbose=0, warm_start=False)"
      ]
     },
     "execution_count": 117,
     "metadata": {},
     "output_type": "execute_result"
    }
   ],
   "source": [
    "logistic_regressor.fit(X_training_set,y_training_set)"
   ]
  },
  {
   "cell_type": "code",
   "execution_count": 118,
   "metadata": {},
   "outputs": [],
   "source": [
    "log_regression_pred = logistic_regressor.predict(X_validation_set)"
   ]
  },
  {
   "cell_type": "code",
   "execution_count": 119,
   "metadata": {},
   "outputs": [],
   "source": [
    "logistic_new = logistic_regressor.predict(new_test_transformed)"
   ]
  },
  {
   "cell_type": "code",
   "execution_count": 120,
   "metadata": {},
   "outputs": [
    {
     "data": {
      "text/plain": [
       "0    124\n",
       "Name: target, dtype: int64"
      ]
     },
     "execution_count": 120,
     "metadata": {},
     "output_type": "execute_result"
    }
   ],
   "source": [
    "pd.DataFrame({'target':logistic_new})['target'].value_counts()"
   ]
  },
  {
   "cell_type": "markdown",
   "metadata": {},
   "source": [
    "<h1>Accuracy Metrics with AUROC"
   ]
  },
  {
   "cell_type": "code",
   "execution_count": 121,
   "metadata": {},
   "outputs": [
    {
     "name": "stdout",
     "output_type": "stream",
     "text": [
      "('The accuracy in general is : ', 0.9200130076173395)\n",
      "\n",
      "\n",
      "('The classification report is as follows:\\n', u'              precision    recall  f1-score   support\\n\\n           0       0.92      1.00      0.96     93362\\n           1       0.50      0.01      0.02      8117\\n\\n   micro avg       0.92      0.92      0.92    101479\\n   macro avg       0.71      0.50      0.49    101479\\nweighted avg       0.89      0.92      0.88    101479\\n')\n",
      "('ROC AUC score is: ', 0.5034871041311515)\n"
     ]
    }
   ],
   "source": [
    "from sklearn.metrics import accuracy_score,classification_report, roc_auc_score\n",
    "print(\"The accuracy in general is : \", accuracy_score(y_validation_set,log_regression_pred))\n",
    "print(\"\\n\")\n",
    "print(\"The classification report is as follows:\\n\", classification_report(y_validation_set,log_regression_pred))\n",
    "print(\"ROC AUC score is: \",roc_auc_score(y_validation_set,log_regression_pred))"
   ]
  },
  {
   "cell_type": "code",
   "execution_count": 122,
   "metadata": {},
   "outputs": [],
   "source": [
    "log_regression_pred_test = logistic_regressor.predict_proba(test_transformed)"
   ]
  },
  {
   "cell_type": "code",
   "execution_count": 123,
   "metadata": {},
   "outputs": [
    {
     "data": {
      "text/plain": [
       "array([0.05342986, 0.20067074, 0.04960973, ..., 0.0489945 , 0.05287354,\n",
       "       0.12652108])"
      ]
     },
     "execution_count": 123,
     "metadata": {},
     "output_type": "execute_result"
    }
   ],
   "source": [
    "# selecting the second column\n",
    "log_regression_pred_test[:,1]"
   ]
  },
  {
   "cell_type": "code",
   "execution_count": 124,
   "metadata": {},
   "outputs": [],
   "source": [
    "submission_log_regression = test[['SK_ID_CURR']]\n",
    "submission_log_regression['TARGET'] = log_regression_pred_test[:,1]"
   ]
  },
  {
   "cell_type": "code",
   "execution_count": 125,
   "metadata": {},
   "outputs": [
    {
     "data": {
      "text/html": [
       "<div>\n",
       "<style scoped>\n",
       "    .dataframe tbody tr th:only-of-type {\n",
       "        vertical-align: middle;\n",
       "    }\n",
       "\n",
       "    .dataframe tbody tr th {\n",
       "        vertical-align: top;\n",
       "    }\n",
       "\n",
       "    .dataframe thead th {\n",
       "        text-align: right;\n",
       "    }\n",
       "</style>\n",
       "<table border=\"1\" class=\"dataframe\">\n",
       "  <thead>\n",
       "    <tr style=\"text-align: right;\">\n",
       "      <th></th>\n",
       "      <th>SK_ID_CURR</th>\n",
       "      <th>TARGET</th>\n",
       "    </tr>\n",
       "  </thead>\n",
       "  <tbody>\n",
       "    <tr>\n",
       "      <th>0</th>\n",
       "      <td>100001</td>\n",
       "      <td>0.053430</td>\n",
       "    </tr>\n",
       "    <tr>\n",
       "      <th>1</th>\n",
       "      <td>100005</td>\n",
       "      <td>0.200671</td>\n",
       "    </tr>\n",
       "    <tr>\n",
       "      <th>2</th>\n",
       "      <td>100013</td>\n",
       "      <td>0.049610</td>\n",
       "    </tr>\n",
       "    <tr>\n",
       "      <th>3</th>\n",
       "      <td>100028</td>\n",
       "      <td>0.036040</td>\n",
       "    </tr>\n",
       "    <tr>\n",
       "      <th>4</th>\n",
       "      <td>100038</td>\n",
       "      <td>0.118125</td>\n",
       "    </tr>\n",
       "    <tr>\n",
       "      <th>5</th>\n",
       "      <td>100042</td>\n",
       "      <td>0.021865</td>\n",
       "    </tr>\n",
       "    <tr>\n",
       "      <th>6</th>\n",
       "      <td>100057</td>\n",
       "      <td>0.018965</td>\n",
       "    </tr>\n",
       "    <tr>\n",
       "      <th>7</th>\n",
       "      <td>100065</td>\n",
       "      <td>0.099981</td>\n",
       "    </tr>\n",
       "    <tr>\n",
       "      <th>8</th>\n",
       "      <td>100066</td>\n",
       "      <td>0.013653</td>\n",
       "    </tr>\n",
       "    <tr>\n",
       "      <th>9</th>\n",
       "      <td>100067</td>\n",
       "      <td>0.103332</td>\n",
       "    </tr>\n",
       "  </tbody>\n",
       "</table>\n",
       "</div>"
      ],
      "text/plain": [
       "   SK_ID_CURR    TARGET\n",
       "0      100001  0.053430\n",
       "1      100005  0.200671\n",
       "2      100013  0.049610\n",
       "3      100028  0.036040\n",
       "4      100038  0.118125\n",
       "5      100042  0.021865\n",
       "6      100057  0.018965\n",
       "7      100065  0.099981\n",
       "8      100066  0.013653\n",
       "9      100067  0.103332"
      ]
     },
     "execution_count": 125,
     "metadata": {},
     "output_type": "execute_result"
    }
   ],
   "source": [
    "submission_log_regression.head(10)"
   ]
  },
  {
   "cell_type": "code",
   "execution_count": 126,
   "metadata": {},
   "outputs": [],
   "source": [
    "submission_log_regression.to_csv(\"log_regression.csv\",index=False)"
   ]
  }
 ],
 "metadata": {
  "kernelspec": {
   "display_name": "Python 2",
   "language": "python",
   "name": "python2"
  },
  "language_info": {
   "codemirror_mode": {
    "name": "ipython",
    "version": 2
   },
   "file_extension": ".py",
   "mimetype": "text/x-python",
   "name": "python",
   "nbconvert_exporter": "python",
   "pygments_lexer": "ipython2",
   "version": "2.7.18"
  }
 },
 "nbformat": 4,
 "nbformat_minor": 4
}
